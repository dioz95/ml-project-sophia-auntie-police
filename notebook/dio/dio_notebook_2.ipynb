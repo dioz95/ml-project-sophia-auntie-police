{
 "cells": [
  {
   "cell_type": "code",
   "execution_count": 2,
   "id": "38eb5adf",
   "metadata": {},
   "outputs": [],
   "source": [
    "# !pip install category_encoders"
   ]
  },
  {
   "cell_type": "code",
   "execution_count": 1,
   "id": "27090b01",
   "metadata": {},
   "outputs": [],
   "source": [
    "import numpy as np\n",
    "import pandas as pd\n",
    "import matplotlib.pyplot as plt\n",
    "%matplotlib inline\n",
    "\n",
    "import seaborn as sns\n",
    "from datetime import datetime\n",
    "\n",
    "from sklearn.preprocessing import StandardScaler, PolynomialFeatures\n",
    "from sklearn.pipeline import Pipeline\n",
    "from sklearn.compose import ColumnTransformer\n",
    "\n",
    "import category_encoders as ce\n",
    "\n",
    "from sklearn.model_selection import train_test_split, KFold, GridSearchCV\n",
    "from sklearn.model_selection import cross_validate\n",
    "\n",
    "from sklearn.linear_model import LinearRegression\n",
    "from sklearn.svm import SVR\n",
    "from sklearn.ensemble import RandomForestRegressor, GradientBoostingRegressor\n",
    "from sklearn.metrics import r2_score, mean_squared_error\n",
    "\n",
    "import pickle"
   ]
  },
  {
   "cell_type": "markdown",
   "id": "9fc62ba9",
   "metadata": {},
   "source": [
    "## Load Data"
   ]
  },
  {
   "cell_type": "code",
   "execution_count": 167,
   "id": "ae5c7c3c",
   "metadata": {},
   "outputs": [],
   "source": [
    "df = pd.read_csv('books.csv')"
   ]
  },
  {
   "cell_type": "code",
   "execution_count": 168,
   "id": "d291332f",
   "metadata": {},
   "outputs": [
    {
     "data": {
      "text/html": [
       "<div>\n",
       "<style scoped>\n",
       "    .dataframe tbody tr th:only-of-type {\n",
       "        vertical-align: middle;\n",
       "    }\n",
       "\n",
       "    .dataframe tbody tr th {\n",
       "        vertical-align: top;\n",
       "    }\n",
       "\n",
       "    .dataframe thead th {\n",
       "        text-align: right;\n",
       "    }\n",
       "</style>\n",
       "<table border=\"1\" class=\"dataframe\">\n",
       "  <thead>\n",
       "    <tr style=\"text-align: right;\">\n",
       "      <th></th>\n",
       "      <th>bookID</th>\n",
       "      <th>title</th>\n",
       "      <th>authors</th>\n",
       "      <th>average_rating</th>\n",
       "      <th>isbn</th>\n",
       "      <th>isbn13</th>\n",
       "      <th>language_code</th>\n",
       "      <th>num_pages</th>\n",
       "      <th>ratings_count</th>\n",
       "      <th>text_reviews_count</th>\n",
       "      <th>publication_date</th>\n",
       "      <th>publisher</th>\n",
       "    </tr>\n",
       "  </thead>\n",
       "  <tbody>\n",
       "    <tr>\n",
       "      <th>0</th>\n",
       "      <td>1</td>\n",
       "      <td>Harry Potter and the Half-Blood Prince (Harry ...</td>\n",
       "      <td>J.K. Rowling/Mary GrandPré</td>\n",
       "      <td>4.57</td>\n",
       "      <td>0439785960</td>\n",
       "      <td>9.780440e+12</td>\n",
       "      <td>eng</td>\n",
       "      <td>652</td>\n",
       "      <td>2095690</td>\n",
       "      <td>27591</td>\n",
       "      <td>9/16/2006</td>\n",
       "      <td>Scholastic Inc.</td>\n",
       "    </tr>\n",
       "    <tr>\n",
       "      <th>1</th>\n",
       "      <td>2</td>\n",
       "      <td>Harry Potter and the Order of the Phoenix (Har...</td>\n",
       "      <td>J.K. Rowling/Mary GrandPré</td>\n",
       "      <td>4.49</td>\n",
       "      <td>0439358078</td>\n",
       "      <td>9.780440e+12</td>\n",
       "      <td>eng</td>\n",
       "      <td>870</td>\n",
       "      <td>2153167</td>\n",
       "      <td>29221</td>\n",
       "      <td>09/01/2004</td>\n",
       "      <td>Scholastic Inc.</td>\n",
       "    </tr>\n",
       "    <tr>\n",
       "      <th>2</th>\n",
       "      <td>4</td>\n",
       "      <td>Harry Potter and the Chamber of Secrets (Harry...</td>\n",
       "      <td>J.K. Rowling</td>\n",
       "      <td>4.42</td>\n",
       "      <td>0439554896</td>\n",
       "      <td>9.780440e+12</td>\n",
       "      <td>eng</td>\n",
       "      <td>352</td>\n",
       "      <td>6333</td>\n",
       "      <td>244</td>\n",
       "      <td>11/01/2003</td>\n",
       "      <td>Scholastic</td>\n",
       "    </tr>\n",
       "    <tr>\n",
       "      <th>3</th>\n",
       "      <td>5</td>\n",
       "      <td>Harry Potter and the Prisoner of Azkaban (Harr...</td>\n",
       "      <td>J.K. Rowling/Mary GrandPré</td>\n",
       "      <td>4.56</td>\n",
       "      <td>043965548X</td>\n",
       "      <td>9.780440e+12</td>\n",
       "      <td>eng</td>\n",
       "      <td>435</td>\n",
       "      <td>2339585</td>\n",
       "      <td>36325</td>\n",
       "      <td>05/01/2004</td>\n",
       "      <td>Scholastic Inc.</td>\n",
       "    </tr>\n",
       "    <tr>\n",
       "      <th>4</th>\n",
       "      <td>8</td>\n",
       "      <td>Harry Potter Boxed Set  Books 1-5 (Harry Potte...</td>\n",
       "      <td>J.K. Rowling/Mary GrandPré</td>\n",
       "      <td>4.78</td>\n",
       "      <td>0439682584</td>\n",
       "      <td>9.780440e+12</td>\n",
       "      <td>eng</td>\n",
       "      <td>2690</td>\n",
       "      <td>41428</td>\n",
       "      <td>164</td>\n",
       "      <td>9/13/2004</td>\n",
       "      <td>Scholastic</td>\n",
       "    </tr>\n",
       "  </tbody>\n",
       "</table>\n",
       "</div>"
      ],
      "text/plain": [
       "   bookID                                              title  \\\n",
       "0       1  Harry Potter and the Half-Blood Prince (Harry ...   \n",
       "1       2  Harry Potter and the Order of the Phoenix (Har...   \n",
       "2       4  Harry Potter and the Chamber of Secrets (Harry...   \n",
       "3       5  Harry Potter and the Prisoner of Azkaban (Harr...   \n",
       "4       8  Harry Potter Boxed Set  Books 1-5 (Harry Potte...   \n",
       "\n",
       "                      authors  average_rating        isbn        isbn13  \\\n",
       "0  J.K. Rowling/Mary GrandPré            4.57  0439785960  9.780440e+12   \n",
       "1  J.K. Rowling/Mary GrandPré            4.49  0439358078  9.780440e+12   \n",
       "2                J.K. Rowling            4.42  0439554896  9.780440e+12   \n",
       "3  J.K. Rowling/Mary GrandPré            4.56  043965548X  9.780440e+12   \n",
       "4  J.K. Rowling/Mary GrandPré            4.78  0439682584  9.780440e+12   \n",
       "\n",
       "  language_code    num_pages  ratings_count  text_reviews_count  \\\n",
       "0           eng          652        2095690               27591   \n",
       "1           eng          870        2153167               29221   \n",
       "2           eng          352           6333                 244   \n",
       "3           eng          435        2339585               36325   \n",
       "4           eng         2690          41428                 164   \n",
       "\n",
       "  publication_date        publisher  \n",
       "0        9/16/2006  Scholastic Inc.  \n",
       "1       09/01/2004  Scholastic Inc.  \n",
       "2       11/01/2003       Scholastic  \n",
       "3       05/01/2004  Scholastic Inc.  \n",
       "4        9/13/2004       Scholastic  "
      ]
     },
     "execution_count": 168,
     "metadata": {},
     "output_type": "execute_result"
    }
   ],
   "source": [
    "df.head()"
   ]
  },
  {
   "cell_type": "markdown",
   "id": "c8e3d94d",
   "metadata": {},
   "source": [
    "## Data Cleaning"
   ]
  },
  {
   "cell_type": "markdown",
   "id": "edb9a421",
   "metadata": {},
   "source": [
    "The code below will delete the extra whitespace in the columns that have string data type."
   ]
  },
  {
   "cell_type": "code",
   "execution_count": 169,
   "id": "0f52eb16",
   "metadata": {},
   "outputs": [],
   "source": [
    "df.rename(columns=lambda x: x.strip(), inplace=True)"
   ]
  },
  {
   "cell_type": "markdown",
   "id": "acf7dc67",
   "metadata": {},
   "source": [
    "## Data Analysis and Preprocessing"
   ]
  },
  {
   "cell_type": "markdown",
   "id": "0fbb44a6",
   "metadata": {},
   "source": [
    "### Target Analysis"
   ]
  },
  {
   "cell_type": "code",
   "execution_count": 170,
   "id": "0db1624d",
   "metadata": {
    "scrolled": true
   },
   "outputs": [
    {
     "data": {
      "text/plain": [
       "bookID                0\n",
       "title                 0\n",
       "authors               0\n",
       "average_rating        0\n",
       "isbn                  0\n",
       "isbn13                0\n",
       "language_code         0\n",
       "num_pages             0\n",
       "ratings_count         0\n",
       "text_reviews_count    0\n",
       "publication_date      0\n",
       "publisher             0\n",
       "dtype: int64"
      ]
     },
     "execution_count": 170,
     "metadata": {},
     "output_type": "execute_result"
    }
   ],
   "source": [
    "df.isna().sum()"
   ]
  },
  {
   "cell_type": "markdown",
   "id": "4fde7fa8",
   "metadata": {},
   "source": [
    "There is no \"official\" missing value in the dataset (column with `NaN` value) but if we look closely in the target column (`average_rating`), there are some rows that have zero value. Intuitivelty, we can think that these books are very bad so reviewers don't hesitate to give 0 score while rating the book"
   ]
  },
  {
   "cell_type": "code",
   "execution_count": 171,
   "id": "fa67de00",
   "metadata": {},
   "outputs": [
    {
     "name": "stderr",
     "output_type": "stream",
     "text": [
      "C:\\Users\\adven\\anaconda3\\envs\\python_bootcamp\\lib\\site-packages\\seaborn\\axisgrid.py:118: UserWarning: The figure layout has changed to tight\n",
      "  self._figure.tight_layout(*args, **kwargs)\n"
     ]
    },
    {
     "data": {
      "image/png": "[encoded data removed]",
      "text/plain": [
       "<Figure size 500x500 with 1 Axes>"
      ]
     },
     "metadata": {},
     "output_type": "display_data"
    }
   ],
   "source": [
    "sns.displot(df['average_rating']);"
   ]
  },
  {
   "cell_type": "code",
   "execution_count": 172,
   "id": "2f812f12",
   "metadata": {},
   "outputs": [
    {
     "data": {
      "text/html": [
       "<div>\n",
       "<style scoped>\n",
       "    .dataframe tbody tr th:only-of-type {\n",
       "        vertical-align: middle;\n",
       "    }\n",
       "\n",
       "    .dataframe tbody tr th {\n",
       "        vertical-align: top;\n",
       "    }\n",
       "\n",
       "    .dataframe thead th {\n",
       "        text-align: right;\n",
       "    }\n",
       "</style>\n",
       "<table border=\"1\" class=\"dataframe\">\n",
       "  <thead>\n",
       "    <tr style=\"text-align: right;\">\n",
       "      <th></th>\n",
       "      <th>bookID</th>\n",
       "      <th>title</th>\n",
       "      <th>authors</th>\n",
       "      <th>average_rating</th>\n",
       "      <th>isbn</th>\n",
       "      <th>isbn13</th>\n",
       "      <th>language_code</th>\n",
       "      <th>num_pages</th>\n",
       "      <th>ratings_count</th>\n",
       "      <th>text_reviews_count</th>\n",
       "      <th>publication_date</th>\n",
       "      <th>publisher</th>\n",
       "    </tr>\n",
       "  </thead>\n",
       "  <tbody>\n",
       "    <tr>\n",
       "      <th>265</th>\n",
       "      <td>799</td>\n",
       "      <td>Out to Eat London 2002 (Lonely Planet Out to Eat)</td>\n",
       "      <td>Lonely Planet/Mark Honan</td>\n",
       "      <td>0.0</td>\n",
       "      <td>1740592050</td>\n",
       "      <td>9.781740e+12</td>\n",
       "      <td>eng</td>\n",
       "      <td>295</td>\n",
       "      <td>0</td>\n",
       "      <td>0</td>\n",
       "      <td>09/01/2001</td>\n",
       "      <td>Lonely Planet</td>\n",
       "    </tr>\n",
       "    <tr>\n",
       "      <th>375</th>\n",
       "      <td>1302</td>\n",
       "      <td>Juiced Official Strategy Guide</td>\n",
       "      <td>Doug Walsh</td>\n",
       "      <td>0.0</td>\n",
       "      <td>0744005612</td>\n",
       "      <td>9.780740e+12</td>\n",
       "      <td>eng</td>\n",
       "      <td>112</td>\n",
       "      <td>0</td>\n",
       "      <td>0</td>\n",
       "      <td>06/01/2005</td>\n",
       "      <td>BradyGames</td>\n",
       "    </tr>\n",
       "    <tr>\n",
       "      <th>987</th>\n",
       "      <td>3351</td>\n",
       "      <td>Open City 6: The Only Woman He Ever Left</td>\n",
       "      <td>Open City Magazine/James Purdy/Daniel Pinchbec...</td>\n",
       "      <td>0.0</td>\n",
       "      <td>189044717X</td>\n",
       "      <td>9.781890e+12</td>\n",
       "      <td>eng</td>\n",
       "      <td>200</td>\n",
       "      <td>0</td>\n",
       "      <td>0</td>\n",
       "      <td>10/13/2000</td>\n",
       "      <td>Grove Press  Open City Books</td>\n",
       "    </tr>\n",
       "    <tr>\n",
       "      <th>2532</th>\n",
       "      <td>9337</td>\n",
       "      <td>How To Meditate: An Anthology Of Talks On Medi...</td>\n",
       "      <td>Frederick P. Lenz</td>\n",
       "      <td>0.0</td>\n",
       "      <td>1932206108</td>\n",
       "      <td>9.781930e+12</td>\n",
       "      <td>eng</td>\n",
       "      <td>228</td>\n",
       "      <td>0</td>\n",
       "      <td>0</td>\n",
       "      <td>01/01/2004</td>\n",
       "      <td>Frederick P. Lenz Foundation for American Budd...</td>\n",
       "    </tr>\n",
       "    <tr>\n",
       "      <th>2533</th>\n",
       "      <td>9338</td>\n",
       "      <td>Insights: Talks On The Nature Of Existence</td>\n",
       "      <td>Frederick P. Lenz</td>\n",
       "      <td>0.0</td>\n",
       "      <td>1932206086</td>\n",
       "      <td>9.781930e+12</td>\n",
       "      <td>eng</td>\n",
       "      <td>304</td>\n",
       "      <td>0</td>\n",
       "      <td>0</td>\n",
       "      <td>01/01/2003</td>\n",
       "      <td>Frederick P. Lenz Foundation for American Budd...</td>\n",
       "    </tr>\n",
       "    <tr>\n",
       "      <th>2758</th>\n",
       "      <td>10200</td>\n",
       "      <td>Venac sonetnih venaca; Puževa srma</td>\n",
       "      <td>Dobrica Erić</td>\n",
       "      <td>0.0</td>\n",
       "      <td>8644101277</td>\n",
       "      <td>9.788640e+12</td>\n",
       "      <td>srp</td>\n",
       "      <td>222</td>\n",
       "      <td>0</td>\n",
       "      <td>0</td>\n",
       "      <td>01/01/1996</td>\n",
       "      <td>Izdavačka agencija \"Draganić\"</td>\n",
       "    </tr>\n",
       "    <tr>\n",
       "      <th>3493</th>\n",
       "      <td>12712</td>\n",
       "      <td>Brodie's notes on Aldous Huxley's brave new world</td>\n",
       "      <td>Graham Handley</td>\n",
       "      <td>0.0</td>\n",
       "      <td>0333581296</td>\n",
       "      <td>9.780330e+12</td>\n",
       "      <td>eng</td>\n",
       "      <td>71</td>\n",
       "      <td>0</td>\n",
       "      <td>0</td>\n",
       "      <td>8/20/1992</td>\n",
       "      <td>Macmillan</td>\n",
       "    </tr>\n",
       "    <tr>\n",
       "      <th>4242</th>\n",
       "      <td>15186</td>\n",
       "      <td>American Film Guide</td>\n",
       "      <td>Frank N. Magill</td>\n",
       "      <td>0.0</td>\n",
       "      <td>0893562505</td>\n",
       "      <td>9.780890e+12</td>\n",
       "      <td>eng</td>\n",
       "      <td>5</td>\n",
       "      <td>0</td>\n",
       "      <td>0</td>\n",
       "      <td>01/01/1983</td>\n",
       "      <td>Salem Press Inc</td>\n",
       "    </tr>\n",
       "    <tr>\n",
       "      <th>4678</th>\n",
       "      <td>16806</td>\n",
       "      <td>The Man and the Author: John Milton: Twentieth...</td>\n",
       "      <td>J. Martin Evans</td>\n",
       "      <td>0.0</td>\n",
       "      <td>0415940478</td>\n",
       "      <td>9.780420e+12</td>\n",
       "      <td>eng</td>\n",
       "      <td>386</td>\n",
       "      <td>0</td>\n",
       "      <td>0</td>\n",
       "      <td>11/08/2002</td>\n",
       "      <td>Routledge</td>\n",
       "    </tr>\n",
       "    <tr>\n",
       "      <th>5325</th>\n",
       "      <td>19257</td>\n",
       "      <td>Canopy: A Work for Voice and Light in Harvard ...</td>\n",
       "      <td>David   Ward/Parveen Adams/Seamus Heaney/Ivan ...</td>\n",
       "      <td>0.0</td>\n",
       "      <td>0916724948</td>\n",
       "      <td>9.780920e+12</td>\n",
       "      <td>eng</td>\n",
       "      <td>63</td>\n",
       "      <td>0</td>\n",
       "      <td>0</td>\n",
       "      <td>12/31/1997</td>\n",
       "      <td>Arts Publications</td>\n",
       "    </tr>\n",
       "    <tr>\n",
       "      <th>6383</th>\n",
       "      <td>24010</td>\n",
       "      <td>Laguna  I Love You: The Best of \"Our Town\"</td>\n",
       "      <td>John Weld/Phil Interlandi</td>\n",
       "      <td>0.0</td>\n",
       "      <td>1564741575</td>\n",
       "      <td>9.781560e+12</td>\n",
       "      <td>eng</td>\n",
       "      <td>285</td>\n",
       "      <td>0</td>\n",
       "      <td>0</td>\n",
       "      <td>03/01/1996</td>\n",
       "      <td>Fithian Press</td>\n",
       "    </tr>\n",
       "    <tr>\n",
       "      <th>6561</th>\n",
       "      <td>24749</td>\n",
       "      <td>American Writers  Supplement VIII</td>\n",
       "      <td>Jay Parini/August Wilson</td>\n",
       "      <td>0.0</td>\n",
       "      <td>0684806371</td>\n",
       "      <td>9.780680e+12</td>\n",
       "      <td>eng</td>\n",
       "      <td>400</td>\n",
       "      <td>0</td>\n",
       "      <td>0</td>\n",
       "      <td>05/01/2001</td>\n",
       "      <td>Gale Cengage</td>\n",
       "    </tr>\n",
       "    <tr>\n",
       "      <th>6862</th>\n",
       "      <td>25841</td>\n",
       "      <td>The Road To War  1933 39</td>\n",
       "      <td>Andrew      Hunt</td>\n",
       "      <td>0.0</td>\n",
       "      <td>0340774770</td>\n",
       "      <td>9.780340e+12</td>\n",
       "      <td>eng</td>\n",
       "      <td>128</td>\n",
       "      <td>0</td>\n",
       "      <td>0</td>\n",
       "      <td>04/01/2000</td>\n",
       "      <td>Hodder &amp; Stoughton Educational Division</td>\n",
       "    </tr>\n",
       "    <tr>\n",
       "      <th>6880</th>\n",
       "      <td>25903</td>\n",
       "      <td>I'll Be Home Before Midnight and I Won't Get P...</td>\n",
       "      <td>Anthony E. Wolf</td>\n",
       "      <td>0.0</td>\n",
       "      <td>0394755669</td>\n",
       "      <td>9.780390e+12</td>\n",
       "      <td>eng</td>\n",
       "      <td>288</td>\n",
       "      <td>0</td>\n",
       "      <td>0</td>\n",
       "      <td>05/12/1988</td>\n",
       "      <td>Knopf Doubleday Publishing Group</td>\n",
       "    </tr>\n",
       "    <tr>\n",
       "      <th>7147</th>\n",
       "      <td>27416</td>\n",
       "      <td>Mythographi Graeci 1: Apollodori Bibliotheca  ...</td>\n",
       "      <td>Apollodorus/Richard Wagner</td>\n",
       "      <td>0.0</td>\n",
       "      <td>3598715439</td>\n",
       "      <td>9.783600e+12</td>\n",
       "      <td>grc</td>\n",
       "      <td>335</td>\n",
       "      <td>0</td>\n",
       "      <td>0</td>\n",
       "      <td>7/15/1998</td>\n",
       "      <td>K.G. Saur Verlag</td>\n",
       "    </tr>\n",
       "    <tr>\n",
       "      <th>7402</th>\n",
       "      <td>28467</td>\n",
       "      <td>Sclerotherapy and vein treatment</td>\n",
       "      <td>Robert A. Weiss/Margaret A. Weiss/Karen L. Bea...</td>\n",
       "      <td>0.0</td>\n",
       "      <td>0071485422</td>\n",
       "      <td>9.780070e+12</td>\n",
       "      <td>eng</td>\n",
       "      <td>248</td>\n",
       "      <td>0</td>\n",
       "      <td>0</td>\n",
       "      <td>12/30/2011</td>\n",
       "      <td>McGraw-Hill Professional Publishing</td>\n",
       "    </tr>\n",
       "    <tr>\n",
       "      <th>7576</th>\n",
       "      <td>29091</td>\n",
       "      <td>The Berlin Phenomenology</td>\n",
       "      <td>Georg Wilhelm Friedrich Hegel/Michael John Petry</td>\n",
       "      <td>0.0</td>\n",
       "      <td>9027712050</td>\n",
       "      <td>9.789030e+12</td>\n",
       "      <td>eng</td>\n",
       "      <td>210</td>\n",
       "      <td>0</td>\n",
       "      <td>0</td>\n",
       "      <td>5/31/1981</td>\n",
       "      <td>Springer</td>\n",
       "    </tr>\n",
       "    <tr>\n",
       "      <th>7637</th>\n",
       "      <td>29404</td>\n",
       "      <td>Your Child and Jesus: A Family Activity Book</td>\n",
       "      <td>Rick Osborne/Kevin Miller</td>\n",
       "      <td>0.0</td>\n",
       "      <td>080242855X</td>\n",
       "      <td>9.780800e+12</td>\n",
       "      <td>eng</td>\n",
       "      <td>112</td>\n",
       "      <td>0</td>\n",
       "      <td>0</td>\n",
       "      <td>9/13/1999</td>\n",
       "      <td>Moody Publishers</td>\n",
       "    </tr>\n",
       "    <tr>\n",
       "      <th>7800</th>\n",
       "      <td>30080</td>\n",
       "      <td>Beckett Football Card Price Guide</td>\n",
       "      <td>Dan Hitt/James Beckett III</td>\n",
       "      <td>0.0</td>\n",
       "      <td>1930692471</td>\n",
       "      <td>9.781930e+12</td>\n",
       "      <td>eng</td>\n",
       "      <td>830</td>\n",
       "      <td>0</td>\n",
       "      <td>0</td>\n",
       "      <td>09/01/2006</td>\n",
       "      <td>Beckett Media</td>\n",
       "    </tr>\n",
       "    <tr>\n",
       "      <th>8979</th>\n",
       "      <td>34889</td>\n",
       "      <td>Brown's Star Atlas: Showing All The Bright Sta...</td>\n",
       "      <td>Brown Son &amp; Ferguson</td>\n",
       "      <td>0.0</td>\n",
       "      <td>0851742718</td>\n",
       "      <td>9.780850e+12</td>\n",
       "      <td>eng</td>\n",
       "      <td>49</td>\n",
       "      <td>0</td>\n",
       "      <td>0</td>\n",
       "      <td>05/01/1977</td>\n",
       "      <td>Brown Son &amp; Ferguson Ltd.</td>\n",
       "    </tr>\n",
       "    <tr>\n",
       "      <th>9335</th>\n",
       "      <td>36946</td>\n",
       "      <td>Random House Crossword Mega Omnibus  Volume 1</td>\n",
       "      <td>United Feature Syndication</td>\n",
       "      <td>0.0</td>\n",
       "      <td>081292763X</td>\n",
       "      <td>9.780810e+12</td>\n",
       "      <td>eng</td>\n",
       "      <td>336</td>\n",
       "      <td>0</td>\n",
       "      <td>0</td>\n",
       "      <td>7/22/1997</td>\n",
       "      <td>Random House Puzzles &amp; Games</td>\n",
       "    </tr>\n",
       "    <tr>\n",
       "      <th>9441</th>\n",
       "      <td>37467</td>\n",
       "      <td>Classroom Interactions as Cross-Cultural Encou...</td>\n",
       "      <td>Jasmine C.M. Luk/Angel M.Y. Lin</td>\n",
       "      <td>0.0</td>\n",
       "      <td>0805850848</td>\n",
       "      <td>9.780810e+12</td>\n",
       "      <td>eng</td>\n",
       "      <td>241</td>\n",
       "      <td>0</td>\n",
       "      <td>0</td>\n",
       "      <td>08/05/2006</td>\n",
       "      <td>Routledge</td>\n",
       "    </tr>\n",
       "    <tr>\n",
       "      <th>10142</th>\n",
       "      <td>41044</td>\n",
       "      <td>Day and Night</td>\n",
       "      <td>Better Homes and Gardens</td>\n",
       "      <td>0.0</td>\n",
       "      <td>0696018829</td>\n",
       "      <td>9.780700e+12</td>\n",
       "      <td>eng</td>\n",
       "      <td>32</td>\n",
       "      <td>0</td>\n",
       "      <td>1</td>\n",
       "      <td>03/01/1989</td>\n",
       "      <td>Meredith Corporation</td>\n",
       "    </tr>\n",
       "    <tr>\n",
       "      <th>10501</th>\n",
       "      <td>42758</td>\n",
       "      <td>The Fantastic Vampire: Studies in the Children...</td>\n",
       "      <td>James Craig Holte</td>\n",
       "      <td>0.0</td>\n",
       "      <td>0313309337</td>\n",
       "      <td>9.780310e+12</td>\n",
       "      <td>eng</td>\n",
       "      <td>176</td>\n",
       "      <td>0</td>\n",
       "      <td>0</td>\n",
       "      <td>3/30/2002</td>\n",
       "      <td>Greenwood Press</td>\n",
       "    </tr>\n",
       "    <tr>\n",
       "      <th>10921</th>\n",
       "      <td>44705</td>\n",
       "      <td>The Leadership Challenge: Skills for Taking Ch...</td>\n",
       "      <td>Warren G. Bennis</td>\n",
       "      <td>0.0</td>\n",
       "      <td>088684049X</td>\n",
       "      <td>9.780890e+12</td>\n",
       "      <td>eng</td>\n",
       "      <td>60</td>\n",
       "      <td>0</td>\n",
       "      <td>0</td>\n",
       "      <td>12/01/1985</td>\n",
       "      <td>AMR/Advanced Management Reports</td>\n",
       "    </tr>\n",
       "    <tr>\n",
       "      <th>11031</th>\n",
       "      <td>45259</td>\n",
       "      <td>Anthony Thwaite: In Conversation With Peter Da...</td>\n",
       "      <td>Peter  Dale/Ian          Hamilton/Anthony Thwaite</td>\n",
       "      <td>0.0</td>\n",
       "      <td>0953284123</td>\n",
       "      <td>9.780950e+12</td>\n",
       "      <td>eng</td>\n",
       "      <td>96</td>\n",
       "      <td>0</td>\n",
       "      <td>0</td>\n",
       "      <td>12/09/1999</td>\n",
       "      <td>Between the Lines Productions</td>\n",
       "    </tr>\n",
       "  </tbody>\n",
       "</table>\n",
       "</div>"
      ],
      "text/plain": [
       "       bookID                                              title  \\\n",
       "265       799  Out to Eat London 2002 (Lonely Planet Out to Eat)   \n",
       "375      1302                     Juiced Official Strategy Guide   \n",
       "987      3351           Open City 6: The Only Woman He Ever Left   \n",
       "2532     9337  How To Meditate: An Anthology Of Talks On Medi...   \n",
       "2533     9338         Insights: Talks On The Nature Of Existence   \n",
       "2758    10200                Venac sonetnih venaca; Puževa srma   \n",
       "3493    12712  Brodie's notes on Aldous Huxley's brave new world   \n",
       "4242    15186                                American Film Guide   \n",
       "4678    16806  The Man and the Author: John Milton: Twentieth...   \n",
       "5325    19257  Canopy: A Work for Voice and Light in Harvard ...   \n",
       "6383    24010         Laguna  I Love You: The Best of \"Our Town\"   \n",
       "6561    24749                  American Writers  Supplement VIII   \n",
       "6862    25841                           The Road To War  1933 39   \n",
       "6880    25903  I'll Be Home Before Midnight and I Won't Get P...   \n",
       "7147    27416  Mythographi Graeci 1: Apollodori Bibliotheca  ...   \n",
       "7402    28467                   Sclerotherapy and vein treatment   \n",
       "7576    29091                           The Berlin Phenomenology   \n",
       "7637    29404       Your Child and Jesus: A Family Activity Book   \n",
       "7800    30080                  Beckett Football Card Price Guide   \n",
       "8979    34889  Brown's Star Atlas: Showing All The Bright Sta...   \n",
       "9335    36946      Random House Crossword Mega Omnibus  Volume 1   \n",
       "9441    37467  Classroom Interactions as Cross-Cultural Encou...   \n",
       "10142   41044                                      Day and Night   \n",
       "10501   42758  The Fantastic Vampire: Studies in the Children...   \n",
       "10921   44705  The Leadership Challenge: Skills for Taking Ch...   \n",
       "11031   45259  Anthony Thwaite: In Conversation With Peter Da...   \n",
       "\n",
       "                                                 authors  average_rating  \\\n",
       "265                             Lonely Planet/Mark Honan             0.0   \n",
       "375                                           Doug Walsh             0.0   \n",
       "987    Open City Magazine/James Purdy/Daniel Pinchbec...             0.0   \n",
       "2532                                   Frederick P. Lenz             0.0   \n",
       "2533                                   Frederick P. Lenz             0.0   \n",
       "2758                                        Dobrica Erić             0.0   \n",
       "3493                                      Graham Handley             0.0   \n",
       "4242                                     Frank N. Magill             0.0   \n",
       "4678                                     J. Martin Evans             0.0   \n",
       "5325   David   Ward/Parveen Adams/Seamus Heaney/Ivan ...             0.0   \n",
       "6383                           John Weld/Phil Interlandi             0.0   \n",
       "6561                            Jay Parini/August Wilson             0.0   \n",
       "6862                                    Andrew      Hunt             0.0   \n",
       "6880                                     Anthony E. Wolf             0.0   \n",
       "7147                          Apollodorus/Richard Wagner             0.0   \n",
       "7402   Robert A. Weiss/Margaret A. Weiss/Karen L. Bea...             0.0   \n",
       "7576    Georg Wilhelm Friedrich Hegel/Michael John Petry             0.0   \n",
       "7637                           Rick Osborne/Kevin Miller             0.0   \n",
       "7800                          Dan Hitt/James Beckett III             0.0   \n",
       "8979                                Brown Son & Ferguson             0.0   \n",
       "9335                          United Feature Syndication             0.0   \n",
       "9441                     Jasmine C.M. Luk/Angel M.Y. Lin             0.0   \n",
       "10142                           Better Homes and Gardens             0.0   \n",
       "10501                                  James Craig Holte             0.0   \n",
       "10921                                   Warren G. Bennis             0.0   \n",
       "11031  Peter  Dale/Ian          Hamilton/Anthony Thwaite             0.0   \n",
       "\n",
       "             isbn        isbn13 language_code  num_pages  ratings_count  \\\n",
       "265    1740592050  9.781740e+12           eng        295              0   \n",
       "375    0744005612  9.780740e+12           eng        112              0   \n",
       "987    189044717X  9.781890e+12           eng        200              0   \n",
       "2532   1932206108  9.781930e+12           eng        228              0   \n",
       "2533   1932206086  9.781930e+12           eng        304              0   \n",
       "2758   8644101277  9.788640e+12           srp        222              0   \n",
       "3493   0333581296  9.780330e+12           eng         71              0   \n",
       "4242   0893562505  9.780890e+12           eng          5              0   \n",
       "4678   0415940478  9.780420e+12           eng        386              0   \n",
       "5325   0916724948  9.780920e+12           eng         63              0   \n",
       "6383   1564741575  9.781560e+12           eng        285              0   \n",
       "6561   0684806371  9.780680e+12           eng        400              0   \n",
       "6862   0340774770  9.780340e+12           eng        128              0   \n",
       "6880   0394755669  9.780390e+12           eng        288              0   \n",
       "7147   3598715439  9.783600e+12           grc        335              0   \n",
       "7402   0071485422  9.780070e+12           eng        248              0   \n",
       "7576   9027712050  9.789030e+12           eng        210              0   \n",
       "7637   080242855X  9.780800e+12           eng        112              0   \n",
       "7800   1930692471  9.781930e+12           eng        830              0   \n",
       "8979   0851742718  9.780850e+12           eng         49              0   \n",
       "9335   081292763X  9.780810e+12           eng        336              0   \n",
       "9441   0805850848  9.780810e+12           eng        241              0   \n",
       "10142  0696018829  9.780700e+12           eng         32              0   \n",
       "10501  0313309337  9.780310e+12           eng        176              0   \n",
       "10921  088684049X  9.780890e+12           eng         60              0   \n",
       "11031  0953284123  9.780950e+12           eng         96              0   \n",
       "\n",
       "       text_reviews_count publication_date  \\\n",
       "265                     0       09/01/2001   \n",
       "375                     0       06/01/2005   \n",
       "987                     0       10/13/2000   \n",
       "2532                    0       01/01/2004   \n",
       "2533                    0       01/01/2003   \n",
       "2758                    0       01/01/1996   \n",
       "3493                    0        8/20/1992   \n",
       "4242                    0       01/01/1983   \n",
       "4678                    0       11/08/2002   \n",
       "5325                    0       12/31/1997   \n",
       "6383                    0       03/01/1996   \n",
       "6561                    0       05/01/2001   \n",
       "6862                    0       04/01/2000   \n",
       "6880                    0       05/12/1988   \n",
       "7147                    0        7/15/1998   \n",
       "7402                    0       12/30/2011   \n",
       "7576                    0        5/31/1981   \n",
       "7637                    0        9/13/1999   \n",
       "7800                    0       09/01/2006   \n",
       "8979                    0       05/01/1977   \n",
       "9335                    0        7/22/1997   \n",
       "9441                    0       08/05/2006   \n",
       "10142                   1       03/01/1989   \n",
       "10501                   0        3/30/2002   \n",
       "10921                   0       12/01/1985   \n",
       "11031                   0       12/09/1999   \n",
       "\n",
       "                                               publisher  \n",
       "265                                        Lonely Planet  \n",
       "375                                           BradyGames  \n",
       "987                         Grove Press  Open City Books  \n",
       "2532   Frederick P. Lenz Foundation for American Budd...  \n",
       "2533   Frederick P. Lenz Foundation for American Budd...  \n",
       "2758                      Izdavačka agencija \"Draganić\"  \n",
       "3493                                           Macmillan  \n",
       "4242                                     Salem Press Inc  \n",
       "4678                                           Routledge  \n",
       "5325                                   Arts Publications  \n",
       "6383                                       Fithian Press  \n",
       "6561                                        Gale Cengage  \n",
       "6862             Hodder & Stoughton Educational Division  \n",
       "6880                    Knopf Doubleday Publishing Group  \n",
       "7147                                    K.G. Saur Verlag  \n",
       "7402                 McGraw-Hill Professional Publishing  \n",
       "7576                                            Springer  \n",
       "7637                                    Moody Publishers  \n",
       "7800                                       Beckett Media  \n",
       "8979                           Brown Son & Ferguson Ltd.  \n",
       "9335                        Random House Puzzles & Games  \n",
       "9441                                           Routledge  \n",
       "10142                               Meredith Corporation  \n",
       "10501                                    Greenwood Press  \n",
       "10921                    AMR/Advanced Management Reports  \n",
       "11031                      Between the Lines Productions  "
      ]
     },
     "execution_count": 172,
     "metadata": {},
     "output_type": "execute_result"
    }
   ],
   "source": [
    "df[df['average_rating'] == 0]"
   ]
  },
  {
   "cell_type": "markdown",
   "id": "05f55158",
   "metadata": {},
   "source": [
    "But, when we examine the content of these data, it seems like those book are not receiving any review from the reviewers. \n",
    "\n",
    "**Remark: We *probably* can exclude these data later in the modelling stage**"
   ]
  },
  {
   "cell_type": "markdown",
   "id": "023f5227",
   "metadata": {},
   "source": [
    "Next, we can look to the correlation between the numerical features. BookID and isbn are just the identifier of the books so we can neglect those columns."
   ]
  },
  {
   "cell_type": "code",
   "execution_count": 173,
   "id": "f0046a20",
   "metadata": {},
   "outputs": [
    {
     "data": {
      "text/html": [
       "<div>\n",
       "<style scoped>\n",
       "    .dataframe tbody tr th:only-of-type {\n",
       "        vertical-align: middle;\n",
       "    }\n",
       "\n",
       "    .dataframe tbody tr th {\n",
       "        vertical-align: top;\n",
       "    }\n",
       "\n",
       "    .dataframe thead th {\n",
       "        text-align: right;\n",
       "    }\n",
       "</style>\n",
       "<table border=\"1\" class=\"dataframe\">\n",
       "  <thead>\n",
       "    <tr style=\"text-align: right;\">\n",
       "      <th></th>\n",
       "      <th>average_rating</th>\n",
       "      <th>num_pages</th>\n",
       "      <th>ratings_count</th>\n",
       "      <th>text_reviews_count</th>\n",
       "    </tr>\n",
       "  </thead>\n",
       "  <tbody>\n",
       "    <tr>\n",
       "      <th>average_rating</th>\n",
       "      <td>1.000000</td>\n",
       "      <td>0.150809</td>\n",
       "      <td>0.038205</td>\n",
       "      <td>0.033734</td>\n",
       "    </tr>\n",
       "    <tr>\n",
       "      <th>num_pages</th>\n",
       "      <td>0.150809</td>\n",
       "      <td>1.000000</td>\n",
       "      <td>0.034353</td>\n",
       "      <td>0.036998</td>\n",
       "    </tr>\n",
       "    <tr>\n",
       "      <th>ratings_count</th>\n",
       "      <td>0.038205</td>\n",
       "      <td>0.034353</td>\n",
       "      <td>1.000000</td>\n",
       "      <td>0.865979</td>\n",
       "    </tr>\n",
       "    <tr>\n",
       "      <th>text_reviews_count</th>\n",
       "      <td>0.033734</td>\n",
       "      <td>0.036998</td>\n",
       "      <td>0.865979</td>\n",
       "      <td>1.000000</td>\n",
       "    </tr>\n",
       "  </tbody>\n",
       "</table>\n",
       "</div>"
      ],
      "text/plain": [
       "                    average_rating  num_pages  ratings_count  \\\n",
       "average_rating            1.000000   0.150809       0.038205   \n",
       "num_pages                 0.150809   1.000000       0.034353   \n",
       "ratings_count             0.038205   0.034353       1.000000   \n",
       "text_reviews_count        0.033734   0.036998       0.865979   \n",
       "\n",
       "                    text_reviews_count  \n",
       "average_rating                0.033734  \n",
       "num_pages                     0.036998  \n",
       "ratings_count                 0.865979  \n",
       "text_reviews_count            1.000000  "
      ]
     },
     "execution_count": 173,
     "metadata": {},
     "output_type": "execute_result"
    }
   ],
   "source": [
    "df[['average_rating', 'num_pages', 'ratings_count', 'text_reviews_count']].corr()"
   ]
  },
  {
   "cell_type": "markdown",
   "id": "8fd973b3",
   "metadata": {},
   "source": [
    "There are weak correlations between the target column `average_rating` to the numerical features such as `num_pages`, `ratings_count`, and `text_review_count`. Some of the remarks are:\n",
    "\n",
    "* The highest correlation exist between `average_rating` and `num_pages`\n",
    "* The lowest correlation exsist between `average_rating` and `text_review_counts`\n",
    "* There is strong correlation between `ratings_count` and `text_review_count` columns. This is a **strong evidence of collinearity** so we can remove one of these column in the modelling stage."
   ]
  },
  {
   "cell_type": "markdown",
   "id": "3919ab7e",
   "metadata": {},
   "source": [
    "### Textual Feature Analysis"
   ]
  },
  {
   "cell_type": "code",
   "execution_count": 174,
   "id": "62f2769f",
   "metadata": {},
   "outputs": [
    {
     "name": "stdout",
     "output_type": "stream",
     "text": [
      "0.9303496000718972\n"
     ]
    }
   ],
   "source": [
    "print(len(df['title'].unique())/len(df['title']))"
   ]
  },
  {
   "cell_type": "code",
   "execution_count": 175,
   "id": "de2a335b",
   "metadata": {},
   "outputs": [
    {
     "name": "stdout",
     "output_type": "stream",
     "text": [
      "0.5970162667385639\n"
     ]
    }
   ],
   "source": [
    "print(len(df['authors'].unique())/len(df['authors']))"
   ]
  },
  {
   "cell_type": "code",
   "execution_count": 176,
   "id": "f4b13467",
   "metadata": {},
   "outputs": [
    {
     "name": "stdout",
     "output_type": "stream",
     "text": [
      "0.0024265300620113237\n"
     ]
    }
   ],
   "source": [
    "print(len(df['language_code'].unique())/len(df['language_code']))"
   ]
  },
  {
   "cell_type": "markdown",
   "id": "4719b1cd",
   "metadata": {},
   "source": [
    "We see here that title has 93% as many unique values as values, indicating that there is not that much redundance in titles. Authors has 59% as many, indicating some redundance. Since authors are grouped into combinations, it may therefore be worthwile to split them into author1,author2, etc... Languages are unsuprisingly very \"un-redundant\". Let's plot them here."
   ]
  },
  {
   "cell_type": "code",
   "execution_count": 177,
   "id": "b4a1adc3",
   "metadata": {},
   "outputs": [
    {
     "name": "stdout",
     "output_type": "stream",
     "text": [
      "['eng' 'en-US' 'fre' 'spa' 'en-GB' 'mul' 'grc' 'enm' 'en-CA' 'ger' 'jpn'\n",
      " 'ara' 'nl' 'zho' 'lat' 'por' 'srp' 'ita' 'rus' 'msa' 'glg' 'wel' 'swe'\n",
      " 'nor' 'tur' 'gla' 'ale']\n"
     ]
    }
   ],
   "source": [
    "print(df['language_code'].unique())"
   ]
  },
  {
   "cell_type": "code",
   "execution_count": 178,
   "id": "c573449e",
   "metadata": {},
   "outputs": [
    {
     "name": "stdout",
     "output_type": "stream",
     "text": [
      "27\n"
     ]
    }
   ],
   "source": [
    "print(df['language_code'].nunique())"
   ]
  },
  {
   "cell_type": "markdown",
   "id": "8a79ef41",
   "metadata": {},
   "source": [
    "We see, here, that english is split up into 4 languages, as `eng`, `en-US`, `en-GB`, `en-CA`, and `eng-CAN`. Perhaps it would be better to consolidate these into eng, since, for all other languages, the language in that field would determine the language in the title."
   ]
  },
  {
   "cell_type": "code",
   "execution_count": 179,
   "id": "1cebc2c8",
   "metadata": {},
   "outputs": [],
   "source": [
    "def language_trim(lang):\n",
    "    if(lang in ['en-US','en-GB', 'en-CA', 'en-CAN']):\n",
    "        return 'eng'\n",
    "    return lang\n",
    "language_trim=np.vectorize(language_trim)"
   ]
  },
  {
   "cell_type": "code",
   "execution_count": 180,
   "id": "d4bcc94c",
   "metadata": {},
   "outputs": [],
   "source": [
    "df['language_code']=language_trim(df['language_code'])"
   ]
  },
  {
   "cell_type": "code",
   "execution_count": 181,
   "id": "2af961c8",
   "metadata": {},
   "outputs": [
    {
     "data": {
      "text/plain": [
       "array(['eng', 'fre', 'spa', 'mul', 'grc', 'enm', 'ger', 'jpn', 'ara',\n",
       "       'nl', 'zho', 'lat', 'por', 'srp', 'ita', 'rus', 'msa', 'glg',\n",
       "       'wel', 'swe', 'nor', 'tur', 'gla', 'ale'], dtype=object)"
      ]
     },
     "execution_count": 181,
     "metadata": {},
     "output_type": "execute_result"
    }
   ],
   "source": [
    "df['language_code'].unique()"
   ]
  },
  {
   "cell_type": "code",
   "execution_count": 182,
   "id": "e83d22c3",
   "metadata": {},
   "outputs": [
    {
     "name": "stdout",
     "output_type": "stream",
     "text": [
      "24\n"
     ]
    }
   ],
   "source": [
    "print(df['language_code'].nunique())"
   ]
  },
  {
   "cell_type": "markdown",
   "id": "fa189dcb",
   "metadata": {},
   "source": [
    "This process can reduce the number of categories in `language_code` column from 27 to 24. Since this number is very small compared to the number of rows, we can include this feature to the model by perfoming the categorical encoding method."
   ]
  },
  {
   "cell_type": "markdown",
   "id": "f12e7211",
   "metadata": {},
   "source": [
    "### Feature Engineering"
   ]
  },
  {
   "cell_type": "markdown",
   "id": "3513d64c",
   "metadata": {},
   "source": [
    "We can utilise the datetime feature -- `publication date` -- for creating new feature that describe the age of the book since a certain date. However, before working with the `publication_date`, I noticed the incorrect value in the `publication_date`, that makes the string-to-date conversion error:\n",
    "* There are some values that present the invalid date such as `11/31/2000` and `6/31/1982`\n",
    "\n",
    "We need to replace those values with the correct one before moving to the next step"
   ]
  },
  {
   "cell_type": "code",
   "execution_count": 183,
   "id": "fdbe7ab3",
   "metadata": {},
   "outputs": [],
   "source": [
    "# change the value of the invaluid date, and store the result on the new column\n",
    "df['publication_date_fixed'] = df['publication_date'].replace({\n",
    "                                                        '11/31/2000': '12/01/2000',\n",
    "                                                        '6/31/1982' : '07/01/1982'\n",
    "                                                        })\n",
    "\n",
    "# convert the new column to datetime\n",
    "df['publication_date_fixed'] = pd.to_datetime(df['publication_date_fixed'], format='%m/%d/%Y')\n",
    "\n",
    "# determine the `reference_date`\n",
    "df['reference_date'] = pd.to_datetime('12/01/2023', format='%m/%d/%Y')"
   ]
  },
  {
   "cell_type": "code",
   "execution_count": 184,
   "id": "3b5f270e",
   "metadata": {},
   "outputs": [
    {
     "data": {
      "text/html": [
       "<div>\n",
       "<style scoped>\n",
       "    .dataframe tbody tr th:only-of-type {\n",
       "        vertical-align: middle;\n",
       "    }\n",
       "\n",
       "    .dataframe tbody tr th {\n",
       "        vertical-align: top;\n",
       "    }\n",
       "\n",
       "    .dataframe thead th {\n",
       "        text-align: right;\n",
       "    }\n",
       "</style>\n",
       "<table border=\"1\" class=\"dataframe\">\n",
       "  <thead>\n",
       "    <tr style=\"text-align: right;\">\n",
       "      <th></th>\n",
       "      <th>publication_date</th>\n",
       "      <th>publication_date_fixed</th>\n",
       "      <th>reference_date</th>\n",
       "    </tr>\n",
       "  </thead>\n",
       "  <tbody>\n",
       "    <tr>\n",
       "      <th>0</th>\n",
       "      <td>9/16/2006</td>\n",
       "      <td>2006-09-16</td>\n",
       "      <td>2023-12-01</td>\n",
       "    </tr>\n",
       "    <tr>\n",
       "      <th>1</th>\n",
       "      <td>09/01/2004</td>\n",
       "      <td>2004-09-01</td>\n",
       "      <td>2023-12-01</td>\n",
       "    </tr>\n",
       "    <tr>\n",
       "      <th>2</th>\n",
       "      <td>11/01/2003</td>\n",
       "      <td>2003-11-01</td>\n",
       "      <td>2023-12-01</td>\n",
       "    </tr>\n",
       "    <tr>\n",
       "      <th>3</th>\n",
       "      <td>05/01/2004</td>\n",
       "      <td>2004-05-01</td>\n",
       "      <td>2023-12-01</td>\n",
       "    </tr>\n",
       "    <tr>\n",
       "      <th>4</th>\n",
       "      <td>9/13/2004</td>\n",
       "      <td>2004-09-13</td>\n",
       "      <td>2023-12-01</td>\n",
       "    </tr>\n",
       "    <tr>\n",
       "      <th>...</th>\n",
       "      <td>...</td>\n",
       "      <td>...</td>\n",
       "      <td>...</td>\n",
       "    </tr>\n",
       "    <tr>\n",
       "      <th>11122</th>\n",
       "      <td>12/21/2004</td>\n",
       "      <td>2004-12-21</td>\n",
       "      <td>2023-12-01</td>\n",
       "    </tr>\n",
       "    <tr>\n",
       "      <th>11123</th>\n",
       "      <td>12/01/1988</td>\n",
       "      <td>1988-12-01</td>\n",
       "      <td>2023-12-01</td>\n",
       "    </tr>\n",
       "    <tr>\n",
       "      <th>11124</th>\n",
       "      <td>08/01/1993</td>\n",
       "      <td>1993-08-01</td>\n",
       "      <td>2023-12-01</td>\n",
       "    </tr>\n",
       "    <tr>\n",
       "      <th>11125</th>\n",
       "      <td>2/27/2007</td>\n",
       "      <td>2007-02-27</td>\n",
       "      <td>2023-12-01</td>\n",
       "    </tr>\n",
       "    <tr>\n",
       "      <th>11126</th>\n",
       "      <td>5/28/2006</td>\n",
       "      <td>2006-05-28</td>\n",
       "      <td>2023-12-01</td>\n",
       "    </tr>\n",
       "  </tbody>\n",
       "</table>\n",
       "<p>11127 rows × 3 columns</p>\n",
       "</div>"
      ],
      "text/plain": [
       "      publication_date publication_date_fixed reference_date\n",
       "0            9/16/2006             2006-09-16     2023-12-01\n",
       "1           09/01/2004             2004-09-01     2023-12-01\n",
       "2           11/01/2003             2003-11-01     2023-12-01\n",
       "3           05/01/2004             2004-05-01     2023-12-01\n",
       "4            9/13/2004             2004-09-13     2023-12-01\n",
       "...                ...                    ...            ...\n",
       "11122       12/21/2004             2004-12-21     2023-12-01\n",
       "11123       12/01/1988             1988-12-01     2023-12-01\n",
       "11124       08/01/1993             1993-08-01     2023-12-01\n",
       "11125        2/27/2007             2007-02-27     2023-12-01\n",
       "11126        5/28/2006             2006-05-28     2023-12-01\n",
       "\n",
       "[11127 rows x 3 columns]"
      ]
     },
     "execution_count": 184,
     "metadata": {},
     "output_type": "execute_result"
    }
   ],
   "source": [
    "df[['publication_date', 'publication_date_fixed', 'reference_date']]"
   ]
  },
  {
   "cell_type": "markdown",
   "id": "dc4b66b5",
   "metadata": {},
   "source": [
    "In this step I created 3 new features:\n",
    "* `days_from_reference_date`   : days difference between `publication_date` and `reference_date` (1st December 2023)\n",
    "* `months_from_reference_date` : months difference between `publication_date` and `reference_date` (1st December 2023)\n",
    "* `years_from_reference_date`  : years difference between `publication_date` and `reference_date` (1st December 2023)"
   ]
  },
  {
   "cell_type": "code",
   "execution_count": 185,
   "id": "c899491b",
   "metadata": {},
   "outputs": [],
   "source": [
    "# calculate number of days between `publication_date` to `reference_date`\n",
    "df['days_from_reference_date'] = (df['reference_date'] - df['publication_date_fixed']).dt.days\n",
    "\n",
    "# calculate number of months between `publication_date` to `reference_date`\n",
    "df['months_from_reference_date'] = ((df['reference_date'] - df['publication_date_fixed'])/np.timedelta64(1, 'M'))\n",
    "df['months_from_reference_date'] = df['months_from_reference_date'].astype(int)\n",
    "\n",
    "# calculate number of years between `publication_date` to `reference_date`\n",
    "df['years_from_reference_date'] = ((df['reference_date'] - df['publication_date_fixed'])/np.timedelta64(1, 'Y'))\n",
    "df['years_from_reference_date'] = df['years_from_reference_date'].astype(int)"
   ]
  },
  {
   "cell_type": "code",
   "execution_count": 186,
   "id": "e81737f5",
   "metadata": {},
   "outputs": [
    {
     "data": {
      "text/html": [
       "<div>\n",
       "<style scoped>\n",
       "    .dataframe tbody tr th:only-of-type {\n",
       "        vertical-align: middle;\n",
       "    }\n",
       "\n",
       "    .dataframe tbody tr th {\n",
       "        vertical-align: top;\n",
       "    }\n",
       "\n",
       "    .dataframe thead th {\n",
       "        text-align: right;\n",
       "    }\n",
       "</style>\n",
       "<table border=\"1\" class=\"dataframe\">\n",
       "  <thead>\n",
       "    <tr style=\"text-align: right;\">\n",
       "      <th></th>\n",
       "      <th>average_rating</th>\n",
       "      <th>num_pages</th>\n",
       "      <th>ratings_count</th>\n",
       "      <th>text_reviews_count</th>\n",
       "      <th>days_from_reference_date</th>\n",
       "      <th>months_from_reference_date</th>\n",
       "      <th>years_from_reference_date</th>\n",
       "    </tr>\n",
       "  </thead>\n",
       "  <tbody>\n",
       "    <tr>\n",
       "      <th>average_rating</th>\n",
       "      <td>1.000000</td>\n",
       "      <td>0.150809</td>\n",
       "      <td>0.038205</td>\n",
       "      <td>0.033734</td>\n",
       "      <td>0.027945</td>\n",
       "      <td>0.027864</td>\n",
       "      <td>0.029216</td>\n",
       "    </tr>\n",
       "    <tr>\n",
       "      <th>num_pages</th>\n",
       "      <td>0.150809</td>\n",
       "      <td>1.000000</td>\n",
       "      <td>0.034353</td>\n",
       "      <td>0.036998</td>\n",
       "      <td>0.018211</td>\n",
       "      <td>0.018244</td>\n",
       "      <td>0.019459</td>\n",
       "    </tr>\n",
       "    <tr>\n",
       "      <th>ratings_count</th>\n",
       "      <td>0.038205</td>\n",
       "      <td>0.034353</td>\n",
       "      <td>1.000000</td>\n",
       "      <td>0.865979</td>\n",
       "      <td>-0.043959</td>\n",
       "      <td>-0.043948</td>\n",
       "      <td>-0.044080</td>\n",
       "    </tr>\n",
       "    <tr>\n",
       "      <th>text_reviews_count</th>\n",
       "      <td>0.033734</td>\n",
       "      <td>0.036998</td>\n",
       "      <td>0.865979</td>\n",
       "      <td>1.000000</td>\n",
       "      <td>-0.065995</td>\n",
       "      <td>-0.065964</td>\n",
       "      <td>-0.066240</td>\n",
       "    </tr>\n",
       "    <tr>\n",
       "      <th>days_from_reference_date</th>\n",
       "      <td>0.027945</td>\n",
       "      <td>0.018211</td>\n",
       "      <td>-0.043959</td>\n",
       "      <td>-0.065995</td>\n",
       "      <td>1.000000</td>\n",
       "      <td>0.999993</td>\n",
       "      <td>0.999390</td>\n",
       "    </tr>\n",
       "    <tr>\n",
       "      <th>months_from_reference_date</th>\n",
       "      <td>0.027864</td>\n",
       "      <td>0.018244</td>\n",
       "      <td>-0.043948</td>\n",
       "      <td>-0.065964</td>\n",
       "      <td>0.999993</td>\n",
       "      <td>1.000000</td>\n",
       "      <td>0.999392</td>\n",
       "    </tr>\n",
       "    <tr>\n",
       "      <th>years_from_reference_date</th>\n",
       "      <td>0.029216</td>\n",
       "      <td>0.019459</td>\n",
       "      <td>-0.044080</td>\n",
       "      <td>-0.066240</td>\n",
       "      <td>0.999390</td>\n",
       "      <td>0.999392</td>\n",
       "      <td>1.000000</td>\n",
       "    </tr>\n",
       "  </tbody>\n",
       "</table>\n",
       "</div>"
      ],
      "text/plain": [
       "                            average_rating  num_pages  ratings_count  \\\n",
       "average_rating                    1.000000   0.150809       0.038205   \n",
       "num_pages                         0.150809   1.000000       0.034353   \n",
       "ratings_count                     0.038205   0.034353       1.000000   \n",
       "text_reviews_count                0.033734   0.036998       0.865979   \n",
       "days_from_reference_date          0.027945   0.018211      -0.043959   \n",
       "months_from_reference_date        0.027864   0.018244      -0.043948   \n",
       "years_from_reference_date         0.029216   0.019459      -0.044080   \n",
       "\n",
       "                            text_reviews_count  days_from_reference_date  \\\n",
       "average_rating                        0.033734                  0.027945   \n",
       "num_pages                             0.036998                  0.018211   \n",
       "ratings_count                         0.865979                 -0.043959   \n",
       "text_reviews_count                    1.000000                 -0.065995   \n",
       "days_from_reference_date             -0.065995                  1.000000   \n",
       "months_from_reference_date           -0.065964                  0.999993   \n",
       "years_from_reference_date            -0.066240                  0.999390   \n",
       "\n",
       "                            months_from_reference_date  \\\n",
       "average_rating                                0.027864   \n",
       "num_pages                                     0.018244   \n",
       "ratings_count                                -0.043948   \n",
       "text_reviews_count                           -0.065964   \n",
       "days_from_reference_date                      0.999993   \n",
       "months_from_reference_date                    1.000000   \n",
       "years_from_reference_date                     0.999392   \n",
       "\n",
       "                            years_from_reference_date  \n",
       "average_rating                               0.029216  \n",
       "num_pages                                    0.019459  \n",
       "ratings_count                               -0.044080  \n",
       "text_reviews_count                          -0.066240  \n",
       "days_from_reference_date                     0.999390  \n",
       "months_from_reference_date                   0.999392  \n",
       "years_from_reference_date                    1.000000  "
      ]
     },
     "execution_count": 186,
     "metadata": {},
     "output_type": "execute_result"
    }
   ],
   "source": [
    "df[['average_rating', 'num_pages', 'ratings_count', 'text_reviews_count',\n",
    "    'days_from_reference_date', 'months_from_reference_date', 'years_from_reference_date'\n",
    "   ]].corr()"
   ]
  },
  {
   "cell_type": "markdown",
   "id": "a2c2f153",
   "metadata": {},
   "source": [
    "Based on the correlation test, we can see that `years_from_reference_date` feature has the greatest correlation to the target variable among the new features engineered from the `publication_date`, so we might select this feature and neglect 2 others since they highly dependent each other."
   ]
  },
  {
   "cell_type": "markdown",
   "id": "bb368f79",
   "metadata": {},
   "source": [
    "### Handling Discrepancies"
   ]
  },
  {
   "cell_type": "markdown",
   "id": "3898ffe6",
   "metadata": {},
   "source": [
    "Next things we want to fix in this stage are some discrepancies I found in the dataset:\n",
    "\n",
    "* Authors column have multiple names separated by `/`,\n",
    "* But the second names are not necessarily the author. This can be the reader or someone who given the foreword on the book. Eg: The Known World, Mere Christianity\n",
    "* Same books can appear in different rows, for example caused by different publishers or publishing date.\n",
    "\n",
    "So, this is the way I decided to handle this discrepancies:\n",
    "* Separate the `authors` column into multiple columns e.g. `author1`, `author2`, `author3`, ...\n",
    "* Concat `title` with `authors1` column\n",
    "* Aggregating the `num_pages`, `ratings_count`, and `text_review_count` based on the concated column and the preprocessed `language_code`. This will let some rows that recorded identical books be squeezed into unique representation, identified by `bookname_author1` column."
   ]
  },
  {
   "cell_type": "code",
   "execution_count": 187,
   "id": "96ba6cdb",
   "metadata": {},
   "outputs": [],
   "source": [
    "# create dataframe that separate the name of each authors\n",
    "df_authors = df['authors'].str.split('/', expand=True)\n",
    "\n",
    "# rename the columns with author1, author2, ...\n",
    "df_authors.columns = [\"author\"+ str(i) for i in range(1, df_authors.shape[1] + 1)]\n",
    "\n",
    "# delete whitespace (if any)\n",
    "for i in df_authors.columns:\n",
    "    df_authors[i] = df_authors[i].str.strip()\n",
    "\n",
    "# create a copy of df\n",
    "df_copy = df.copy()\n",
    "\n",
    "# concat df_copy with df_authors\n",
    "df_author_sep = pd.concat([df_copy, df_authors], axis=1).drop('authors', axis=1)\n",
    "\n",
    "# remove the rows with 0 average_rating\n",
    "df_author_sep = df_author_sep[df_author_sep['average_rating'] != 0]\n",
    "\n",
    "# delete whitespace in title column (if any)\n",
    "df_author_sep[\"title\"] = df_author_sep[\"title\"].str.strip()\n",
    "\n",
    "# concat title with author1\n",
    "df_author_sep['bookname_author1'] = df_author_sep['title'].str.strip() + \"_\" + df_author_sep[\"author1\"].str.strip()\n",
    "\n",
    "# aggregate the `num_pages`, `ratings_count`, and `text_review_count` columns based on the \n",
    "# `bookname_author1` and `language_code` column\n",
    "df_title_auth_num = df_author_sep[['bookname_author1', \n",
    "                                   'num_pages', 'ratings_count', \n",
    "                                   'text_reviews_count', 'language_code', 'average_rating',\n",
    "                                   'days_from_reference_date', 'months_from_reference_date',\n",
    "                                   'years_from_reference_date'\n",
    "                                  ]] \\\n",
    "                        .groupby(['bookname_author1', 'language_code']).mean().reset_index()"
   ]
  },
  {
   "cell_type": "code",
   "execution_count": 188,
   "id": "52f8d8d3",
   "metadata": {},
   "outputs": [
    {
     "data": {
      "text/plain": [
       "(10421, 9)"
      ]
     },
     "execution_count": 188,
     "metadata": {},
     "output_type": "execute_result"
    }
   ],
   "source": [
    "df_title_auth_num.shape"
   ]
  },
  {
   "cell_type": "code",
   "execution_count": 189,
   "id": "d9544afa",
   "metadata": {},
   "outputs": [
    {
     "data": {
      "text/html": [
       "<div>\n",
       "<style scoped>\n",
       "    .dataframe tbody tr th:only-of-type {\n",
       "        vertical-align: middle;\n",
       "    }\n",
       "\n",
       "    .dataframe tbody tr th {\n",
       "        vertical-align: top;\n",
       "    }\n",
       "\n",
       "    .dataframe thead th {\n",
       "        text-align: right;\n",
       "    }\n",
       "</style>\n",
       "<table border=\"1\" class=\"dataframe\">\n",
       "  <thead>\n",
       "    <tr style=\"text-align: right;\">\n",
       "      <th></th>\n",
       "      <th>bookname_author1</th>\n",
       "      <th>language_code</th>\n",
       "      <th>num_pages</th>\n",
       "      <th>ratings_count</th>\n",
       "      <th>text_reviews_count</th>\n",
       "      <th>average_rating</th>\n",
       "      <th>days_from_reference_date</th>\n",
       "      <th>months_from_reference_date</th>\n",
       "      <th>years_from_reference_date</th>\n",
       "    </tr>\n",
       "  </thead>\n",
       "  <tbody>\n",
       "    <tr>\n",
       "      <th>0</th>\n",
       "      <td>$30 Film School: How to Write  Direct  Produce...</td>\n",
       "      <td>eng</td>\n",
       "      <td>528.000</td>\n",
       "      <td>30.0</td>\n",
       "      <td>4.00</td>\n",
       "      <td>3.49000</td>\n",
       "      <td>7507.00</td>\n",
       "      <td>246.0</td>\n",
       "      <td>20.000</td>\n",
       "    </tr>\n",
       "    <tr>\n",
       "      <th>1</th>\n",
       "      <td>'Salem's Lot_Stephen King</td>\n",
       "      <td>eng</td>\n",
       "      <td>409.125</td>\n",
       "      <td>10731.5</td>\n",
       "      <td>103.25</td>\n",
       "      <td>4.04875</td>\n",
       "      <td>11770.25</td>\n",
       "      <td>386.0</td>\n",
       "      <td>31.875</td>\n",
       "    </tr>\n",
       "    <tr>\n",
       "      <th>2</th>\n",
       "      <td>09-Nov_Noam Chomsky</td>\n",
       "      <td>eng</td>\n",
       "      <td>140.000</td>\n",
       "      <td>3070.0</td>\n",
       "      <td>172.00</td>\n",
       "      <td>3.73000</td>\n",
       "      <td>8032.00</td>\n",
       "      <td>263.0</td>\n",
       "      <td>21.000</td>\n",
       "    </tr>\n",
       "    <tr>\n",
       "      <th>3</th>\n",
       "      <td>1 000 Places to See Before You Die_Patricia Sc...</td>\n",
       "      <td>eng</td>\n",
       "      <td>992.000</td>\n",
       "      <td>36303.0</td>\n",
       "      <td>439.00</td>\n",
       "      <td>3.85000</td>\n",
       "      <td>7498.00</td>\n",
       "      <td>246.0</td>\n",
       "      <td>20.000</td>\n",
       "    </tr>\n",
       "    <tr>\n",
       "      <th>4</th>\n",
       "      <td>10 lb Penalty_Dick Francis</td>\n",
       "      <td>eng</td>\n",
       "      <td>320.000</td>\n",
       "      <td>3490.0</td>\n",
       "      <td>177.00</td>\n",
       "      <td>3.90000</td>\n",
       "      <td>7059.00</td>\n",
       "      <td>231.0</td>\n",
       "      <td>19.000</td>\n",
       "    </tr>\n",
       "  </tbody>\n",
       "</table>\n",
       "</div>"
      ],
      "text/plain": [
       "                                    bookname_author1 language_code  num_pages  \\\n",
       "0  $30 Film School: How to Write  Direct  Produce...           eng    528.000   \n",
       "1                          'Salem's Lot_Stephen King           eng    409.125   \n",
       "2                                09-Nov_Noam Chomsky           eng    140.000   \n",
       "3  1 000 Places to See Before You Die_Patricia Sc...           eng    992.000   \n",
       "4                         10 lb Penalty_Dick Francis           eng    320.000   \n",
       "\n",
       "   ratings_count  text_reviews_count  average_rating  \\\n",
       "0           30.0                4.00         3.49000   \n",
       "1        10731.5              103.25         4.04875   \n",
       "2         3070.0              172.00         3.73000   \n",
       "3        36303.0              439.00         3.85000   \n",
       "4         3490.0              177.00         3.90000   \n",
       "\n",
       "   days_from_reference_date  months_from_reference_date  \\\n",
       "0                   7507.00                       246.0   \n",
       "1                  11770.25                       386.0   \n",
       "2                   8032.00                       263.0   \n",
       "3                   7498.00                       246.0   \n",
       "4                   7059.00                       231.0   \n",
       "\n",
       "   years_from_reference_date  \n",
       "0                     20.000  \n",
       "1                     31.875  \n",
       "2                     21.000  \n",
       "3                     20.000  \n",
       "4                     19.000  "
      ]
     },
     "execution_count": 189,
     "metadata": {},
     "output_type": "execute_result"
    }
   ],
   "source": [
    "df_title_auth_num.head()"
   ]
  },
  {
   "cell_type": "code",
   "execution_count": 190,
   "id": "82c1e697",
   "metadata": {},
   "outputs": [
    {
     "data": {
      "text/plain": [
       "(11127, 17)"
      ]
     },
     "execution_count": 190,
     "metadata": {},
     "output_type": "execute_result"
    }
   ],
   "source": [
    "df.shape"
   ]
  },
  {
   "cell_type": "markdown",
   "id": "f576f0d4",
   "metadata": {},
   "source": [
    "This method squeeze the data from 11127 to 10421 rows"
   ]
  },
  {
   "cell_type": "code",
   "execution_count": 191,
   "id": "dc0ca2ab",
   "metadata": {},
   "outputs": [
    {
     "data": {
      "text/html": [
       "<div>\n",
       "<style scoped>\n",
       "    .dataframe tbody tr th:only-of-type {\n",
       "        vertical-align: middle;\n",
       "    }\n",
       "\n",
       "    .dataframe tbody tr th {\n",
       "        vertical-align: top;\n",
       "    }\n",
       "\n",
       "    .dataframe thead th {\n",
       "        text-align: right;\n",
       "    }\n",
       "</style>\n",
       "<table border=\"1\" class=\"dataframe\">\n",
       "  <thead>\n",
       "    <tr style=\"text-align: right;\">\n",
       "      <th></th>\n",
       "      <th>average_rating</th>\n",
       "      <th>num_pages</th>\n",
       "      <th>ratings_count</th>\n",
       "      <th>text_reviews_count</th>\n",
       "      <th>days_from_reference_date</th>\n",
       "      <th>months_from_reference_date</th>\n",
       "      <th>years_from_reference_date</th>\n",
       "    </tr>\n",
       "  </thead>\n",
       "  <tbody>\n",
       "    <tr>\n",
       "      <th>average_rating</th>\n",
       "      <td>1.000000</td>\n",
       "      <td>0.165774</td>\n",
       "      <td>0.040421</td>\n",
       "      <td>0.030609</td>\n",
       "      <td>0.048209</td>\n",
       "      <td>0.048116</td>\n",
       "      <td>0.049476</td>\n",
       "    </tr>\n",
       "    <tr>\n",
       "      <th>num_pages</th>\n",
       "      <td>0.165774</td>\n",
       "      <td>1.000000</td>\n",
       "      <td>0.031158</td>\n",
       "      <td>0.032971</td>\n",
       "      <td>0.017001</td>\n",
       "      <td>0.017018</td>\n",
       "      <td>0.018338</td>\n",
       "    </tr>\n",
       "    <tr>\n",
       "      <th>ratings_count</th>\n",
       "      <td>0.040421</td>\n",
       "      <td>0.031158</td>\n",
       "      <td>1.000000</td>\n",
       "      <td>0.871895</td>\n",
       "      <td>-0.048778</td>\n",
       "      <td>-0.048791</td>\n",
       "      <td>-0.048813</td>\n",
       "    </tr>\n",
       "    <tr>\n",
       "      <th>text_reviews_count</th>\n",
       "      <td>0.030609</td>\n",
       "      <td>0.032971</td>\n",
       "      <td>0.871895</td>\n",
       "      <td>1.000000</td>\n",
       "      <td>-0.070760</td>\n",
       "      <td>-0.070761</td>\n",
       "      <td>-0.070892</td>\n",
       "    </tr>\n",
       "    <tr>\n",
       "      <th>days_from_reference_date</th>\n",
       "      <td>0.048209</td>\n",
       "      <td>0.017001</td>\n",
       "      <td>-0.048778</td>\n",
       "      <td>-0.070760</td>\n",
       "      <td>1.000000</td>\n",
       "      <td>0.999993</td>\n",
       "      <td>0.999388</td>\n",
       "    </tr>\n",
       "    <tr>\n",
       "      <th>months_from_reference_date</th>\n",
       "      <td>0.048116</td>\n",
       "      <td>0.017018</td>\n",
       "      <td>-0.048791</td>\n",
       "      <td>-0.070761</td>\n",
       "      <td>0.999993</td>\n",
       "      <td>1.000000</td>\n",
       "      <td>0.999391</td>\n",
       "    </tr>\n",
       "    <tr>\n",
       "      <th>years_from_reference_date</th>\n",
       "      <td>0.049476</td>\n",
       "      <td>0.018338</td>\n",
       "      <td>-0.048813</td>\n",
       "      <td>-0.070892</td>\n",
       "      <td>0.999388</td>\n",
       "      <td>0.999391</td>\n",
       "      <td>1.000000</td>\n",
       "    </tr>\n",
       "  </tbody>\n",
       "</table>\n",
       "</div>"
      ],
      "text/plain": [
       "                            average_rating  num_pages  ratings_count  \\\n",
       "average_rating                    1.000000   0.165774       0.040421   \n",
       "num_pages                         0.165774   1.000000       0.031158   \n",
       "ratings_count                     0.040421   0.031158       1.000000   \n",
       "text_reviews_count                0.030609   0.032971       0.871895   \n",
       "days_from_reference_date          0.048209   0.017001      -0.048778   \n",
       "months_from_reference_date        0.048116   0.017018      -0.048791   \n",
       "years_from_reference_date         0.049476   0.018338      -0.048813   \n",
       "\n",
       "                            text_reviews_count  days_from_reference_date  \\\n",
       "average_rating                        0.030609                  0.048209   \n",
       "num_pages                             0.032971                  0.017001   \n",
       "ratings_count                         0.871895                 -0.048778   \n",
       "text_reviews_count                    1.000000                 -0.070760   \n",
       "days_from_reference_date             -0.070760                  1.000000   \n",
       "months_from_reference_date           -0.070761                  0.999993   \n",
       "years_from_reference_date            -0.070892                  0.999388   \n",
       "\n",
       "                            months_from_reference_date  \\\n",
       "average_rating                                0.048116   \n",
       "num_pages                                     0.017018   \n",
       "ratings_count                                -0.048791   \n",
       "text_reviews_count                           -0.070761   \n",
       "days_from_reference_date                      0.999993   \n",
       "months_from_reference_date                    1.000000   \n",
       "years_from_reference_date                     0.999391   \n",
       "\n",
       "                            years_from_reference_date  \n",
       "average_rating                               0.049476  \n",
       "num_pages                                    0.018338  \n",
       "ratings_count                               -0.048813  \n",
       "text_reviews_count                          -0.070892  \n",
       "days_from_reference_date                     0.999388  \n",
       "months_from_reference_date                   0.999391  \n",
       "years_from_reference_date                    1.000000  "
      ]
     },
     "execution_count": 191,
     "metadata": {},
     "output_type": "execute_result"
    }
   ],
   "source": [
    "df_title_auth_num[['average_rating', 'num_pages', 'ratings_count', 'text_reviews_count',\n",
    "                   'days_from_reference_date', 'months_from_reference_date', 'years_from_reference_date']].corr()"
   ]
  },
  {
   "cell_type": "code",
   "execution_count": 192,
   "id": "5a44f55b",
   "metadata": {},
   "outputs": [
    {
     "data": {
      "text/html": [
       "<div>\n",
       "<style scoped>\n",
       "    .dataframe tbody tr th:only-of-type {\n",
       "        vertical-align: middle;\n",
       "    }\n",
       "\n",
       "    .dataframe tbody tr th {\n",
       "        vertical-align: top;\n",
       "    }\n",
       "\n",
       "    .dataframe thead th {\n",
       "        text-align: right;\n",
       "    }\n",
       "</style>\n",
       "<table border=\"1\" class=\"dataframe\">\n",
       "  <thead>\n",
       "    <tr style=\"text-align: right;\">\n",
       "      <th></th>\n",
       "      <th>average_rating</th>\n",
       "      <th>num_pages</th>\n",
       "      <th>ratings_count</th>\n",
       "      <th>text_reviews_count</th>\n",
       "      <th>days_from_reference_date</th>\n",
       "      <th>months_from_reference_date</th>\n",
       "      <th>years_from_reference_date</th>\n",
       "    </tr>\n",
       "  </thead>\n",
       "  <tbody>\n",
       "    <tr>\n",
       "      <th>average_rating</th>\n",
       "      <td>1.000000</td>\n",
       "      <td>0.150809</td>\n",
       "      <td>0.038205</td>\n",
       "      <td>0.033734</td>\n",
       "      <td>0.027945</td>\n",
       "      <td>0.027864</td>\n",
       "      <td>0.029216</td>\n",
       "    </tr>\n",
       "    <tr>\n",
       "      <th>num_pages</th>\n",
       "      <td>0.150809</td>\n",
       "      <td>1.000000</td>\n",
       "      <td>0.034353</td>\n",
       "      <td>0.036998</td>\n",
       "      <td>0.018211</td>\n",
       "      <td>0.018244</td>\n",
       "      <td>0.019459</td>\n",
       "    </tr>\n",
       "    <tr>\n",
       "      <th>ratings_count</th>\n",
       "      <td>0.038205</td>\n",
       "      <td>0.034353</td>\n",
       "      <td>1.000000</td>\n",
       "      <td>0.865979</td>\n",
       "      <td>-0.043959</td>\n",
       "      <td>-0.043948</td>\n",
       "      <td>-0.044080</td>\n",
       "    </tr>\n",
       "    <tr>\n",
       "      <th>text_reviews_count</th>\n",
       "      <td>0.033734</td>\n",
       "      <td>0.036998</td>\n",
       "      <td>0.865979</td>\n",
       "      <td>1.000000</td>\n",
       "      <td>-0.065995</td>\n",
       "      <td>-0.065964</td>\n",
       "      <td>-0.066240</td>\n",
       "    </tr>\n",
       "    <tr>\n",
       "      <th>days_from_reference_date</th>\n",
       "      <td>0.027945</td>\n",
       "      <td>0.018211</td>\n",
       "      <td>-0.043959</td>\n",
       "      <td>-0.065995</td>\n",
       "      <td>1.000000</td>\n",
       "      <td>0.999993</td>\n",
       "      <td>0.999390</td>\n",
       "    </tr>\n",
       "    <tr>\n",
       "      <th>months_from_reference_date</th>\n",
       "      <td>0.027864</td>\n",
       "      <td>0.018244</td>\n",
       "      <td>-0.043948</td>\n",
       "      <td>-0.065964</td>\n",
       "      <td>0.999993</td>\n",
       "      <td>1.000000</td>\n",
       "      <td>0.999392</td>\n",
       "    </tr>\n",
       "    <tr>\n",
       "      <th>years_from_reference_date</th>\n",
       "      <td>0.029216</td>\n",
       "      <td>0.019459</td>\n",
       "      <td>-0.044080</td>\n",
       "      <td>-0.066240</td>\n",
       "      <td>0.999390</td>\n",
       "      <td>0.999392</td>\n",
       "      <td>1.000000</td>\n",
       "    </tr>\n",
       "  </tbody>\n",
       "</table>\n",
       "</div>"
      ],
      "text/plain": [
       "                            average_rating  num_pages  ratings_count  \\\n",
       "average_rating                    1.000000   0.150809       0.038205   \n",
       "num_pages                         0.150809   1.000000       0.034353   \n",
       "ratings_count                     0.038205   0.034353       1.000000   \n",
       "text_reviews_count                0.033734   0.036998       0.865979   \n",
       "days_from_reference_date          0.027945   0.018211      -0.043959   \n",
       "months_from_reference_date        0.027864   0.018244      -0.043948   \n",
       "years_from_reference_date         0.029216   0.019459      -0.044080   \n",
       "\n",
       "                            text_reviews_count  days_from_reference_date  \\\n",
       "average_rating                        0.033734                  0.027945   \n",
       "num_pages                             0.036998                  0.018211   \n",
       "ratings_count                         0.865979                 -0.043959   \n",
       "text_reviews_count                    1.000000                 -0.065995   \n",
       "days_from_reference_date             -0.065995                  1.000000   \n",
       "months_from_reference_date           -0.065964                  0.999993   \n",
       "years_from_reference_date            -0.066240                  0.999390   \n",
       "\n",
       "                            months_from_reference_date  \\\n",
       "average_rating                                0.027864   \n",
       "num_pages                                     0.018244   \n",
       "ratings_count                                -0.043948   \n",
       "text_reviews_count                           -0.065964   \n",
       "days_from_reference_date                      0.999993   \n",
       "months_from_reference_date                    1.000000   \n",
       "years_from_reference_date                     0.999392   \n",
       "\n",
       "                            years_from_reference_date  \n",
       "average_rating                               0.029216  \n",
       "num_pages                                    0.019459  \n",
       "ratings_count                               -0.044080  \n",
       "text_reviews_count                          -0.066240  \n",
       "days_from_reference_date                     0.999390  \n",
       "months_from_reference_date                   0.999392  \n",
       "years_from_reference_date                    1.000000  "
      ]
     },
     "execution_count": 192,
     "metadata": {},
     "output_type": "execute_result"
    }
   ],
   "source": [
    "df[['average_rating', 'num_pages', 'ratings_count', 'text_reviews_count',\n",
    "    'days_from_reference_date', 'months_from_reference_date', 'years_from_reference_date']].corr()"
   ]
  },
  {
   "cell_type": "markdown",
   "id": "4df0d685",
   "metadata": {},
   "source": [
    "If we measure the target-feature correlation in this new dataset, we can notice slight improvement in the correlation of the target to `num_pages`, `ratings_count`, `days_from_reference_date`, `months_from_reference_date`, and `years_from_reference_date`. However, the correlation to the `text_review_count` is slightly decreasing."
   ]
  },
  {
   "cell_type": "code",
   "execution_count": 193,
   "id": "d83eafae",
   "metadata": {},
   "outputs": [
    {
     "data": {
      "image/png": "[encoded data removed]",
      "text/plain": [
       "<Figure size 1200x800 with 1 Axes>"
      ]
     },
     "metadata": {},
     "output_type": "display_data"
    }
   ],
   "source": [
    "plt.figure(figsize=(12,8))\n",
    "sns.boxplot(data=df, x='language_code', y='average_rating');"
   ]
  },
  {
   "cell_type": "code",
   "execution_count": 194,
   "id": "69443981",
   "metadata": {},
   "outputs": [
    {
     "data": {
      "image/png": "[encoded data removed]",
      "text/plain": [
       "<Figure size 1200x800 with 1 Axes>"
      ]
     },
     "metadata": {},
     "output_type": "display_data"
    }
   ],
   "source": [
    "plt.figure(figsize=(12,8))\n",
    "sns.boxplot(data=df_title_auth_num, x='language_code', y='average_rating');"
   ]
  },
  {
   "cell_type": "markdown",
   "id": "c020265a",
   "metadata": {},
   "source": [
    "By plotting the distribution of `average_rating` by `language_code` there is also small change in the distribution."
   ]
  },
  {
   "cell_type": "markdown",
   "id": "bdd87b71",
   "metadata": {},
   "source": [
    "### Distribution Analysis of Numerical Features"
   ]
  },
  {
   "cell_type": "code",
   "execution_count": 195,
   "id": "7c8efbdc",
   "metadata": {},
   "outputs": [
    {
     "data": {
      "image/png": "[encoded data removed]",
      "text/plain": [
       "<Figure size 640x480 with 1 Axes>"
      ]
     },
     "metadata": {},
     "output_type": "display_data"
    }
   ],
   "source": [
    "sns.boxplot(data=df_title_auth_num, x='average_rating');"
   ]
  },
  {
   "cell_type": "code",
   "execution_count": 196,
   "id": "fa1d6d1c",
   "metadata": {},
   "outputs": [
    {
     "data": {
      "image/png": "[encoded data removed]",
      "text/plain": [
       "<Figure size 640x480 with 1 Axes>"
      ]
     },
     "metadata": {},
     "output_type": "display_data"
    }
   ],
   "source": [
    "sns.boxplot(data=df_title_auth_num, x='ratings_count');"
   ]
  },
  {
   "cell_type": "code",
   "execution_count": 197,
   "id": "8fa0e892",
   "metadata": {},
   "outputs": [
    {
     "data": {
      "image/png": "[encoded data removed]",
      "text/plain": [
       "<Figure size 640x480 with 1 Axes>"
      ]
     },
     "metadata": {},
     "output_type": "display_data"
    }
   ],
   "source": [
    "sns.boxplot(data=df_title_auth_num, x='num_pages');"
   ]
  },
  {
   "cell_type": "code",
   "execution_count": 198,
   "id": "03b549fa",
   "metadata": {},
   "outputs": [
    {
     "data": {
      "image/png": "[encoded data removed]",
      "text/plain": [
       "<Figure size 640x480 with 1 Axes>"
      ]
     },
     "metadata": {},
     "output_type": "display_data"
    }
   ],
   "source": [
    "sns.boxplot(data=df_title_auth_num, x='text_reviews_count');"
   ]
  },
  {
   "cell_type": "code",
   "execution_count": 199,
   "id": "e69e3cf5",
   "metadata": {},
   "outputs": [
    {
     "data": {
      "image/png": "[encoded data removed]",
      "text/plain": [
       "<Figure size 640x480 with 1 Axes>"
      ]
     },
     "metadata": {},
     "output_type": "display_data"
    }
   ],
   "source": [
    "sns.boxplot(data=df_title_auth_num, x='days_from_reference_date');"
   ]
  },
  {
   "cell_type": "code",
   "execution_count": 200,
   "id": "66b1953f",
   "metadata": {},
   "outputs": [
    {
     "data": {
      "image/png": "[encoded data removed]",
      "text/plain": [
       "<Figure size 640x480 with 1 Axes>"
      ]
     },
     "metadata": {},
     "output_type": "display_data"
    }
   ],
   "source": [
    "sns.boxplot(data=df_title_auth_num, x='months_from_reference_date');"
   ]
  },
  {
   "cell_type": "code",
   "execution_count": 201,
   "id": "4a0d36a4",
   "metadata": {},
   "outputs": [
    {
     "data": {
      "image/png": "[encoded data removed]",
      "text/plain": [
       "<Figure size 640x480 with 1 Axes>"
      ]
     },
     "metadata": {},
     "output_type": "display_data"
    }
   ],
   "source": [
    "sns.boxplot(data=df_title_auth_num, x='years_from_reference_date');"
   ]
  },
  {
   "cell_type": "markdown",
   "id": "17c9524d",
   "metadata": {},
   "source": [
    "From the distribution analysis, we found that the distribution of numerical features are strongly skewed. One method to fix the distribution is by doing log transformation. But performing log transformation directly to the numerical data can be resulted in `Inf` value, since `log(0)` is not identified. So, we need to add 1 for each value of the data to handle infinity.\n",
    "\n",
    "**_Important: To see the real value of the predicted values, we need to inverse the operation in order to return back the real value_**"
   ]
  },
  {
   "cell_type": "code",
   "execution_count": 202,
   "id": "4f2f4088",
   "metadata": {},
   "outputs": [],
   "source": [
    "df_title_auth_num['ratings_count_log'] = np.log(df_title_auth_num['ratings_count']+1)\n",
    "df_title_auth_num['num_pages_log'] = np.log(df_title_auth_num['num_pages']+1)\n",
    "df_title_auth_num['text_reviews_count_log'] = np.log(df_title_auth_num['text_reviews_count']+1)\n",
    "df_title_auth_num['average_rating_log'] = np.log(df_title_auth_num['average_rating']+1)\n",
    "df_title_auth_num['days_from_reference_date_log'] = np.log(df_title_auth_num['days_from_reference_date']+1)\n",
    "df_title_auth_num['months_from_reference_date_log'] = np.log(df_title_auth_num['months_from_reference_date']+1)\n",
    "df_title_auth_num['years_from_reference_date_log'] = np.log(df_title_auth_num['years_from_reference_date']+1)"
   ]
  },
  {
   "cell_type": "code",
   "execution_count": 203,
   "id": "41944697",
   "metadata": {},
   "outputs": [
    {
     "data": {
      "image/png": "[encoded data removed]",
      "text/plain": [
       "<Figure size 640x480 with 1 Axes>"
      ]
     },
     "metadata": {},
     "output_type": "display_data"
    }
   ],
   "source": [
    "sns.boxplot(data=df_title_auth_num, x='ratings_count_log');"
   ]
  },
  {
   "cell_type": "code",
   "execution_count": 204,
   "id": "3aa6cf7b",
   "metadata": {},
   "outputs": [
    {
     "name": "stderr",
     "output_type": "stream",
     "text": [
      "C:\\Users\\adven\\anaconda3\\envs\\python_bootcamp\\lib\\site-packages\\seaborn\\axisgrid.py:118: UserWarning: The figure layout has changed to tight\n",
      "  self._figure.tight_layout(*args, **kwargs)\n"
     ]
    },
    {
     "data": {
      "text/plain": [
       "<seaborn.axisgrid.FacetGrid at 0x13a6fe6aaf0>"
      ]
     },
     "execution_count": 204,
     "metadata": {},
     "output_type": "execute_result"
    },
    {
     "data": {
      "image/png": "[encoded data removed]",
      "text/plain": [
       "<Figure size 500x500 with 1 Axes>"
      ]
     },
     "metadata": {},
     "output_type": "display_data"
    }
   ],
   "source": [
    "sns.displot(df_title_auth_num['ratings_count_log'])"
   ]
  },
  {
   "cell_type": "code",
   "execution_count": 205,
   "id": "a0c27b8f",
   "metadata": {},
   "outputs": [
    {
     "data": {
      "image/png": "[encoded data removed]",
      "text/plain": [
       "<Figure size 640x480 with 1 Axes>"
      ]
     },
     "metadata": {},
     "output_type": "display_data"
    }
   ],
   "source": [
    "sns.boxplot(data=df_title_auth_num, x='num_pages_log');"
   ]
  },
  {
   "cell_type": "code",
   "execution_count": 206,
   "id": "60fb83ef",
   "metadata": {},
   "outputs": [
    {
     "name": "stderr",
     "output_type": "stream",
     "text": [
      "C:\\Users\\adven\\anaconda3\\envs\\python_bootcamp\\lib\\site-packages\\seaborn\\axisgrid.py:118: UserWarning: The figure layout has changed to tight\n",
      "  self._figure.tight_layout(*args, **kwargs)\n"
     ]
    },
    {
     "data": {
      "text/plain": [
       "<seaborn.axisgrid.FacetGrid at 0x13a70332040>"
      ]
     },
     "execution_count": 206,
     "metadata": {},
     "output_type": "execute_result"
    },
    {
     "data": {
      "image/png": "[encoded data removed]",
      "text/plain": [
       "<Figure size 500x500 with 1 Axes>"
      ]
     },
     "metadata": {},
     "output_type": "display_data"
    }
   ],
   "source": [
    "sns.displot(df_title_auth_num['num_pages_log'])"
   ]
  },
  {
   "cell_type": "code",
   "execution_count": 207,
   "id": "bf1f6b65",
   "metadata": {},
   "outputs": [
    {
     "data": {
      "image/png": "[encoded data removed]",
      "text/plain": [
       "<Figure size 640x480 with 1 Axes>"
      ]
     },
     "metadata": {},
     "output_type": "display_data"
    }
   ],
   "source": [
    "sns.boxplot(data=df_title_auth_num, x='text_reviews_count_log');"
   ]
  },
  {
   "cell_type": "code",
   "execution_count": 208,
   "id": "5ccb7719",
   "metadata": {},
   "outputs": [
    {
     "name": "stderr",
     "output_type": "stream",
     "text": [
      "C:\\Users\\adven\\anaconda3\\envs\\python_bootcamp\\lib\\site-packages\\seaborn\\axisgrid.py:118: UserWarning: The figure layout has changed to tight\n",
      "  self._figure.tight_layout(*args, **kwargs)\n"
     ]
    },
    {
     "data": {
      "text/plain": [
       "<seaborn.axisgrid.FacetGrid at 0x13a7051aeb0>"
      ]
     },
     "execution_count": 208,
     "metadata": {},
     "output_type": "execute_result"
    },
    {
     "data": {
      "image/png": "[encoded data removed]",
      "text/plain": [
       "<Figure size 500x500 with 1 Axes>"
      ]
     },
     "metadata": {},
     "output_type": "display_data"
    }
   ],
   "source": [
    "sns.displot(df_title_auth_num['text_reviews_count_log'])"
   ]
  },
  {
   "cell_type": "code",
   "execution_count": 209,
   "id": "95082525",
   "metadata": {},
   "outputs": [
    {
     "data": {
      "image/png": "[encoded data removed]",
      "text/plain": [
       "<Figure size 640x480 with 1 Axes>"
      ]
     },
     "metadata": {},
     "output_type": "display_data"
    }
   ],
   "source": [
    "sns.boxplot(data=df_title_auth_num, x='average_rating_log');"
   ]
  },
  {
   "cell_type": "code",
   "execution_count": 210,
   "id": "cb03c998",
   "metadata": {},
   "outputs": [
    {
     "name": "stderr",
     "output_type": "stream",
     "text": [
      "C:\\Users\\adven\\anaconda3\\envs\\python_bootcamp\\lib\\site-packages\\seaborn\\axisgrid.py:118: UserWarning: The figure layout has changed to tight\n",
      "  self._figure.tight_layout(*args, **kwargs)\n"
     ]
    },
    {
     "data": {
      "text/plain": [
       "<seaborn.axisgrid.FacetGrid at 0x13a6ff66eb0>"
      ]
     },
     "execution_count": 210,
     "metadata": {},
     "output_type": "execute_result"
    },
    {
     "data": {
      "image/png": "[encoded data removed]",
      "text/plain": [
       "<Figure size 500x500 with 1 Axes>"
      ]
     },
     "metadata": {},
     "output_type": "display_data"
    }
   ],
   "source": [
    "sns.displot(df_title_auth_num['average_rating_log'])"
   ]
  },
  {
   "cell_type": "code",
   "execution_count": 211,
   "id": "53c182b2",
   "metadata": {},
   "outputs": [
    {
     "data": {
      "image/png": "[encoded data removed]",
      "text/plain": [
       "<Figure size 640x480 with 1 Axes>"
      ]
     },
     "metadata": {},
     "output_type": "display_data"
    }
   ],
   "source": [
    "sns.boxplot(data=df_title_auth_num, x='days_from_reference_date_log');"
   ]
  },
  {
   "cell_type": "code",
   "execution_count": 212,
   "id": "6280f529",
   "metadata": {},
   "outputs": [
    {
     "name": "stderr",
     "output_type": "stream",
     "text": [
      "C:\\Users\\adven\\anaconda3\\envs\\python_bootcamp\\lib\\site-packages\\seaborn\\axisgrid.py:118: UserWarning: The figure layout has changed to tight\n",
      "  self._figure.tight_layout(*args, **kwargs)\n"
     ]
    },
    {
     "data": {
      "text/plain": [
       "<seaborn.axisgrid.FacetGrid at 0x13a6ff27340>"
      ]
     },
     "execution_count": 212,
     "metadata": {},
     "output_type": "execute_result"
    },
    {
     "data": {
      "image/png": "[encoded data removed]",
      "text/plain": [
       "<Figure size 500x500 with 1 Axes>"
      ]
     },
     "metadata": {},
     "output_type": "display_data"
    }
   ],
   "source": [
    "sns.displot(df_title_auth_num['days_from_reference_date_log'])"
   ]
  },
  {
   "cell_type": "code",
   "execution_count": 213,
   "id": "153a4bdf",
   "metadata": {},
   "outputs": [
    {
     "data": {
      "image/png": "[encoded data removed]",
      "text/plain": [
       "<Figure size 640x480 with 1 Axes>"
      ]
     },
     "metadata": {},
     "output_type": "display_data"
    }
   ],
   "source": [
    "sns.boxplot(data=df_title_auth_num, x='months_from_reference_date_log');"
   ]
  },
  {
   "cell_type": "code",
   "execution_count": 214,
   "id": "64f1a59d",
   "metadata": {},
   "outputs": [
    {
     "name": "stderr",
     "output_type": "stream",
     "text": [
      "C:\\Users\\adven\\anaconda3\\envs\\python_bootcamp\\lib\\site-packages\\seaborn\\axisgrid.py:118: UserWarning: The figure layout has changed to tight\n",
      "  self._figure.tight_layout(*args, **kwargs)\n"
     ]
    },
    {
     "data": {
      "text/plain": [
       "<seaborn.axisgrid.FacetGrid at 0x13a6fdc7a90>"
      ]
     },
     "execution_count": 214,
     "metadata": {},
     "output_type": "execute_result"
    },
    {
     "data": {
      "image/png": "[encoded data removed]",
      "text/plain": [
       "<Figure size 500x500 with 1 Axes>"
      ]
     },
     "metadata": {},
     "output_type": "display_data"
    }
   ],
   "source": [
    "sns.displot(df_title_auth_num['months_from_reference_date_log'])"
   ]
  },
  {
   "cell_type": "code",
   "execution_count": 215,
   "id": "807ff05b",
   "metadata": {},
   "outputs": [
    {
     "data": {
      "image/png": "[encoded data removed]",
      "text/plain": [
       "<Figure size 640x480 with 1 Axes>"
      ]
     },
     "metadata": {},
     "output_type": "display_data"
    }
   ],
   "source": [
    "sns.boxplot(data=df_title_auth_num, x='years_from_reference_date_log');"
   ]
  },
  {
   "cell_type": "code",
   "execution_count": 216,
   "id": "089b32b1",
   "metadata": {},
   "outputs": [
    {
     "name": "stderr",
     "output_type": "stream",
     "text": [
      "C:\\Users\\adven\\anaconda3\\envs\\python_bootcamp\\lib\\site-packages\\seaborn\\axisgrid.py:118: UserWarning: The figure layout has changed to tight\n",
      "  self._figure.tight_layout(*args, **kwargs)\n"
     ]
    },
    {
     "data": {
      "text/plain": [
       "<seaborn.axisgrid.FacetGrid at 0x13a6ac02700>"
      ]
     },
     "execution_count": 216,
     "metadata": {},
     "output_type": "execute_result"
    },
    {
     "data": {
      "image/png": "[encoded data removed]",
      "text/plain": [
       "<Figure size 500x500 with 1 Axes>"
      ]
     },
     "metadata": {},
     "output_type": "display_data"
    }
   ],
   "source": [
    "sns.displot(df_title_auth_num['years_from_reference_date_log'])"
   ]
  },
  {
   "cell_type": "markdown",
   "id": "4f02a444",
   "metadata": {},
   "source": [
    "From univariate point of view, it is visible that the log transformation method resulted in better distribution"
   ]
  },
  {
   "cell_type": "code",
   "execution_count": 217,
   "id": "361729ef",
   "metadata": {},
   "outputs": [
    {
     "data": {
      "text/html": [
       "<div>\n",
       "<style scoped>\n",
       "    .dataframe tbody tr th:only-of-type {\n",
       "        vertical-align: middle;\n",
       "    }\n",
       "\n",
       "    .dataframe tbody tr th {\n",
       "        vertical-align: top;\n",
       "    }\n",
       "\n",
       "    .dataframe thead th {\n",
       "        text-align: right;\n",
       "    }\n",
       "</style>\n",
       "<table border=\"1\" class=\"dataframe\">\n",
       "  <thead>\n",
       "    <tr style=\"text-align: right;\">\n",
       "      <th></th>\n",
       "      <th>average_rating_log</th>\n",
       "      <th>ratings_count_log</th>\n",
       "      <th>num_pages_log</th>\n",
       "      <th>text_reviews_count_log</th>\n",
       "      <th>days_from_reference_date_log</th>\n",
       "      <th>months_from_reference_date_log</th>\n",
       "      <th>years_from_reference_date_log</th>\n",
       "    </tr>\n",
       "  </thead>\n",
       "  <tbody>\n",
       "    <tr>\n",
       "      <th>average_rating_log</th>\n",
       "      <td>1.000000</td>\n",
       "      <td>0.111717</td>\n",
       "      <td>0.063641</td>\n",
       "      <td>0.053376</td>\n",
       "      <td>0.048755</td>\n",
       "      <td>0.048659</td>\n",
       "      <td>0.050312</td>\n",
       "    </tr>\n",
       "    <tr>\n",
       "      <th>ratings_count_log</th>\n",
       "      <td>0.111717</td>\n",
       "      <td>1.000000</td>\n",
       "      <td>0.210563</td>\n",
       "      <td>0.957143</td>\n",
       "      <td>-0.119594</td>\n",
       "      <td>-0.119645</td>\n",
       "      <td>-0.118251</td>\n",
       "    </tr>\n",
       "    <tr>\n",
       "      <th>num_pages_log</th>\n",
       "      <td>0.063641</td>\n",
       "      <td>0.210563</td>\n",
       "      <td>1.000000</td>\n",
       "      <td>0.185752</td>\n",
       "      <td>0.011059</td>\n",
       "      <td>0.011105</td>\n",
       "      <td>0.011938</td>\n",
       "    </tr>\n",
       "    <tr>\n",
       "      <th>text_reviews_count_log</th>\n",
       "      <td>0.053376</td>\n",
       "      <td>0.957143</td>\n",
       "      <td>0.185752</td>\n",
       "      <td>1.000000</td>\n",
       "      <td>-0.148027</td>\n",
       "      <td>-0.148070</td>\n",
       "      <td>-0.146618</td>\n",
       "    </tr>\n",
       "    <tr>\n",
       "      <th>days_from_reference_date_log</th>\n",
       "      <td>0.048755</td>\n",
       "      <td>-0.119594</td>\n",
       "      <td>0.011059</td>\n",
       "      <td>-0.148027</td>\n",
       "      <td>1.000000</td>\n",
       "      <td>0.999987</td>\n",
       "      <td>0.998828</td>\n",
       "    </tr>\n",
       "    <tr>\n",
       "      <th>months_from_reference_date_log</th>\n",
       "      <td>0.048659</td>\n",
       "      <td>-0.119645</td>\n",
       "      <td>0.011105</td>\n",
       "      <td>-0.148070</td>\n",
       "      <td>0.999987</td>\n",
       "      <td>1.000000</td>\n",
       "      <td>0.998836</td>\n",
       "    </tr>\n",
       "    <tr>\n",
       "      <th>years_from_reference_date_log</th>\n",
       "      <td>0.050312</td>\n",
       "      <td>-0.118251</td>\n",
       "      <td>0.011938</td>\n",
       "      <td>-0.146618</td>\n",
       "      <td>0.998828</td>\n",
       "      <td>0.998836</td>\n",
       "      <td>1.000000</td>\n",
       "    </tr>\n",
       "  </tbody>\n",
       "</table>\n",
       "</div>"
      ],
      "text/plain": [
       "                                average_rating_log  ratings_count_log  \\\n",
       "average_rating_log                        1.000000           0.111717   \n",
       "ratings_count_log                         0.111717           1.000000   \n",
       "num_pages_log                             0.063641           0.210563   \n",
       "text_reviews_count_log                    0.053376           0.957143   \n",
       "days_from_reference_date_log              0.048755          -0.119594   \n",
       "months_from_reference_date_log            0.048659          -0.119645   \n",
       "years_from_reference_date_log             0.050312          -0.118251   \n",
       "\n",
       "                                num_pages_log  text_reviews_count_log  \\\n",
       "average_rating_log                   0.063641                0.053376   \n",
       "ratings_count_log                    0.210563                0.957143   \n",
       "num_pages_log                        1.000000                0.185752   \n",
       "text_reviews_count_log               0.185752                1.000000   \n",
       "days_from_reference_date_log         0.011059               -0.148027   \n",
       "months_from_reference_date_log       0.011105               -0.148070   \n",
       "years_from_reference_date_log        0.011938               -0.146618   \n",
       "\n",
       "                                days_from_reference_date_log  \\\n",
       "average_rating_log                                  0.048755   \n",
       "ratings_count_log                                  -0.119594   \n",
       "num_pages_log                                       0.011059   \n",
       "text_reviews_count_log                             -0.148027   \n",
       "days_from_reference_date_log                        1.000000   \n",
       "months_from_reference_date_log                      0.999987   \n",
       "years_from_reference_date_log                       0.998828   \n",
       "\n",
       "                                months_from_reference_date_log  \\\n",
       "average_rating_log                                    0.048659   \n",
       "ratings_count_log                                    -0.119645   \n",
       "num_pages_log                                         0.011105   \n",
       "text_reviews_count_log                               -0.148070   \n",
       "days_from_reference_date_log                          0.999987   \n",
       "months_from_reference_date_log                        1.000000   \n",
       "years_from_reference_date_log                         0.998836   \n",
       "\n",
       "                                years_from_reference_date_log  \n",
       "average_rating_log                                   0.050312  \n",
       "ratings_count_log                                   -0.118251  \n",
       "num_pages_log                                        0.011938  \n",
       "text_reviews_count_log                              -0.146618  \n",
       "days_from_reference_date_log                         0.998828  \n",
       "months_from_reference_date_log                       0.998836  \n",
       "years_from_reference_date_log                        1.000000  "
      ]
     },
     "execution_count": 217,
     "metadata": {},
     "output_type": "execute_result"
    }
   ],
   "source": [
    "df_title_auth_num[['average_rating_log', 'ratings_count_log', 'num_pages_log', 'text_reviews_count_log',\n",
    "                  'days_from_reference_date_log', 'months_from_reference_date_log',\n",
    "                  'years_from_reference_date_log']].corr()"
   ]
  },
  {
   "cell_type": "code",
   "execution_count": 218,
   "id": "0ec1cb1c",
   "metadata": {},
   "outputs": [
    {
     "data": {
      "text/html": [
       "<div>\n",
       "<style scoped>\n",
       "    .dataframe tbody tr th:only-of-type {\n",
       "        vertical-align: middle;\n",
       "    }\n",
       "\n",
       "    .dataframe tbody tr th {\n",
       "        vertical-align: top;\n",
       "    }\n",
       "\n",
       "    .dataframe thead th {\n",
       "        text-align: right;\n",
       "    }\n",
       "</style>\n",
       "<table border=\"1\" class=\"dataframe\">\n",
       "  <thead>\n",
       "    <tr style=\"text-align: right;\">\n",
       "      <th></th>\n",
       "      <th>average_rating</th>\n",
       "      <th>num_pages</th>\n",
       "      <th>ratings_count</th>\n",
       "      <th>text_reviews_count</th>\n",
       "      <th>days_from_reference_date</th>\n",
       "      <th>months_from_reference_date</th>\n",
       "      <th>years_from_reference_date</th>\n",
       "    </tr>\n",
       "  </thead>\n",
       "  <tbody>\n",
       "    <tr>\n",
       "      <th>average_rating</th>\n",
       "      <td>1.000000</td>\n",
       "      <td>0.165774</td>\n",
       "      <td>0.040421</td>\n",
       "      <td>0.030609</td>\n",
       "      <td>0.048209</td>\n",
       "      <td>0.048116</td>\n",
       "      <td>0.049476</td>\n",
       "    </tr>\n",
       "    <tr>\n",
       "      <th>num_pages</th>\n",
       "      <td>0.165774</td>\n",
       "      <td>1.000000</td>\n",
       "      <td>0.031158</td>\n",
       "      <td>0.032971</td>\n",
       "      <td>0.017001</td>\n",
       "      <td>0.017018</td>\n",
       "      <td>0.018338</td>\n",
       "    </tr>\n",
       "    <tr>\n",
       "      <th>ratings_count</th>\n",
       "      <td>0.040421</td>\n",
       "      <td>0.031158</td>\n",
       "      <td>1.000000</td>\n",
       "      <td>0.871895</td>\n",
       "      <td>-0.048778</td>\n",
       "      <td>-0.048791</td>\n",
       "      <td>-0.048813</td>\n",
       "    </tr>\n",
       "    <tr>\n",
       "      <th>text_reviews_count</th>\n",
       "      <td>0.030609</td>\n",
       "      <td>0.032971</td>\n",
       "      <td>0.871895</td>\n",
       "      <td>1.000000</td>\n",
       "      <td>-0.070760</td>\n",
       "      <td>-0.070761</td>\n",
       "      <td>-0.070892</td>\n",
       "    </tr>\n",
       "    <tr>\n",
       "      <th>days_from_reference_date</th>\n",
       "      <td>0.048209</td>\n",
       "      <td>0.017001</td>\n",
       "      <td>-0.048778</td>\n",
       "      <td>-0.070760</td>\n",
       "      <td>1.000000</td>\n",
       "      <td>0.999993</td>\n",
       "      <td>0.999388</td>\n",
       "    </tr>\n",
       "    <tr>\n",
       "      <th>months_from_reference_date</th>\n",
       "      <td>0.048116</td>\n",
       "      <td>0.017018</td>\n",
       "      <td>-0.048791</td>\n",
       "      <td>-0.070761</td>\n",
       "      <td>0.999993</td>\n",
       "      <td>1.000000</td>\n",
       "      <td>0.999391</td>\n",
       "    </tr>\n",
       "    <tr>\n",
       "      <th>years_from_reference_date</th>\n",
       "      <td>0.049476</td>\n",
       "      <td>0.018338</td>\n",
       "      <td>-0.048813</td>\n",
       "      <td>-0.070892</td>\n",
       "      <td>0.999388</td>\n",
       "      <td>0.999391</td>\n",
       "      <td>1.000000</td>\n",
       "    </tr>\n",
       "  </tbody>\n",
       "</table>\n",
       "</div>"
      ],
      "text/plain": [
       "                            average_rating  num_pages  ratings_count  \\\n",
       "average_rating                    1.000000   0.165774       0.040421   \n",
       "num_pages                         0.165774   1.000000       0.031158   \n",
       "ratings_count                     0.040421   0.031158       1.000000   \n",
       "text_reviews_count                0.030609   0.032971       0.871895   \n",
       "days_from_reference_date          0.048209   0.017001      -0.048778   \n",
       "months_from_reference_date        0.048116   0.017018      -0.048791   \n",
       "years_from_reference_date         0.049476   0.018338      -0.048813   \n",
       "\n",
       "                            text_reviews_count  days_from_reference_date  \\\n",
       "average_rating                        0.030609                  0.048209   \n",
       "num_pages                             0.032971                  0.017001   \n",
       "ratings_count                         0.871895                 -0.048778   \n",
       "text_reviews_count                    1.000000                 -0.070760   \n",
       "days_from_reference_date             -0.070760                  1.000000   \n",
       "months_from_reference_date           -0.070761                  0.999993   \n",
       "years_from_reference_date            -0.070892                  0.999388   \n",
       "\n",
       "                            months_from_reference_date  \\\n",
       "average_rating                                0.048116   \n",
       "num_pages                                     0.017018   \n",
       "ratings_count                                -0.048791   \n",
       "text_reviews_count                           -0.070761   \n",
       "days_from_reference_date                      0.999993   \n",
       "months_from_reference_date                    1.000000   \n",
       "years_from_reference_date                     0.999391   \n",
       "\n",
       "                            years_from_reference_date  \n",
       "average_rating                               0.049476  \n",
       "num_pages                                    0.018338  \n",
       "ratings_count                               -0.048813  \n",
       "text_reviews_count                          -0.070892  \n",
       "days_from_reference_date                     0.999388  \n",
       "months_from_reference_date                   0.999391  \n",
       "years_from_reference_date                    1.000000  "
      ]
     },
     "execution_count": 218,
     "metadata": {},
     "output_type": "execute_result"
    }
   ],
   "source": [
    "df_title_auth_num[['average_rating', 'num_pages', 'ratings_count', 'text_reviews_count',\n",
    "                   'days_from_reference_date', 'months_from_reference_date', 'years_from_reference_date']].corr()"
   ]
  },
  {
   "cell_type": "markdown",
   "id": "d65e7889",
   "metadata": {},
   "source": [
    "From bivariate point of view, again, there are trade-off between correlations of the target and feature."
   ]
  },
  {
   "cell_type": "code",
   "execution_count": 219,
   "id": "69359768",
   "metadata": {},
   "outputs": [
    {
     "data": {
      "text/plain": [
       "Index(['bookname_author1', 'language_code', 'num_pages', 'ratings_count',\n",
       "       'text_reviews_count', 'average_rating', 'days_from_reference_date',\n",
       "       'months_from_reference_date', 'years_from_reference_date',\n",
       "       'ratings_count_log', 'num_pages_log', 'text_reviews_count_log',\n",
       "       'average_rating_log', 'days_from_reference_date_log',\n",
       "       'months_from_reference_date_log', 'years_from_reference_date_log'],\n",
       "      dtype='object')"
      ]
     },
     "execution_count": 219,
     "metadata": {},
     "output_type": "execute_result"
    }
   ],
   "source": [
    "df_title_auth_num.columns"
   ]
  },
  {
   "cell_type": "markdown",
   "id": "66024fc5",
   "metadata": {},
   "source": [
    "## Modelling"
   ]
  },
  {
   "cell_type": "markdown",
   "id": "913e6cc1",
   "metadata": {},
   "source": [
    "### Data Splitting"
   ]
  },
  {
   "cell_type": "code",
   "execution_count": 220,
   "id": "db385042",
   "metadata": {},
   "outputs": [],
   "source": [
    "X = df_title_auth_num[['ratings_count', 'num_pages', 'text_reviews_count', 'language_code',\n",
    "                       'days_from_reference_date', 'months_from_reference_date', 'years_from_reference_date']]\n",
    "y = df_title_auth_num['average_rating']\n",
    "\n",
    "X_train, X_test, y_train, y_test = train_test_split(X, y, test_size = 0.2, random_state=1)"
   ]
  },
  {
   "cell_type": "code",
   "execution_count": 221,
   "id": "afc7564b",
   "metadata": {},
   "outputs": [],
   "source": [
    "X_log = df_title_auth_num[['ratings_count_log', 'num_pages_log', 'text_reviews_count_log', 'language_code',\n",
    "                          'days_from_reference_date_log', 'months_from_reference_date_log', 'years_from_reference_date_log']]\n",
    "y_log = df_title_auth_num['average_rating_log']\n",
    "\n",
    "X_train_log, X_test_log, y_train_log, y_test_log = train_test_split(X_log, y_log, test_size = 0.2, random_state=1)"
   ]
  },
  {
   "cell_type": "code",
   "execution_count": 222,
   "id": "d3b989b6",
   "metadata": {},
   "outputs": [
    {
     "data": {
      "text/html": [
       "<div>\n",
       "<style scoped>\n",
       "    .dataframe tbody tr th:only-of-type {\n",
       "        vertical-align: middle;\n",
       "    }\n",
       "\n",
       "    .dataframe tbody tr th {\n",
       "        vertical-align: top;\n",
       "    }\n",
       "\n",
       "    .dataframe thead th {\n",
       "        text-align: right;\n",
       "    }\n",
       "</style>\n",
       "<table border=\"1\" class=\"dataframe\">\n",
       "  <thead>\n",
       "    <tr style=\"text-align: right;\">\n",
       "      <th></th>\n",
       "      <th>ratings_count</th>\n",
       "      <th>num_pages</th>\n",
       "      <th>text_reviews_count</th>\n",
       "      <th>language_code</th>\n",
       "      <th>days_from_reference_date</th>\n",
       "      <th>months_from_reference_date</th>\n",
       "      <th>years_from_reference_date</th>\n",
       "    </tr>\n",
       "  </thead>\n",
       "  <tbody>\n",
       "    <tr>\n",
       "      <th>6048</th>\n",
       "      <td>22721.0</td>\n",
       "      <td>216.0</td>\n",
       "      <td>1111.0</td>\n",
       "      <td>eng</td>\n",
       "      <td>6604.0</td>\n",
       "      <td>216.0</td>\n",
       "      <td>18.0</td>\n",
       "    </tr>\n",
       "    <tr>\n",
       "      <th>871</th>\n",
       "      <td>22255.0</td>\n",
       "      <td>233.0</td>\n",
       "      <td>710.0</td>\n",
       "      <td>eng</td>\n",
       "      <td>8980.0</td>\n",
       "      <td>295.0</td>\n",
       "      <td>24.0</td>\n",
       "    </tr>\n",
       "    <tr>\n",
       "      <th>2517</th>\n",
       "      <td>2356.0</td>\n",
       "      <td>112.0</td>\n",
       "      <td>103.0</td>\n",
       "      <td>eng</td>\n",
       "      <td>6941.0</td>\n",
       "      <td>228.0</td>\n",
       "      <td>19.0</td>\n",
       "    </tr>\n",
       "    <tr>\n",
       "      <th>3071</th>\n",
       "      <td>4687.0</td>\n",
       "      <td>98.0</td>\n",
       "      <td>19.0</td>\n",
       "      <td>eng</td>\n",
       "      <td>7093.0</td>\n",
       "      <td>233.0</td>\n",
       "      <td>19.0</td>\n",
       "    </tr>\n",
       "    <tr>\n",
       "      <th>2106</th>\n",
       "      <td>393.0</td>\n",
       "      <td>176.0</td>\n",
       "      <td>57.0</td>\n",
       "      <td>eng</td>\n",
       "      <td>17135.0</td>\n",
       "      <td>562.0</td>\n",
       "      <td>46.0</td>\n",
       "    </tr>\n",
       "    <tr>\n",
       "      <th>...</th>\n",
       "      <td>...</td>\n",
       "      <td>...</td>\n",
       "      <td>...</td>\n",
       "      <td>...</td>\n",
       "      <td>...</td>\n",
       "      <td>...</td>\n",
       "      <td>...</td>\n",
       "    </tr>\n",
       "    <tr>\n",
       "      <th>2895</th>\n",
       "      <td>12754.0</td>\n",
       "      <td>80.0</td>\n",
       "      <td>558.0</td>\n",
       "      <td>eng</td>\n",
       "      <td>8228.0</td>\n",
       "      <td>270.0</td>\n",
       "      <td>22.0</td>\n",
       "    </tr>\n",
       "    <tr>\n",
       "      <th>7813</th>\n",
       "      <td>11.0</td>\n",
       "      <td>240.0</td>\n",
       "      <td>4.0</td>\n",
       "      <td>eng</td>\n",
       "      <td>7761.0</td>\n",
       "      <td>254.0</td>\n",
       "      <td>21.0</td>\n",
       "    </tr>\n",
       "    <tr>\n",
       "      <th>905</th>\n",
       "      <td>293.0</td>\n",
       "      <td>204.0</td>\n",
       "      <td>31.0</td>\n",
       "      <td>spa</td>\n",
       "      <td>6484.0</td>\n",
       "      <td>213.0</td>\n",
       "      <td>17.0</td>\n",
       "    </tr>\n",
       "    <tr>\n",
       "      <th>5192</th>\n",
       "      <td>36.0</td>\n",
       "      <td>741.0</td>\n",
       "      <td>2.0</td>\n",
       "      <td>glg</td>\n",
       "      <td>6369.0</td>\n",
       "      <td>209.0</td>\n",
       "      <td>17.0</td>\n",
       "    </tr>\n",
       "    <tr>\n",
       "      <th>235</th>\n",
       "      <td>97.0</td>\n",
       "      <td>267.0</td>\n",
       "      <td>13.0</td>\n",
       "      <td>eng</td>\n",
       "      <td>7580.0</td>\n",
       "      <td>249.0</td>\n",
       "      <td>20.0</td>\n",
       "    </tr>\n",
       "  </tbody>\n",
       "</table>\n",
       "<p>8336 rows × 7 columns</p>\n",
       "</div>"
      ],
      "text/plain": [
       "      ratings_count  num_pages  text_reviews_count language_code  \\\n",
       "6048        22721.0      216.0              1111.0           eng   \n",
       "871         22255.0      233.0               710.0           eng   \n",
       "2517         2356.0      112.0               103.0           eng   \n",
       "3071         4687.0       98.0                19.0           eng   \n",
       "2106          393.0      176.0                57.0           eng   \n",
       "...             ...        ...                 ...           ...   \n",
       "2895        12754.0       80.0               558.0           eng   \n",
       "7813           11.0      240.0                 4.0           eng   \n",
       "905           293.0      204.0                31.0           spa   \n",
       "5192           36.0      741.0                 2.0           glg   \n",
       "235            97.0      267.0                13.0           eng   \n",
       "\n",
       "      days_from_reference_date  months_from_reference_date  \\\n",
       "6048                    6604.0                       216.0   \n",
       "871                     8980.0                       295.0   \n",
       "2517                    6941.0                       228.0   \n",
       "3071                    7093.0                       233.0   \n",
       "2106                   17135.0                       562.0   \n",
       "...                        ...                         ...   \n",
       "2895                    8228.0                       270.0   \n",
       "7813                    7761.0                       254.0   \n",
       "905                     6484.0                       213.0   \n",
       "5192                    6369.0                       209.0   \n",
       "235                     7580.0                       249.0   \n",
       "\n",
       "      years_from_reference_date  \n",
       "6048                       18.0  \n",
       "871                        24.0  \n",
       "2517                       19.0  \n",
       "3071                       19.0  \n",
       "2106                       46.0  \n",
       "...                         ...  \n",
       "2895                       22.0  \n",
       "7813                       21.0  \n",
       "905                        17.0  \n",
       "5192                       17.0  \n",
       "235                        20.0  \n",
       "\n",
       "[8336 rows x 7 columns]"
      ]
     },
     "execution_count": 222,
     "metadata": {},
     "output_type": "execute_result"
    }
   ],
   "source": [
    "X_train"
   ]
  },
  {
   "cell_type": "code",
   "execution_count": 223,
   "id": "cab50456",
   "metadata": {},
   "outputs": [
    {
     "data": {
      "text/html": [
       "<div>\n",
       "<style scoped>\n",
       "    .dataframe tbody tr th:only-of-type {\n",
       "        vertical-align: middle;\n",
       "    }\n",
       "\n",
       "    .dataframe tbody tr th {\n",
       "        vertical-align: top;\n",
       "    }\n",
       "\n",
       "    .dataframe thead th {\n",
       "        text-align: right;\n",
       "    }\n",
       "</style>\n",
       "<table border=\"1\" class=\"dataframe\">\n",
       "  <thead>\n",
       "    <tr style=\"text-align: right;\">\n",
       "      <th></th>\n",
       "      <th>ratings_count_log</th>\n",
       "      <th>num_pages_log</th>\n",
       "      <th>text_reviews_count_log</th>\n",
       "      <th>language_code</th>\n",
       "      <th>days_from_reference_date_log</th>\n",
       "      <th>months_from_reference_date_log</th>\n",
       "      <th>years_from_reference_date_log</th>\n",
       "    </tr>\n",
       "  </thead>\n",
       "  <tbody>\n",
       "    <tr>\n",
       "      <th>6048</th>\n",
       "      <td>10.031089</td>\n",
       "      <td>5.379897</td>\n",
       "      <td>7.013915</td>\n",
       "      <td>eng</td>\n",
       "      <td>8.795582</td>\n",
       "      <td>5.379897</td>\n",
       "      <td>2.944439</td>\n",
       "    </tr>\n",
       "    <tr>\n",
       "      <th>871</th>\n",
       "      <td>10.010367</td>\n",
       "      <td>5.455321</td>\n",
       "      <td>6.566672</td>\n",
       "      <td>eng</td>\n",
       "      <td>9.102867</td>\n",
       "      <td>5.690359</td>\n",
       "      <td>3.218876</td>\n",
       "    </tr>\n",
       "    <tr>\n",
       "      <th>2517</th>\n",
       "      <td>7.765145</td>\n",
       "      <td>4.727388</td>\n",
       "      <td>4.644391</td>\n",
       "      <td>eng</td>\n",
       "      <td>8.845345</td>\n",
       "      <td>5.433722</td>\n",
       "      <td>2.995732</td>\n",
       "    </tr>\n",
       "    <tr>\n",
       "      <th>3071</th>\n",
       "      <td>8.452761</td>\n",
       "      <td>4.595120</td>\n",
       "      <td>2.995732</td>\n",
       "      <td>eng</td>\n",
       "      <td>8.867005</td>\n",
       "      <td>5.455321</td>\n",
       "      <td>2.995732</td>\n",
       "    </tr>\n",
       "    <tr>\n",
       "      <th>2106</th>\n",
       "      <td>5.976351</td>\n",
       "      <td>5.176150</td>\n",
       "      <td>4.060443</td>\n",
       "      <td>eng</td>\n",
       "      <td>9.748937</td>\n",
       "      <td>6.333280</td>\n",
       "      <td>3.850148</td>\n",
       "    </tr>\n",
       "    <tr>\n",
       "      <th>...</th>\n",
       "      <td>...</td>\n",
       "      <td>...</td>\n",
       "      <td>...</td>\n",
       "      <td>...</td>\n",
       "      <td>...</td>\n",
       "      <td>...</td>\n",
       "      <td>...</td>\n",
       "    </tr>\n",
       "    <tr>\n",
       "      <th>2895</th>\n",
       "      <td>9.453679</td>\n",
       "      <td>4.394449</td>\n",
       "      <td>6.326149</td>\n",
       "      <td>eng</td>\n",
       "      <td>9.015420</td>\n",
       "      <td>5.602119</td>\n",
       "      <td>3.135494</td>\n",
       "    </tr>\n",
       "    <tr>\n",
       "      <th>7813</th>\n",
       "      <td>2.484907</td>\n",
       "      <td>5.484797</td>\n",
       "      <td>1.609438</td>\n",
       "      <td>eng</td>\n",
       "      <td>8.956995</td>\n",
       "      <td>5.541264</td>\n",
       "      <td>3.091042</td>\n",
       "    </tr>\n",
       "    <tr>\n",
       "      <th>905</th>\n",
       "      <td>5.683580</td>\n",
       "      <td>5.323010</td>\n",
       "      <td>3.465736</td>\n",
       "      <td>spa</td>\n",
       "      <td>8.777247</td>\n",
       "      <td>5.365976</td>\n",
       "      <td>2.890372</td>\n",
       "    </tr>\n",
       "    <tr>\n",
       "      <th>5192</th>\n",
       "      <td>3.610918</td>\n",
       "      <td>6.609349</td>\n",
       "      <td>1.098612</td>\n",
       "      <td>glg</td>\n",
       "      <td>8.759355</td>\n",
       "      <td>5.347108</td>\n",
       "      <td>2.890372</td>\n",
       "    </tr>\n",
       "    <tr>\n",
       "      <th>235</th>\n",
       "      <td>4.584967</td>\n",
       "      <td>5.590987</td>\n",
       "      <td>2.639057</td>\n",
       "      <td>eng</td>\n",
       "      <td>8.933400</td>\n",
       "      <td>5.521461</td>\n",
       "      <td>3.044522</td>\n",
       "    </tr>\n",
       "  </tbody>\n",
       "</table>\n",
       "<p>8336 rows × 7 columns</p>\n",
       "</div>"
      ],
      "text/plain": [
       "      ratings_count_log  num_pages_log  text_reviews_count_log language_code  \\\n",
       "6048          10.031089       5.379897                7.013915           eng   \n",
       "871           10.010367       5.455321                6.566672           eng   \n",
       "2517           7.765145       4.727388                4.644391           eng   \n",
       "3071           8.452761       4.595120                2.995732           eng   \n",
       "2106           5.976351       5.176150                4.060443           eng   \n",
       "...                 ...            ...                     ...           ...   \n",
       "2895           9.453679       4.394449                6.326149           eng   \n",
       "7813           2.484907       5.484797                1.609438           eng   \n",
       "905            5.683580       5.323010                3.465736           spa   \n",
       "5192           3.610918       6.609349                1.098612           glg   \n",
       "235            4.584967       5.590987                2.639057           eng   \n",
       "\n",
       "      days_from_reference_date_log  months_from_reference_date_log  \\\n",
       "6048                      8.795582                        5.379897   \n",
       "871                       9.102867                        5.690359   \n",
       "2517                      8.845345                        5.433722   \n",
       "3071                      8.867005                        5.455321   \n",
       "2106                      9.748937                        6.333280   \n",
       "...                            ...                             ...   \n",
       "2895                      9.015420                        5.602119   \n",
       "7813                      8.956995                        5.541264   \n",
       "905                       8.777247                        5.365976   \n",
       "5192                      8.759355                        5.347108   \n",
       "235                       8.933400                        5.521461   \n",
       "\n",
       "      years_from_reference_date_log  \n",
       "6048                       2.944439  \n",
       "871                        3.218876  \n",
       "2517                       2.995732  \n",
       "3071                       2.995732  \n",
       "2106                       3.850148  \n",
       "...                             ...  \n",
       "2895                       3.135494  \n",
       "7813                       3.091042  \n",
       "905                        2.890372  \n",
       "5192                       2.890372  \n",
       "235                        3.044522  \n",
       "\n",
       "[8336 rows x 7 columns]"
      ]
     },
     "execution_count": 223,
     "metadata": {},
     "output_type": "execute_result"
    }
   ],
   "source": [
    "X_train_log"
   ]
  },
  {
   "cell_type": "markdown",
   "id": "3334bf5c",
   "metadata": {},
   "source": [
    "### Experimenting with The Model"
   ]
  },
  {
   "cell_type": "markdown",
   "id": "533529bd",
   "metadata": {},
   "source": [
    "We have looked at the behaviour of the data by performing some statistical analysis methods. From the result of the analysis, it is necessary to run an experiment to answer several questions:\n",
    "* What is the best model in our case?\n",
    "* Does log transformation really give significant impact to the model's performance?\n",
    "* We defined several features that indicate strong collinearity such as `text_reviews_count` vs `ratings_count` and `days_from_reference_date` vs `months_from_reference_date` vs `years_from_reference_date`. Does removal one or more of these features make the model perform better?\n",
    "\n",
    "To run such experiment, it would be the best practice to put the pre-processing component inside a pipeline to eliminate the possibility of data leak (the distribution of the training data affect the distribution of testing data) which can lead to biased result.\n",
    "\n",
    "Here is the brief explanation of the preprocessing pipeline:\n",
    "* `BinaryEncoder()` will be applied to the `language_code` feature. This method perform quite similar to the `OneHotEncoder()` but it will not increase the dimensionality of the dataset since the binary will be stored in one columns\n",
    "* `StandardScaler()` will be applied to the numerical features such as `ratings_count`, `num_pages`, `text_reviews_count`, `days_from_reference_date`, `months_from_reference_date`, `years_from_reference_date` for standardizing features by removing the mean and scaling to unit variance.\n",
    "* `PolynomialFeatures()` will be applied to the numerical feature to expand the possibility of finding good predictor to the target. Here, arguments `degree=2` and `interaction_only=True` used to limit the polynomial combination up to the second degree and to exclude the combination of the same feature (e.g. `x^2`, `y^2` excluded, only `x*y` included)\n",
    "\n",
    "The modeling experiment will be performed iteratively by using 6 kinds of feature sets:\n",
    "* All of the untransformed numerical features including the `language_code` : \n",
    "`['ratings_count', 'num_pages', 'text_reviews_count', 'days_from_reference_date', 'months_from_reference_date', 'years_from_reference_date', 'language_code']`\n",
    "* Same like number 1 but without `text_reviews_count`\n",
    "* Same like number 1 but without `days_from_reference_date` and `months_from_reference_date`\n",
    "* Same like number 1 but without `text_reviews_count`, `days_from_reference_date` and `months_from_reference_date`\n",
    "* All of the log-transformed numerical features including the `language_code` : \n",
    "`['ratings_count_log', 'num_pages_log', 'text_reviews_count_log', 'days_from_reference_date_log', 'months_from_reference_date_log', 'years_from_reference_date_log', 'language_code']`\n",
    "* Same like number 3 but without `text_reviews_count_log`\n",
    "* Same like number 3 but without `days_from_reference_date_log` and `months_from_reference_date_log`\n",
    "* Same like number 3 but without `text_reviews_count_log`, `days_from_reference_date_log` and `months_from_reference_date_log`\n",
    "\n",
    "Models used:\n",
    "* `LinearRegression()` with argument `n_jobs=-1` to enable parallel computation\n",
    "* `SVR()` with argument `kernel='rbf'`\n",
    "* `RandomForestRegressor()` with arguments `random_state=2023` and `n_jobs=-1` to set the random seed and to enable parallel computation\n",
    "* `GradientBoostingRegressor()` with argument `random_state=2023` to enable parallel computation\n",
    "\n",
    "The experiment will be run 5 times for each combination of the preprocessing and data feature sets. The mean and standard deviation of r-squared and RMSE will be calculated in order to define the model's performance and stability in every iteration."
   ]
  },
  {
   "cell_type": "code",
   "execution_count": 227,
   "id": "4b62934e",
   "metadata": {},
   "outputs": [],
   "source": [
    "def try_models(model='lr', transformation='none', features='all'):\n",
    "    binary_enc = ce.BinaryEncoder()\n",
    "    scaler = StandardScaler()\n",
    "    poly = PolynomialFeatures(degree=2, interaction_only=True)\n",
    "\n",
    "    lr = LinearRegression(n_jobs=-1) \n",
    "    svr_rbf = SVR(kernel = 'rbf')\n",
    "    rf = RandomForestRegressor(random_state=2023, n_jobs=-1)\n",
    "    gbr = GradientBoostingRegressor(random_state=2023)\n",
    "    \n",
    "    cols = ['ratings_count', 'num_pages', 'text_reviews_count',\n",
    "            'days_from_reference_date', 'months_from_reference_date', \n",
    "            'years_from_reference_date']\n",
    "    \n",
    "    cols_log = ['ratings_count_log', 'num_pages_log', 'text_reviews_count_log',\n",
    "            'days_from_reference_date_log', 'months_from_reference_date_log', \n",
    "            'years_from_reference_date_log']\n",
    "    \n",
    "    if features == 'all' and transformation == 'none':\n",
    "        cols = cols\n",
    "    elif features == 'a_removed' and transformation == 'none':\n",
    "        cols.remove('text_reviews_count')\n",
    "    elif features == 'b_removed' and transformation == 'none':\n",
    "        cols.remove('days_from_reference_date')\n",
    "        cols.remove('months_from_reference_date')\n",
    "    elif features == 'ab_removed' and transformation == 'none':\n",
    "        cols.remove('text_reviews_count')\n",
    "        cols.remove('days_from_reference_date')\n",
    "        cols.remove('months_from_reference_date')\n",
    "    elif features == 'all' and transformation == 'log':\n",
    "        cols_log = cols_log\n",
    "    elif features == 'a_removed' and transformation == 'log':\n",
    "        cols_log.remove('text_reviews_count_log')\n",
    "    elif features == 'b_removed' and transformation == 'log':\n",
    "        cols_log.remove('days_from_reference_date_log')\n",
    "        cols_log.remove('months_from_reference_date_log')\n",
    "    elif features == 'ab_removed' and transformation == 'log':\n",
    "        cols_log.remove('text_reviews_count_log')\n",
    "        cols_log.remove('days_from_reference_date_log')\n",
    "        cols_log.remove('months_from_reference_date_log')\n",
    "\n",
    "    num_pipe = Pipeline([\n",
    "        ('poly', poly),\n",
    "        ('scaler', scaler)\n",
    "    ])\n",
    "    \n",
    "    cat_pipe = Pipeline([\n",
    "        ('binary', binary_enc)\n",
    "    ])\n",
    "    \n",
    "    if transformation == 'none':\n",
    "        transformer = ColumnTransformer([\n",
    "            ('categorical_prep', binary_enc, ['language_code']),\n",
    "            ('numerical_prep', num_pipe, cols)\n",
    "        ], remainder='drop')\n",
    "    elif transformation == 'log':\n",
    "        transformer = ColumnTransformer([\n",
    "            ('categorical_prep', binary_enc, ['language_code']),\n",
    "            ('numerical_prep', num_pipe, cols_log)\n",
    "        ], remainder='drop')\n",
    "\n",
    "\n",
    "    if model == 'lr':\n",
    "        reg = lr\n",
    "    elif model == 'svr_rbf':\n",
    "        reg = svr_rbf\n",
    "    elif model == 'rf':\n",
    "        reg = rf\n",
    "    elif model == 'gbr':\n",
    "        reg = gbr\n",
    "\n",
    "    estimator = Pipeline([\n",
    "        ('preprocess', transformer),\n",
    "        ('reg', reg)\n",
    "    ])\n",
    "    \n",
    "    if transformation == 'none':\n",
    "        model_cv = cross_validate(estimator, X_train, y_train, cv=5, \n",
    "                                  scoring=('r2','neg_root_mean_squared_error'))\n",
    "    elif transformation == 'log':\n",
    "        model_cv = cross_validate(estimator, X_train_log, y_train_log, cv=5, \n",
    "                          scoring=('r2','neg_root_mean_squared_error'))\n",
    "\n",
    "    return estimator, pd.DataFrame(model_cv)"
   ]
  },
  {
   "cell_type": "markdown",
   "id": "cc2c327d",
   "metadata": {},
   "source": [
    "Now it's time to run the experiment"
   ]
  },
  {
   "cell_type": "code",
   "execution_count": 231,
   "id": "cc498f95",
   "metadata": {
    "scrolled": false
   },
   "outputs": [
    {
     "name": "stdout",
     "output_type": "stream",
     "text": [
      "Mean R-squared of lr with none numerical transformation and all features : 0.025\n",
      "Mean RMSE of lr with none numerical transformation all features: -0.2947\n",
      "STD R-squared of lr with none numerical transformation all features: 0.041\n",
      "STD RMSE of lr with none numerical transformation all features: 0.0106\n",
      "\n",
      "Mean R-squared of lr with none numerical transformation and a_removed features : 0.0349\n",
      "Mean RMSE of lr with none numerical transformation a_removed features: -0.2933\n",
      "STD R-squared of lr with none numerical transformation a_removed features: 0.0175\n",
      "STD RMSE of lr with none numerical transformation a_removed features: 0.008\n",
      "\n",
      "Mean R-squared of lr with none numerical transformation and b_removed features : 0.0272\n",
      "Mean RMSE of lr with none numerical transformation b_removed features: -0.2944\n",
      "STD R-squared of lr with none numerical transformation b_removed features: 0.0314\n",
      "STD RMSE of lr with none numerical transformation b_removed features: 0.0095\n",
      "\n",
      "Mean R-squared of lr with none numerical transformation and ab_removed features : 0.0341\n",
      "Mean RMSE of lr with none numerical transformation ab_removed features: -0.2934\n",
      "STD R-squared of lr with none numerical transformation ab_removed features: 0.0149\n",
      "STD RMSE of lr with none numerical transformation ab_removed features: 0.0077\n",
      "\n",
      "Mean R-squared of lr with log numerical transformation and all features : 0.063\n",
      "Mean RMSE of lr with log numerical transformation all features: -0.0606\n",
      "STD R-squared of lr with log numerical transformation all features: 0.0149\n",
      "STD RMSE of lr with log numerical transformation all features: 0.0029\n",
      "\n",
      "Mean R-squared of lr with log numerical transformation and a_removed features : 0.0269\n",
      "Mean RMSE of lr with log numerical transformation a_removed features: -0.0617\n",
      "STD R-squared of lr with log numerical transformation a_removed features: 0.0088\n",
      "STD RMSE of lr with log numerical transformation a_removed features: 0.0027\n",
      "\n",
      "Mean R-squared of lr with log numerical transformation and b_removed features : 0.0646\n",
      "Mean RMSE of lr with log numerical transformation b_removed features: -0.0605\n",
      "STD R-squared of lr with log numerical transformation b_removed features: 0.0138\n",
      "STD RMSE of lr with log numerical transformation b_removed features: 0.0028\n",
      "\n",
      "Mean R-squared of lr with log numerical transformation and ab_removed features : 0.0279\n",
      "Mean RMSE of lr with log numerical transformation ab_removed features: -0.0617\n",
      "STD R-squared of lr with log numerical transformation ab_removed features: 0.0074\n",
      "STD RMSE of lr with log numerical transformation ab_removed features: 0.0026\n",
      "\n",
      "Mean R-squared of svr_rbf with none numerical transformation and all features : 0.0725\n",
      "Mean RMSE of svr_rbf with none numerical transformation all features: -0.2875\n",
      "STD R-squared of svr_rbf with none numerical transformation all features: 0.0227\n",
      "STD RMSE of svr_rbf with none numerical transformation all features: 0.0086\n",
      "\n",
      "Mean R-squared of svr_rbf with none numerical transformation and a_removed features : 0.0606\n",
      "Mean RMSE of svr_rbf with none numerical transformation a_removed features: -0.2893\n",
      "STD R-squared of svr_rbf with none numerical transformation a_removed features: 0.022\n",
      "STD RMSE of svr_rbf with none numerical transformation a_removed features: 0.0087\n",
      "\n",
      "Mean R-squared of svr_rbf with none numerical transformation and b_removed features : 0.0753\n",
      "Mean RMSE of svr_rbf with none numerical transformation b_removed features: -0.2871\n",
      "STD R-squared of svr_rbf with none numerical transformation b_removed features: 0.0228\n",
      "STD RMSE of svr_rbf with none numerical transformation b_removed features: 0.0087\n",
      "\n",
      "Mean R-squared of svr_rbf with none numerical transformation and ab_removed features : 0.0629\n",
      "Mean RMSE of svr_rbf with none numerical transformation ab_removed features: -0.289\n",
      "STD R-squared of svr_rbf with none numerical transformation ab_removed features: 0.0223\n",
      "STD RMSE of svr_rbf with none numerical transformation ab_removed features: 0.0085\n",
      "\n",
      "Mean R-squared of svr_rbf with log numerical transformation and all features : 0.0359\n",
      "Mean RMSE of svr_rbf with log numerical transformation all features: -0.0615\n",
      "STD R-squared of svr_rbf with log numerical transformation all features: 0.0268\n",
      "STD RMSE of svr_rbf with log numerical transformation all features: 0.0031\n",
      "\n",
      "Mean R-squared of svr_rbf with log numerical transformation and a_removed features : -0.0004\n",
      "Mean RMSE of svr_rbf with log numerical transformation a_removed features: -0.0626\n",
      "STD R-squared of svr_rbf with log numerical transformation a_removed features: 0.018\n",
      "STD RMSE of svr_rbf with log numerical transformation a_removed features: 0.003\n",
      "\n",
      "Mean R-squared of svr_rbf with log numerical transformation and b_removed features : 0.0409\n",
      "Mean RMSE of svr_rbf with log numerical transformation b_removed features: -0.0613\n",
      "STD R-squared of svr_rbf with log numerical transformation b_removed features: 0.0265\n",
      "STD RMSE of svr_rbf with log numerical transformation b_removed features: 0.0031\n",
      "\n",
      "Mean R-squared of svr_rbf with log numerical transformation and ab_removed features : 0.0029\n",
      "Mean RMSE of svr_rbf with log numerical transformation ab_removed features: -0.0625\n",
      "STD R-squared of svr_rbf with log numerical transformation ab_removed features: 0.0184\n",
      "STD RMSE of svr_rbf with log numerical transformation ab_removed features: 0.003\n",
      "\n",
      "Mean R-squared of rf with none numerical transformation and all features : 0.0731\n",
      "Mean RMSE of rf with none numerical transformation all features: -0.2874\n",
      "STD R-squared of rf with none numerical transformation all features: 0.0207\n",
      "STD RMSE of rf with none numerical transformation all features: 0.0083\n",
      "\n",
      "Mean R-squared of rf with none numerical transformation and a_removed features : 0.0204\n",
      "Mean RMSE of rf with none numerical transformation a_removed features: -0.2954\n",
      "STD R-squared of rf with none numerical transformation a_removed features: 0.0193\n",
      "STD RMSE of rf with none numerical transformation a_removed features: 0.0069\n",
      "\n",
      "Mean R-squared of rf with none numerical transformation and b_removed features : 0.0656\n",
      "Mean RMSE of rf with none numerical transformation b_removed features: -0.2886\n",
      "STD R-squared of rf with none numerical transformation b_removed features: 0.0299\n",
      "STD RMSE of rf with none numerical transformation b_removed features: 0.0097\n",
      "\n",
      "Mean R-squared of rf with none numerical transformation and ab_removed features : -0.0057\n",
      "Mean RMSE of rf with none numerical transformation ab_removed features: -0.2994\n",
      "STD R-squared of rf with none numerical transformation ab_removed features: 0.021\n",
      "STD RMSE of rf with none numerical transformation ab_removed features: 0.0077\n",
      "\n",
      "Mean R-squared of rf with log numerical transformation and all features : 0.0741\n",
      "Mean RMSE of rf with log numerical transformation all features: -0.0602\n",
      "STD R-squared of rf with log numerical transformation all features: 0.0216\n",
      "STD RMSE of rf with log numerical transformation all features: 0.0031\n",
      "\n",
      "Mean R-squared of rf with log numerical transformation and a_removed features : 0.0096\n",
      "Mean RMSE of rf with log numerical transformation a_removed features: -0.0623\n",
      "STD R-squared of rf with log numerical transformation a_removed features: 0.0144\n",
      "STD RMSE of rf with log numerical transformation a_removed features: 0.0028\n",
      "\n",
      "Mean R-squared of rf with log numerical transformation and b_removed features : 0.0564\n",
      "Mean RMSE of rf with log numerical transformation b_removed features: -0.0608\n",
      "STD R-squared of rf with log numerical transformation b_removed features: 0.025\n",
      "STD RMSE of rf with log numerical transformation b_removed features: 0.0031\n",
      "\n",
      "Mean R-squared of rf with log numerical transformation and ab_removed features : -0.0109\n",
      "Mean RMSE of rf with log numerical transformation ab_removed features: -0.0629\n",
      "STD R-squared of rf with log numerical transformation ab_removed features: 0.0216\n",
      "STD RMSE of rf with log numerical transformation ab_removed features: 0.0025\n",
      "\n",
      "Mean R-squared of gbr with none numerical transformation and all features : 0.0952\n",
      "Mean RMSE of gbr with none numerical transformation all features: -0.2839\n",
      "STD R-squared of gbr with none numerical transformation all features: 0.0118\n",
      "STD RMSE of gbr with none numerical transformation all features: 0.0068\n",
      "\n",
      "Mean R-squared of gbr with none numerical transformation and a_removed features : 0.0641\n",
      "Mean RMSE of gbr with none numerical transformation a_removed features: -0.2888\n",
      "STD R-squared of gbr with none numerical transformation a_removed features: 0.0208\n",
      "STD RMSE of gbr with none numerical transformation a_removed features: 0.0074\n",
      "\n"
     ]
    },
    {
     "name": "stdout",
     "output_type": "stream",
     "text": [
      "Mean R-squared of gbr with none numerical transformation and b_removed features : 0.0902\n",
      "Mean RMSE of gbr with none numerical transformation b_removed features: -0.2847\n",
      "STD R-squared of gbr with none numerical transformation b_removed features: 0.0222\n",
      "STD RMSE of gbr with none numerical transformation b_removed features: 0.0079\n",
      "\n",
      "Mean R-squared of gbr with none numerical transformation and ab_removed features : 0.0587\n",
      "Mean RMSE of gbr with none numerical transformation ab_removed features: -0.2896\n",
      "STD R-squared of gbr with none numerical transformation ab_removed features: 0.0241\n",
      "STD RMSE of gbr with none numerical transformation ab_removed features: 0.0077\n",
      "\n",
      "Mean R-squared of gbr with log numerical transformation and all features : 0.0895\n",
      "Mean RMSE of gbr with log numerical transformation all features: -0.0597\n",
      "STD R-squared of gbr with log numerical transformation all features: 0.0109\n",
      "STD RMSE of gbr with log numerical transformation all features: 0.0027\n",
      "\n",
      "Mean R-squared of gbr with log numerical transformation and a_removed features : 0.0578\n",
      "Mean RMSE of gbr with log numerical transformation a_removed features: -0.0608\n",
      "STD R-squared of gbr with log numerical transformation a_removed features: 0.0153\n",
      "STD RMSE of gbr with log numerical transformation a_removed features: 0.0027\n",
      "\n",
      "Mean R-squared of gbr with log numerical transformation and b_removed features : 0.0899\n",
      "Mean RMSE of gbr with log numerical transformation b_removed features: -0.0597\n",
      "STD R-squared of gbr with log numerical transformation b_removed features: 0.0225\n",
      "STD RMSE of gbr with log numerical transformation b_removed features: 0.0029\n",
      "\n",
      "Mean R-squared of gbr with log numerical transformation and ab_removed features : 0.0575\n",
      "Mean RMSE of gbr with log numerical transformation ab_removed features: -0.0608\n",
      "STD R-squared of gbr with log numerical transformation ab_removed features: 0.021\n",
      "STD RMSE of gbr with log numerical transformation ab_removed features: 0.0026\n",
      "\n"
     ]
    }
   ],
   "source": [
    "for m in ['lr', 'svr_rbf', 'rf', 'gbr']:\n",
    "    for t in ['none', 'log']:\n",
    "        for f in ['all', 'a_removed', 'b_removed', 'ab_removed']:\n",
    "            _ , model_cv = try_models(model=m, transformation=t, features=f)\n",
    "\n",
    "            print(f\"Mean R-squared of {m} with {t} numerical transformation and {f} features : {round(model_cv.test_r2.mean(), 4)}\")\n",
    "            print(f\"Mean RMSE of {m} with {t} numerical transformation {f} features: {round(model_cv.test_neg_root_mean_squared_error.mean(), 4)}\")\n",
    "            print(f\"STD R-squared of {m} with {t} numerical transformation {f} features: {round(model_cv.test_r2.std(), 4)}\")\n",
    "            print(f\"STD RMSE of {m} with {t} numerical transformation {f} features: {round(model_cv.test_neg_root_mean_squared_error.std(), 4)}\")\n",
    "            print(\"\")"
   ]
  },
  {
   "cell_type": "markdown",
   "id": "f3dc687b",
   "metadata": {},
   "source": [
    "From this modeling stage we see that `Gradient Boosting Regressor` model give the best result to predict the target from the features we defined. Log transformation method does not give significant improvement to the model's performance (even worse). Therefore, we can say that such transformation method is redundant to be included in our  ML pipeline. This happend because GBR is not a linear model therefore fixing the data distribution will not help much. Moreover, by skipping the log transformation, the interpretation stage would be more easier since we do not have to re-convert the result back to the real value.\n",
    "\n",
    "From the features side, collinearity removal in the features extracted from the `publication_date` resulting the best performance in this experiment. So we will use these features to train the model.\n",
    "* `ratings_count`\n",
    "* `num_pages`\n",
    "* `text_reviews_count` \n",
    "* `years_from_reference_date`\n",
    "* `language_code`"
   ]
  },
  {
   "cell_type": "markdown",
   "id": "e6a20b88",
   "metadata": {},
   "source": [
    "### Hyperparameters Tunning"
   ]
  },
  {
   "cell_type": "markdown",
   "id": "d1457023",
   "metadata": {},
   "source": [
    "As a variant of gradient boosting models, `GradientBoostingRegressor()` model has wide range of possibility of modification. So in this stage we can do hyperparameter tunning to find the best hyperparameter values for our model. In this step, we will use the `GridSearchCV()` with 5-fold cross-validation method to run the experiment.\n",
    "\n",
    "The hyperparameters used are:\n",
    "* `n_estimators`\n",
    "* `learning_rate`\n",
    "* `max_depth`\n",
    "* `min_samples_leaf`\n",
    "* `max_features`\n",
    "\n",
    "`GridSearchCV()` will fit perform the training with all possible combination of the pre-defined hyperparameters, so the process might take sometimes to finish."
   ]
  },
  {
   "cell_type": "code",
   "execution_count": 232,
   "id": "a7c710b0",
   "metadata": {},
   "outputs": [],
   "source": [
    "def ml_pipeline():\n",
    "    binary_enc = ce.BinaryEncoder()\n",
    "    scaler = StandardScaler()\n",
    "    poly = PolynomialFeatures(degree=2, interaction_only=True)\n",
    "\n",
    "    gbr = GradientBoostingRegressor()\n",
    "\n",
    "    num_pipe = Pipeline([\n",
    "        ('poly', poly),\n",
    "        ('scaler', scaler)\n",
    "    ])\n",
    "    \n",
    "    cat_pipe = Pipeline([\n",
    "        ('binary', binary_enc)\n",
    "    ])\n",
    "    \n",
    "    transformer = ColumnTransformer([\n",
    "        ('categorical_prep', binary_enc, ['language_code']),\n",
    "        ('numerical_prep', num_pipe, ['ratings_count', 'num_pages', 'text_reviews_count', 'years_from_reference_date'])\n",
    "    ], remainder='drop')\n",
    "\n",
    "    estimator = Pipeline([\n",
    "        ('preprocess', transformer),\n",
    "        ('gbr', gbr)\n",
    "    ])\n",
    "    \n",
    "    return estimator"
   ]
  },
  {
   "cell_type": "code",
   "execution_count": 233,
   "id": "cdb2a5da",
   "metadata": {},
   "outputs": [],
   "source": [
    "def grid_search_best_model(params, k_fold, X_train, y_train):\n",
    "    estimator = ml_pipeline()\n",
    "    \n",
    "    grid_search = GridSearchCV(estimator,\n",
    "                               params,                             \n",
    "                               cv=k_fold).fit(X_train,y_train)\n",
    "    print(\"Best params\", grid_search.best_params_)\n",
    "    print(\"Best estimator\", grid_search.best_estimator_)\n",
    "    print(\"Best score:\", grid_search.best_score_)\n",
    "    \n",
    "    return grid_search.best_estimator_"
   ]
  },
  {
   "cell_type": "code",
   "execution_count": 234,
   "id": "0833a27a",
   "metadata": {},
   "outputs": [],
   "source": [
    "model_results = {}\n",
    "\n",
    "def score_model(estimator, X_train, X_test, y_train, y_test,\n",
    "               show_plot=True):   \n",
    "    \n",
    "    y_pred = estimator.predict(X_test)  \n",
    "    print(f\"Training score: {estimator.score(X_train,y_train)}\")\n",
    "    print(f\"Test score: {r2_score(y_test, y_pred)}\")\n",
    "    print(\"MSE: \", mean_squared_error(y_test, y_pred))\n",
    "    \n",
    "    predictions_comparision = pd.DataFrame({'Actual': y_test.tolist(), 'Predicted': y_pred.tolist()}).sample(25)\n",
    "    if show_plot == True:\n",
    "        predictions_comparision.plot(kind=\"bar\", figsize=(12,8),title=\"Actual vs predicted values\")\n",
    "    print(predictions_comparision.sample(10))    \n",
    "    \n",
    "    \n",
    "    return {\n",
    "        \"training_score\": estimator.score(X_train,y_train),\n",
    "        \"test_score_r2\" : r2_score(y_test, y_pred),\n",
    "        \"test_score_mse\" : mean_squared_error(y_test, y_pred)\n",
    "    }"
   ]
  },
  {
   "cell_type": "code",
   "execution_count": 235,
   "id": "5f6ace4b",
   "metadata": {
    "scrolled": false
   },
   "outputs": [
    {
     "name": "stdout",
     "output_type": "stream",
     "text": [
      "Best params {'gbr__learning_rate': 0.01, 'gbr__max_depth': 10, 'gbr__max_features': 0.3, 'gbr__min_samples_leaf': 3, 'gbr__n_estimators': 200}\n",
      "Best estimator Pipeline(steps=[('preprocess',\n",
      "                 ColumnTransformer(transformers=[('categorical_prep',\n",
      "                                                  BinaryEncoder(),\n",
      "                                                  ['language_code']),\n",
      "                                                 ('numerical_prep',\n",
      "                                                  Pipeline(steps=[('poly',\n",
      "                                                                   PolynomialFeatures(interaction_only=True)),\n",
      "                                                                  ('scaler',\n",
      "                                                                   StandardScaler())]),\n",
      "                                                  ['ratings_count', 'num_pages',\n",
      "                                                   'text_reviews_count',\n",
      "                                                   'years_from_reference_date'])])),\n",
      "                ('gbr',\n",
      "                 GradientBoostingRegressor(learning_rate=0.01, max_depth=10,\n",
      "                                           max_features=0.3, min_samples_leaf=3,\n",
      "                                           n_estimators=200))])\n",
      "Best score: 0.10848599922369488\n"
     ]
    }
   ],
   "source": [
    "k_fold = list(KFold(n_splits=5, shuffle=True).split(X_train, y_train))\n",
    "\n",
    "params={\"gbr__n_estimators\":[20, 50, 100,200], \n",
    "        \"gbr__learning_rate\": [0.01, 0.05, 0.1, 0.3],\n",
    "         \"gbr__max_depth\":[3,5,10], \n",
    "        \"gbr__min_samples_leaf\": [3,5],\n",
    "          \"gbr__max_features\": [0.3, 1]\n",
    "       }        \n",
    "\n",
    "gbr = grid_search_best_model(params,k_fold, X_train, y_train)"
   ]
  },
  {
   "cell_type": "code",
   "execution_count": 236,
   "id": "16812643",
   "metadata": {},
   "outputs": [
    {
     "name": "stdout",
     "output_type": "stream",
     "text": [
      "Training score: 0.3963449427689839\n",
      "Test score: 0.10734789075136553\n",
      "MSE:  0.0840647212659395\n",
      "      Actual  Predicted\n",
      "1409    3.88   3.960842\n",
      "739     3.71   4.027879\n",
      "353     4.05   3.917110\n",
      "97      3.58   3.860874\n",
      "1667    3.80   3.875535\n",
      "128     3.55   3.865728\n",
      "1092    4.28   4.186250\n",
      "1963    3.31   3.863092\n",
      "911     4.53   4.188199\n",
      "1181    3.97   3.909021\n"
     ]
    },
    {
     "data": {
      "text/plain": [
       "{'training_score': 0.3963449427689839,\n",
       " 'test_score_r2': 0.10734789075136553,\n",
       " 'test_score_mse': 0.0840647212659395}"
      ]
     },
     "execution_count": 236,
     "metadata": {},
     "output_type": "execute_result"
    },
    {
     "data": {
      "image/png": "[encoded data removed]",
      "text/plain": [
       "<Figure size 1200x800 with 1 Axes>"
      ]
     },
     "metadata": {},
     "output_type": "display_data"
    }
   ],
   "source": [
    "score_model(gbr, X_train, X_test, y_train, y_test)"
   ]
  },
  {
   "cell_type": "markdown",
   "id": "6bb445aa",
   "metadata": {},
   "source": [
    "From this step we found the best hyperparameters for our Gradient Boosting Regressor are:\n",
    "```\n",
    "    {\n",
    "    'gbr__learning_rate': 0.01, \n",
    "    'gbr__max_depth': 10, \n",
    "    'gbr__max_features': 0.3, \n",
    "    'gbr__min_samples_leaf': 3, \n",
    "    'gbr__n_estimators': 200\n",
    "    }\n",
    " ```"
   ]
  },
  {
   "cell_type": "markdown",
   "id": "e6969a05",
   "metadata": {},
   "source": [
    "### Serialize The Best Model"
   ]
  },
  {
   "cell_type": "markdown",
   "id": "8e785836",
   "metadata": {},
   "source": [
    "Since the experiment took quite long time to finish, it would be needed to save the model into `.pkl` file so we can re-use the model for running the inference in the future."
   ]
  },
  {
   "cell_type": "code",
   "execution_count": 237,
   "id": "c10d0331",
   "metadata": {},
   "outputs": [
    {
     "data": {
      "text/html": [
       "<style>#sk-container-id-4 {color: black;background-color: white;}#sk-container-id-4 pre{padding: 0;}#sk-container-id-4 div.sk-toggleable {background-color: white;}#sk-container-id-4 label.sk-toggleable__label {cursor: pointer;display: block;width: 100%;margin-bottom: 0;padding: 0.3em;box-sizing: border-box;text-align: center;}#sk-container-id-4 label.sk-toggleable__label-arrow:before {content: \"▸\";float: left;margin-right: 0.25em;color: #696969;}#sk-container-id-4 label.sk-toggleable__label-arrow:hover:before {color: black;}#sk-container-id-4 div.sk-estimator:hover label.sk-toggleable__label-arrow:before {color: black;}#sk-container-id-4 div.sk-toggleable__content {max-height: 0;max-width: 0;overflow: hidden;text-align: left;background-color: #f0f8ff;}#sk-container-id-4 div.sk-toggleable__content pre {margin: 0.2em;color: black;border-radius: 0.25em;background-color: #f0f8ff;}#sk-container-id-4 input.sk-toggleable__control:checked~div.sk-toggleable__content {max-height: 200px;max-width: 100%;overflow: auto;}#sk-container-id-4 input.sk-toggleable__control:checked~label.sk-toggleable__label-arrow:before {content: \"▾\";}#sk-container-id-4 div.sk-estimator input.sk-toggleable__control:checked~label.sk-toggleable__label {background-color: #d4ebff;}#sk-container-id-4 div.sk-label input.sk-toggleable__control:checked~label.sk-toggleable__label {background-color: #d4ebff;}#sk-container-id-4 input.sk-hidden--visually {border: 0;clip: rect(1px 1px 1px 1px);clip: rect(1px, 1px, 1px, 1px);height: 1px;margin: -1px;overflow: hidden;padding: 0;position: absolute;width: 1px;}#sk-container-id-4 div.sk-estimator {font-family: monospace;background-color: #f0f8ff;border: 1px dotted black;border-radius: 0.25em;box-sizing: border-box;margin-bottom: 0.5em;}#sk-container-id-4 div.sk-estimator:hover {background-color: #d4ebff;}#sk-container-id-4 div.sk-parallel-item::after {content: \"\";width: 100%;border-bottom: 1px solid gray;flex-grow: 1;}#sk-container-id-4 div.sk-label:hover label.sk-toggleable__label {background-color: #d4ebff;}#sk-container-id-4 div.sk-serial::before {content: \"\";position: absolute;border-left: 1px solid gray;box-sizing: border-box;top: 0;bottom: 0;left: 50%;z-index: 0;}#sk-container-id-4 div.sk-serial {display: flex;flex-direction: column;align-items: center;background-color: white;padding-right: 0.2em;padding-left: 0.2em;position: relative;}#sk-container-id-4 div.sk-item {position: relative;z-index: 1;}#sk-container-id-4 div.sk-parallel {display: flex;align-items: stretch;justify-content: center;background-color: white;position: relative;}#sk-container-id-4 div.sk-item::before, #sk-container-id-4 div.sk-parallel-item::before {content: \"\";position: absolute;border-left: 1px solid gray;box-sizing: border-box;top: 0;bottom: 0;left: 50%;z-index: -1;}#sk-container-id-4 div.sk-parallel-item {display: flex;flex-direction: column;z-index: 1;position: relative;background-color: white;}#sk-container-id-4 div.sk-parallel-item:first-child::after {align-self: flex-end;width: 50%;}#sk-container-id-4 div.sk-parallel-item:last-child::after {align-self: flex-start;width: 50%;}#sk-container-id-4 div.sk-parallel-item:only-child::after {width: 0;}#sk-container-id-4 div.sk-dashed-wrapped {border: 1px dashed gray;margin: 0 0.4em 0.5em 0.4em;box-sizing: border-box;padding-bottom: 0.4em;background-color: white;}#sk-container-id-4 div.sk-label label {font-family: monospace;font-weight: bold;display: inline-block;line-height: 1.2em;}#sk-container-id-4 div.sk-label-container {text-align: center;}#sk-container-id-4 div.sk-container {/* jupyter's `normalize.less` sets `[hidden] { display: none; }` but bootstrap.min.css set `[hidden] { display: none !important; }` so we also need the `!important` here to be able to override the default hidden behavior on the sphinx rendered scikit-learn.org. See: https://github.com/scikit-learn/scikit-learn/issues/21755 */display: inline-block !important;position: relative;}#sk-container-id-4 div.sk-text-repr-fallback {display: none;}</style><div id=\"sk-container-id-4\" class=\"sk-top-container\"><div class=\"sk-text-repr-fallback\"><pre>Pipeline(steps=[(&#x27;preprocess&#x27;,\n",
       "                 ColumnTransformer(transformers=[(&#x27;categorical_prep&#x27;,\n",
       "                                                  BinaryEncoder(),\n",
       "                                                  [&#x27;language_code&#x27;]),\n",
       "                                                 (&#x27;numerical_prep&#x27;,\n",
       "                                                  Pipeline(steps=[(&#x27;poly&#x27;,\n",
       "                                                                   PolynomialFeatures(interaction_only=True)),\n",
       "                                                                  (&#x27;scaler&#x27;,\n",
       "                                                                   StandardScaler())]),\n",
       "                                                  [&#x27;ratings_count&#x27;, &#x27;num_pages&#x27;,\n",
       "                                                   &#x27;text_reviews_count&#x27;,\n",
       "                                                   &#x27;years_from_reference_date&#x27;])])),\n",
       "                (&#x27;gbr&#x27;,\n",
       "                 GradientBoostingRegressor(learning_rate=0.01, max_depth=10,\n",
       "                                           max_features=0.3, min_samples_leaf=3,\n",
       "                                           n_estimators=200))])</pre><b>In a Jupyter environment, please rerun this cell to show the HTML representation or trust the notebook. <br />On GitHub, the HTML representation is unable to render, please try loading this page with nbviewer.org.</b></div><div class=\"sk-container\" hidden><div class=\"sk-item sk-dashed-wrapped\"><div class=\"sk-label-container\"><div class=\"sk-label sk-toggleable\"><input class=\"sk-toggleable__control sk-hidden--visually\" id=\"sk-estimator-id-25\" type=\"checkbox\" ><label for=\"sk-estimator-id-25\" class=\"sk-toggleable__label sk-toggleable__label-arrow\">Pipeline</label><div class=\"sk-toggleable__content\"><pre>Pipeline(steps=[(&#x27;preprocess&#x27;,\n",
       "                 ColumnTransformer(transformers=[(&#x27;categorical_prep&#x27;,\n",
       "                                                  BinaryEncoder(),\n",
       "                                                  [&#x27;language_code&#x27;]),\n",
       "                                                 (&#x27;numerical_prep&#x27;,\n",
       "                                                  Pipeline(steps=[(&#x27;poly&#x27;,\n",
       "                                                                   PolynomialFeatures(interaction_only=True)),\n",
       "                                                                  (&#x27;scaler&#x27;,\n",
       "                                                                   StandardScaler())]),\n",
       "                                                  [&#x27;ratings_count&#x27;, &#x27;num_pages&#x27;,\n",
       "                                                   &#x27;text_reviews_count&#x27;,\n",
       "                                                   &#x27;years_from_reference_date&#x27;])])),\n",
       "                (&#x27;gbr&#x27;,\n",
       "                 GradientBoostingRegressor(learning_rate=0.01, max_depth=10,\n",
       "                                           max_features=0.3, min_samples_leaf=3,\n",
       "                                           n_estimators=200))])</pre></div></div></div><div class=\"sk-serial\"><div class=\"sk-item sk-dashed-wrapped\"><div class=\"sk-label-container\"><div class=\"sk-label sk-toggleable\"><input class=\"sk-toggleable__control sk-hidden--visually\" id=\"sk-estimator-id-26\" type=\"checkbox\" ><label for=\"sk-estimator-id-26\" class=\"sk-toggleable__label sk-toggleable__label-arrow\">preprocess: ColumnTransformer</label><div class=\"sk-toggleable__content\"><pre>ColumnTransformer(transformers=[(&#x27;categorical_prep&#x27;, BinaryEncoder(),\n",
       "                                 [&#x27;language_code&#x27;]),\n",
       "                                (&#x27;numerical_prep&#x27;,\n",
       "                                 Pipeline(steps=[(&#x27;poly&#x27;,\n",
       "                                                  PolynomialFeatures(interaction_only=True)),\n",
       "                                                 (&#x27;scaler&#x27;, StandardScaler())]),\n",
       "                                 [&#x27;ratings_count&#x27;, &#x27;num_pages&#x27;,\n",
       "                                  &#x27;text_reviews_count&#x27;,\n",
       "                                  &#x27;years_from_reference_date&#x27;])])</pre></div></div></div><div class=\"sk-parallel\"><div class=\"sk-parallel-item\"><div class=\"sk-item\"><div class=\"sk-label-container\"><div class=\"sk-label sk-toggleable\"><input class=\"sk-toggleable__control sk-hidden--visually\" id=\"sk-estimator-id-27\" type=\"checkbox\" ><label for=\"sk-estimator-id-27\" class=\"sk-toggleable__label sk-toggleable__label-arrow\">categorical_prep</label><div class=\"sk-toggleable__content\"><pre>[&#x27;language_code&#x27;]</pre></div></div></div><div class=\"sk-serial\"><div class=\"sk-item\"><div class=\"sk-estimator sk-toggleable\"><input class=\"sk-toggleable__control sk-hidden--visually\" id=\"sk-estimator-id-28\" type=\"checkbox\" ><label for=\"sk-estimator-id-28\" class=\"sk-toggleable__label sk-toggleable__label-arrow\">BinaryEncoder</label><div class=\"sk-toggleable__content\"><pre>BinaryEncoder()</pre></div></div></div></div></div></div><div class=\"sk-parallel-item\"><div class=\"sk-item\"><div class=\"sk-label-container\"><div class=\"sk-label sk-toggleable\"><input class=\"sk-toggleable__control sk-hidden--visually\" id=\"sk-estimator-id-29\" type=\"checkbox\" ><label for=\"sk-estimator-id-29\" class=\"sk-toggleable__label sk-toggleable__label-arrow\">numerical_prep</label><div class=\"sk-toggleable__content\"><pre>[&#x27;ratings_count&#x27;, &#x27;num_pages&#x27;, &#x27;text_reviews_count&#x27;, &#x27;years_from_reference_date&#x27;]</pre></div></div></div><div class=\"sk-serial\"><div class=\"sk-item\"><div class=\"sk-serial\"><div class=\"sk-item\"><div class=\"sk-estimator sk-toggleable\"><input class=\"sk-toggleable__control sk-hidden--visually\" id=\"sk-estimator-id-30\" type=\"checkbox\" ><label for=\"sk-estimator-id-30\" class=\"sk-toggleable__label sk-toggleable__label-arrow\">PolynomialFeatures</label><div class=\"sk-toggleable__content\"><pre>PolynomialFeatures(interaction_only=True)</pre></div></div></div><div class=\"sk-item\"><div class=\"sk-estimator sk-toggleable\"><input class=\"sk-toggleable__control sk-hidden--visually\" id=\"sk-estimator-id-31\" type=\"checkbox\" ><label for=\"sk-estimator-id-31\" class=\"sk-toggleable__label sk-toggleable__label-arrow\">StandardScaler</label><div class=\"sk-toggleable__content\"><pre>StandardScaler()</pre></div></div></div></div></div></div></div></div></div></div><div class=\"sk-item\"><div class=\"sk-estimator sk-toggleable\"><input class=\"sk-toggleable__control sk-hidden--visually\" id=\"sk-estimator-id-32\" type=\"checkbox\" ><label for=\"sk-estimator-id-32\" class=\"sk-toggleable__label sk-toggleable__label-arrow\">GradientBoostingRegressor</label><div class=\"sk-toggleable__content\"><pre>GradientBoostingRegressor(learning_rate=0.01, max_depth=10, max_features=0.3,\n",
       "                          min_samples_leaf=3, n_estimators=200)</pre></div></div></div></div></div></div></div>"
      ],
      "text/plain": [
       "Pipeline(steps=[('preprocess',\n",
       "                 ColumnTransformer(transformers=[('categorical_prep',\n",
       "                                                  BinaryEncoder(),\n",
       "                                                  ['language_code']),\n",
       "                                                 ('numerical_prep',\n",
       "                                                  Pipeline(steps=[('poly',\n",
       "                                                                   PolynomialFeatures(interaction_only=True)),\n",
       "                                                                  ('scaler',\n",
       "                                                                   StandardScaler())]),\n",
       "                                                  ['ratings_count', 'num_pages',\n",
       "                                                   'text_reviews_count',\n",
       "                                                   'years_from_reference_date'])])),\n",
       "                ('gbr',\n",
       "                 GradientBoostingRegressor(learning_rate=0.01, max_depth=10,\n",
       "                                           max_features=0.3, min_samples_leaf=3,\n",
       "                                           n_estimators=200))])"
      ]
     },
     "execution_count": 237,
     "metadata": {},
     "output_type": "execute_result"
    }
   ],
   "source": [
    "gbr"
   ]
  },
  {
   "cell_type": "code",
   "execution_count": 238,
   "id": "eb32e098",
   "metadata": {},
   "outputs": [
    {
     "name": "stdout",
     "output_type": "stream",
     "text": [
      "Successfully dumped the model to gbr_model_best_features.sav\n"
     ]
    }
   ],
   "source": [
    "model_dump_filename = \"gbr_model_best_features.sav\"\n",
    "pickle.dump(gbr, open(model_dump_filename, 'wb'))\n",
    "print(\"Successfully dumped the model to\", model_dump_filename)"
   ]
  },
  {
   "cell_type": "markdown",
   "id": "aae5cb4b",
   "metadata": {},
   "source": [
    "Reload the model again to test the consistency of the serialization"
   ]
  },
  {
   "cell_type": "code",
   "execution_count": 239,
   "id": "9badf5c6",
   "metadata": {},
   "outputs": [],
   "source": [
    "gbr = pickle.load(open('gbr_model_best_features.sav', 'rb'))"
   ]
  },
  {
   "cell_type": "code",
   "execution_count": 240,
   "id": "4a228064",
   "metadata": {},
   "outputs": [
    {
     "data": {
      "text/html": [
       "<style>#sk-container-id-5 {color: black;background-color: white;}#sk-container-id-5 pre{padding: 0;}#sk-container-id-5 div.sk-toggleable {background-color: white;}#sk-container-id-5 label.sk-toggleable__label {cursor: pointer;display: block;width: 100%;margin-bottom: 0;padding: 0.3em;box-sizing: border-box;text-align: center;}#sk-container-id-5 label.sk-toggleable__label-arrow:before {content: \"▸\";float: left;margin-right: 0.25em;color: #696969;}#sk-container-id-5 label.sk-toggleable__label-arrow:hover:before {color: black;}#sk-container-id-5 div.sk-estimator:hover label.sk-toggleable__label-arrow:before {color: black;}#sk-container-id-5 div.sk-toggleable__content {max-height: 0;max-width: 0;overflow: hidden;text-align: left;background-color: #f0f8ff;}#sk-container-id-5 div.sk-toggleable__content pre {margin: 0.2em;color: black;border-radius: 0.25em;background-color: #f0f8ff;}#sk-container-id-5 input.sk-toggleable__control:checked~div.sk-toggleable__content {max-height: 200px;max-width: 100%;overflow: auto;}#sk-container-id-5 input.sk-toggleable__control:checked~label.sk-toggleable__label-arrow:before {content: \"▾\";}#sk-container-id-5 div.sk-estimator input.sk-toggleable__control:checked~label.sk-toggleable__label {background-color: #d4ebff;}#sk-container-id-5 div.sk-label input.sk-toggleable__control:checked~label.sk-toggleable__label {background-color: #d4ebff;}#sk-container-id-5 input.sk-hidden--visually {border: 0;clip: rect(1px 1px 1px 1px);clip: rect(1px, 1px, 1px, 1px);height: 1px;margin: -1px;overflow: hidden;padding: 0;position: absolute;width: 1px;}#sk-container-id-5 div.sk-estimator {font-family: monospace;background-color: #f0f8ff;border: 1px dotted black;border-radius: 0.25em;box-sizing: border-box;margin-bottom: 0.5em;}#sk-container-id-5 div.sk-estimator:hover {background-color: #d4ebff;}#sk-container-id-5 div.sk-parallel-item::after {content: \"\";width: 100%;border-bottom: 1px solid gray;flex-grow: 1;}#sk-container-id-5 div.sk-label:hover label.sk-toggleable__label {background-color: #d4ebff;}#sk-container-id-5 div.sk-serial::before {content: \"\";position: absolute;border-left: 1px solid gray;box-sizing: border-box;top: 0;bottom: 0;left: 50%;z-index: 0;}#sk-container-id-5 div.sk-serial {display: flex;flex-direction: column;align-items: center;background-color: white;padding-right: 0.2em;padding-left: 0.2em;position: relative;}#sk-container-id-5 div.sk-item {position: relative;z-index: 1;}#sk-container-id-5 div.sk-parallel {display: flex;align-items: stretch;justify-content: center;background-color: white;position: relative;}#sk-container-id-5 div.sk-item::before, #sk-container-id-5 div.sk-parallel-item::before {content: \"\";position: absolute;border-left: 1px solid gray;box-sizing: border-box;top: 0;bottom: 0;left: 50%;z-index: -1;}#sk-container-id-5 div.sk-parallel-item {display: flex;flex-direction: column;z-index: 1;position: relative;background-color: white;}#sk-container-id-5 div.sk-parallel-item:first-child::after {align-self: flex-end;width: 50%;}#sk-container-id-5 div.sk-parallel-item:last-child::after {align-self: flex-start;width: 50%;}#sk-container-id-5 div.sk-parallel-item:only-child::after {width: 0;}#sk-container-id-5 div.sk-dashed-wrapped {border: 1px dashed gray;margin: 0 0.4em 0.5em 0.4em;box-sizing: border-box;padding-bottom: 0.4em;background-color: white;}#sk-container-id-5 div.sk-label label {font-family: monospace;font-weight: bold;display: inline-block;line-height: 1.2em;}#sk-container-id-5 div.sk-label-container {text-align: center;}#sk-container-id-5 div.sk-container {/* jupyter's `normalize.less` sets `[hidden] { display: none; }` but bootstrap.min.css set `[hidden] { display: none !important; }` so we also need the `!important` here to be able to override the default hidden behavior on the sphinx rendered scikit-learn.org. See: https://github.com/scikit-learn/scikit-learn/issues/21755 */display: inline-block !important;position: relative;}#sk-container-id-5 div.sk-text-repr-fallback {display: none;}</style><div id=\"sk-container-id-5\" class=\"sk-top-container\"><div class=\"sk-text-repr-fallback\"><pre>Pipeline(steps=[(&#x27;preprocess&#x27;,\n",
       "                 ColumnTransformer(transformers=[(&#x27;categorical_prep&#x27;,\n",
       "                                                  BinaryEncoder(),\n",
       "                                                  [&#x27;language_code&#x27;]),\n",
       "                                                 (&#x27;numerical_prep&#x27;,\n",
       "                                                  Pipeline(steps=[(&#x27;poly&#x27;,\n",
       "                                                                   PolynomialFeatures(interaction_only=True)),\n",
       "                                                                  (&#x27;scaler&#x27;,\n",
       "                                                                   StandardScaler())]),\n",
       "                                                  [&#x27;ratings_count&#x27;, &#x27;num_pages&#x27;,\n",
       "                                                   &#x27;text_reviews_count&#x27;,\n",
       "                                                   &#x27;years_from_reference_date&#x27;])])),\n",
       "                (&#x27;gbr&#x27;,\n",
       "                 GradientBoostingRegressor(learning_rate=0.01, max_depth=10,\n",
       "                                           max_features=0.3, min_samples_leaf=3,\n",
       "                                           n_estimators=200))])</pre><b>In a Jupyter environment, please rerun this cell to show the HTML representation or trust the notebook. <br />On GitHub, the HTML representation is unable to render, please try loading this page with nbviewer.org.</b></div><div class=\"sk-container\" hidden><div class=\"sk-item sk-dashed-wrapped\"><div class=\"sk-label-container\"><div class=\"sk-label sk-toggleable\"><input class=\"sk-toggleable__control sk-hidden--visually\" id=\"sk-estimator-id-33\" type=\"checkbox\" ><label for=\"sk-estimator-id-33\" class=\"sk-toggleable__label sk-toggleable__label-arrow\">Pipeline</label><div class=\"sk-toggleable__content\"><pre>Pipeline(steps=[(&#x27;preprocess&#x27;,\n",
       "                 ColumnTransformer(transformers=[(&#x27;categorical_prep&#x27;,\n",
       "                                                  BinaryEncoder(),\n",
       "                                                  [&#x27;language_code&#x27;]),\n",
       "                                                 (&#x27;numerical_prep&#x27;,\n",
       "                                                  Pipeline(steps=[(&#x27;poly&#x27;,\n",
       "                                                                   PolynomialFeatures(interaction_only=True)),\n",
       "                                                                  (&#x27;scaler&#x27;,\n",
       "                                                                   StandardScaler())]),\n",
       "                                                  [&#x27;ratings_count&#x27;, &#x27;num_pages&#x27;,\n",
       "                                                   &#x27;text_reviews_count&#x27;,\n",
       "                                                   &#x27;years_from_reference_date&#x27;])])),\n",
       "                (&#x27;gbr&#x27;,\n",
       "                 GradientBoostingRegressor(learning_rate=0.01, max_depth=10,\n",
       "                                           max_features=0.3, min_samples_leaf=3,\n",
       "                                           n_estimators=200))])</pre></div></div></div><div class=\"sk-serial\"><div class=\"sk-item sk-dashed-wrapped\"><div class=\"sk-label-container\"><div class=\"sk-label sk-toggleable\"><input class=\"sk-toggleable__control sk-hidden--visually\" id=\"sk-estimator-id-34\" type=\"checkbox\" ><label for=\"sk-estimator-id-34\" class=\"sk-toggleable__label sk-toggleable__label-arrow\">preprocess: ColumnTransformer</label><div class=\"sk-toggleable__content\"><pre>ColumnTransformer(transformers=[(&#x27;categorical_prep&#x27;, BinaryEncoder(),\n",
       "                                 [&#x27;language_code&#x27;]),\n",
       "                                (&#x27;numerical_prep&#x27;,\n",
       "                                 Pipeline(steps=[(&#x27;poly&#x27;,\n",
       "                                                  PolynomialFeatures(interaction_only=True)),\n",
       "                                                 (&#x27;scaler&#x27;, StandardScaler())]),\n",
       "                                 [&#x27;ratings_count&#x27;, &#x27;num_pages&#x27;,\n",
       "                                  &#x27;text_reviews_count&#x27;,\n",
       "                                  &#x27;years_from_reference_date&#x27;])])</pre></div></div></div><div class=\"sk-parallel\"><div class=\"sk-parallel-item\"><div class=\"sk-item\"><div class=\"sk-label-container\"><div class=\"sk-label sk-toggleable\"><input class=\"sk-toggleable__control sk-hidden--visually\" id=\"sk-estimator-id-35\" type=\"checkbox\" ><label for=\"sk-estimator-id-35\" class=\"sk-toggleable__label sk-toggleable__label-arrow\">categorical_prep</label><div class=\"sk-toggleable__content\"><pre>[&#x27;language_code&#x27;]</pre></div></div></div><div class=\"sk-serial\"><div class=\"sk-item\"><div class=\"sk-estimator sk-toggleable\"><input class=\"sk-toggleable__control sk-hidden--visually\" id=\"sk-estimator-id-36\" type=\"checkbox\" ><label for=\"sk-estimator-id-36\" class=\"sk-toggleable__label sk-toggleable__label-arrow\">BinaryEncoder</label><div class=\"sk-toggleable__content\"><pre>BinaryEncoder()</pre></div></div></div></div></div></div><div class=\"sk-parallel-item\"><div class=\"sk-item\"><div class=\"sk-label-container\"><div class=\"sk-label sk-toggleable\"><input class=\"sk-toggleable__control sk-hidden--visually\" id=\"sk-estimator-id-37\" type=\"checkbox\" ><label for=\"sk-estimator-id-37\" class=\"sk-toggleable__label sk-toggleable__label-arrow\">numerical_prep</label><div class=\"sk-toggleable__content\"><pre>[&#x27;ratings_count&#x27;, &#x27;num_pages&#x27;, &#x27;text_reviews_count&#x27;, &#x27;years_from_reference_date&#x27;]</pre></div></div></div><div class=\"sk-serial\"><div class=\"sk-item\"><div class=\"sk-serial\"><div class=\"sk-item\"><div class=\"sk-estimator sk-toggleable\"><input class=\"sk-toggleable__control sk-hidden--visually\" id=\"sk-estimator-id-38\" type=\"checkbox\" ><label for=\"sk-estimator-id-38\" class=\"sk-toggleable__label sk-toggleable__label-arrow\">PolynomialFeatures</label><div class=\"sk-toggleable__content\"><pre>PolynomialFeatures(interaction_only=True)</pre></div></div></div><div class=\"sk-item\"><div class=\"sk-estimator sk-toggleable\"><input class=\"sk-toggleable__control sk-hidden--visually\" id=\"sk-estimator-id-39\" type=\"checkbox\" ><label for=\"sk-estimator-id-39\" class=\"sk-toggleable__label sk-toggleable__label-arrow\">StandardScaler</label><div class=\"sk-toggleable__content\"><pre>StandardScaler()</pre></div></div></div></div></div></div></div></div></div></div><div class=\"sk-item\"><div class=\"sk-estimator sk-toggleable\"><input class=\"sk-toggleable__control sk-hidden--visually\" id=\"sk-estimator-id-40\" type=\"checkbox\" ><label for=\"sk-estimator-id-40\" class=\"sk-toggleable__label sk-toggleable__label-arrow\">GradientBoostingRegressor</label><div class=\"sk-toggleable__content\"><pre>GradientBoostingRegressor(learning_rate=0.01, max_depth=10, max_features=0.3,\n",
       "                          min_samples_leaf=3, n_estimators=200)</pre></div></div></div></div></div></div></div>"
      ],
      "text/plain": [
       "Pipeline(steps=[('preprocess',\n",
       "                 ColumnTransformer(transformers=[('categorical_prep',\n",
       "                                                  BinaryEncoder(),\n",
       "                                                  ['language_code']),\n",
       "                                                 ('numerical_prep',\n",
       "                                                  Pipeline(steps=[('poly',\n",
       "                                                                   PolynomialFeatures(interaction_only=True)),\n",
       "                                                                  ('scaler',\n",
       "                                                                   StandardScaler())]),\n",
       "                                                  ['ratings_count', 'num_pages',\n",
       "                                                   'text_reviews_count',\n",
       "                                                   'years_from_reference_date'])])),\n",
       "                ('gbr',\n",
       "                 GradientBoostingRegressor(learning_rate=0.01, max_depth=10,\n",
       "                                           max_features=0.3, min_samples_leaf=3,\n",
       "                                           n_estimators=200))])"
      ]
     },
     "execution_count": 240,
     "metadata": {},
     "output_type": "execute_result"
    }
   ],
   "source": [
    "gbr"
   ]
  },
  {
   "cell_type": "code",
   "execution_count": null,
   "id": "f1f63176",
   "metadata": {},
   "outputs": [],
   "source": []
  }
 ],
 "metadata": {
  "kernelspec": {
   "display_name": "Python 3 (ipykernel)",
   "language": "python",
   "name": "python3"
  },
  "language_info": {
   "codemirror_mode": {
    "name": "ipython",
    "version": 3
   },
   "file_extension": ".py",
   "mimetype": "text/x-python",
   "name": "python",
   "nbconvert_exporter": "python",
   "pygments_lexer": "ipython3",
   "version": "3.9.18"
  }
 },
 "nbformat": 4,
 "nbformat_minor": 5
}
