{
 "cells": [
  {
   "cell_type": "code",
   "execution_count": 3,
   "id": "27090b01",
   "metadata": {},
   "outputs": [],
   "source": [
    "import numpy as np\n",
    "import pandas as pd\n",
    "import matplotlib.pyplot as plt\n",
    "%matplotlib inline\n",
    "\n",
    "import seaborn as sns\n",
    "import scipy.stats as stat\n",
    "from datetime import datetime\n",
    "\n",
    "from sklearn.preprocessing import StandardScaler\n",
    "from sklearn.pipeline import Pipeline\n",
    "from sklearn.compose import ColumnTransformer\n",
    "\n",
    "from sklearn.model_selection import train_test_split\n",
    "from sklearn.linear_model import LinearRegression\n",
    "from sklearn.svm import SVR\n",
    "from sklearn.ensemble import RandomForestRegressor\n",
    "from sklearn.metrics import r2_score, mean_absolute_percentage_error"
   ]
  },
  {
   "cell_type": "markdown",
   "id": "9fc62ba9",
   "metadata": {},
   "source": [
    "## Load Data"
   ]
  },
  {
   "cell_type": "code",
   "execution_count": 4,
   "id": "ae5c7c3c",
   "metadata": {},
   "outputs": [],
   "source": [
    "df = pd.read_csv('books.csv')"
   ]
  },
  {
   "cell_type": "code",
   "execution_count": 5,
   "id": "d291332f",
   "metadata": {},
   "outputs": [
    {
     "data": {
      "text/html": [
       "<div>\n",
       "<style scoped>\n",
       "    .dataframe tbody tr th:only-of-type {\n",
       "        vertical-align: middle;\n",
       "    }\n",
       "\n",
       "    .dataframe tbody tr th {\n",
       "        vertical-align: top;\n",
       "    }\n",
       "\n",
       "    .dataframe thead th {\n",
       "        text-align: right;\n",
       "    }\n",
       "</style>\n",
       "<table border=\"1\" class=\"dataframe\">\n",
       "  <thead>\n",
       "    <tr style=\"text-align: right;\">\n",
       "      <th></th>\n",
       "      <th>bookID</th>\n",
       "      <th>title</th>\n",
       "      <th>authors</th>\n",
       "      <th>average_rating</th>\n",
       "      <th>isbn</th>\n",
       "      <th>isbn13</th>\n",
       "      <th>language_code</th>\n",
       "      <th>num_pages</th>\n",
       "      <th>ratings_count</th>\n",
       "      <th>text_reviews_count</th>\n",
       "      <th>publication_date</th>\n",
       "      <th>publisher</th>\n",
       "    </tr>\n",
       "  </thead>\n",
       "  <tbody>\n",
       "    <tr>\n",
       "      <th>0</th>\n",
       "      <td>1</td>\n",
       "      <td>Harry Potter and the Half-Blood Prince (Harry ...</td>\n",
       "      <td>J.K. Rowling/Mary GrandPré</td>\n",
       "      <td>4.57</td>\n",
       "      <td>0439785960</td>\n",
       "      <td>9.780440e+12</td>\n",
       "      <td>eng</td>\n",
       "      <td>652</td>\n",
       "      <td>2095690</td>\n",
       "      <td>27591</td>\n",
       "      <td>9/16/2006</td>\n",
       "      <td>Scholastic Inc.</td>\n",
       "    </tr>\n",
       "    <tr>\n",
       "      <th>1</th>\n",
       "      <td>2</td>\n",
       "      <td>Harry Potter and the Order of the Phoenix (Har...</td>\n",
       "      <td>J.K. Rowling/Mary GrandPré</td>\n",
       "      <td>4.49</td>\n",
       "      <td>0439358078</td>\n",
       "      <td>9.780440e+12</td>\n",
       "      <td>eng</td>\n",
       "      <td>870</td>\n",
       "      <td>2153167</td>\n",
       "      <td>29221</td>\n",
       "      <td>09/01/2004</td>\n",
       "      <td>Scholastic Inc.</td>\n",
       "    </tr>\n",
       "    <tr>\n",
       "      <th>2</th>\n",
       "      <td>4</td>\n",
       "      <td>Harry Potter and the Chamber of Secrets (Harry...</td>\n",
       "      <td>J.K. Rowling</td>\n",
       "      <td>4.42</td>\n",
       "      <td>0439554896</td>\n",
       "      <td>9.780440e+12</td>\n",
       "      <td>eng</td>\n",
       "      <td>352</td>\n",
       "      <td>6333</td>\n",
       "      <td>244</td>\n",
       "      <td>11/01/2003</td>\n",
       "      <td>Scholastic</td>\n",
       "    </tr>\n",
       "    <tr>\n",
       "      <th>3</th>\n",
       "      <td>5</td>\n",
       "      <td>Harry Potter and the Prisoner of Azkaban (Harr...</td>\n",
       "      <td>J.K. Rowling/Mary GrandPré</td>\n",
       "      <td>4.56</td>\n",
       "      <td>043965548X</td>\n",
       "      <td>9.780440e+12</td>\n",
       "      <td>eng</td>\n",
       "      <td>435</td>\n",
       "      <td>2339585</td>\n",
       "      <td>36325</td>\n",
       "      <td>05/01/2004</td>\n",
       "      <td>Scholastic Inc.</td>\n",
       "    </tr>\n",
       "    <tr>\n",
       "      <th>4</th>\n",
       "      <td>8</td>\n",
       "      <td>Harry Potter Boxed Set  Books 1-5 (Harry Potte...</td>\n",
       "      <td>J.K. Rowling/Mary GrandPré</td>\n",
       "      <td>4.78</td>\n",
       "      <td>0439682584</td>\n",
       "      <td>9.780440e+12</td>\n",
       "      <td>eng</td>\n",
       "      <td>2690</td>\n",
       "      <td>41428</td>\n",
       "      <td>164</td>\n",
       "      <td>9/13/2004</td>\n",
       "      <td>Scholastic</td>\n",
       "    </tr>\n",
       "  </tbody>\n",
       "</table>\n",
       "</div>"
      ],
      "text/plain": [
       "   bookID                                              title  \\\n",
       "0       1  Harry Potter and the Half-Blood Prince (Harry ...   \n",
       "1       2  Harry Potter and the Order of the Phoenix (Har...   \n",
       "2       4  Harry Potter and the Chamber of Secrets (Harry...   \n",
       "3       5  Harry Potter and the Prisoner of Azkaban (Harr...   \n",
       "4       8  Harry Potter Boxed Set  Books 1-5 (Harry Potte...   \n",
       "\n",
       "                      authors  average_rating        isbn        isbn13  \\\n",
       "0  J.K. Rowling/Mary GrandPré            4.57  0439785960  9.780440e+12   \n",
       "1  J.K. Rowling/Mary GrandPré            4.49  0439358078  9.780440e+12   \n",
       "2                J.K. Rowling            4.42  0439554896  9.780440e+12   \n",
       "3  J.K. Rowling/Mary GrandPré            4.56  043965548X  9.780440e+12   \n",
       "4  J.K. Rowling/Mary GrandPré            4.78  0439682584  9.780440e+12   \n",
       "\n",
       "  language_code    num_pages  ratings_count  text_reviews_count  \\\n",
       "0           eng          652        2095690               27591   \n",
       "1           eng          870        2153167               29221   \n",
       "2           eng          352           6333                 244   \n",
       "3           eng          435        2339585               36325   \n",
       "4           eng         2690          41428                 164   \n",
       "\n",
       "  publication_date        publisher  \n",
       "0        9/16/2006  Scholastic Inc.  \n",
       "1       09/01/2004  Scholastic Inc.  \n",
       "2       11/01/2003       Scholastic  \n",
       "3       05/01/2004  Scholastic Inc.  \n",
       "4        9/13/2004       Scholastic  "
      ]
     },
     "execution_count": 5,
     "metadata": {},
     "output_type": "execute_result"
    }
   ],
   "source": [
    "df.head()"
   ]
  },
  {
   "cell_type": "markdown",
   "id": "c8e3d94d",
   "metadata": {},
   "source": [
    "## Data Cleaning"
   ]
  },
  {
   "cell_type": "markdown",
   "id": "edb9a421",
   "metadata": {},
   "source": [
    "The code below will delete the extra whitespace in the columns that have string data type."
   ]
  },
  {
   "cell_type": "code",
   "execution_count": 6,
   "id": "0f52eb16",
   "metadata": {},
   "outputs": [],
   "source": [
    "df.rename(columns=lambda x: x.strip(), inplace=True)"
   ]
  },
  {
   "cell_type": "markdown",
   "id": "acf7dc67",
   "metadata": {},
   "source": [
    "## Data Analysis and Preprocessing"
   ]
  },
  {
   "cell_type": "markdown",
   "id": "0fbb44a6",
   "metadata": {},
   "source": [
    "### Target Analysis"
   ]
  },
  {
   "cell_type": "code",
   "execution_count": 7,
   "id": "0db1624d",
   "metadata": {
    "scrolled": true
   },
   "outputs": [
    {
     "data": {
      "text/plain": [
       "bookID                0\n",
       "title                 0\n",
       "authors               0\n",
       "average_rating        0\n",
       "isbn                  0\n",
       "isbn13                0\n",
       "language_code         0\n",
       "num_pages             0\n",
       "ratings_count         0\n",
       "text_reviews_count    0\n",
       "publication_date      0\n",
       "publisher             0\n",
       "dtype: int64"
      ]
     },
     "execution_count": 7,
     "metadata": {},
     "output_type": "execute_result"
    }
   ],
   "source": [
    "df.isna().sum()"
   ]
  },
  {
   "cell_type": "markdown",
   "id": "4fde7fa8",
   "metadata": {},
   "source": [
    "There is no \"official\" missing value in the dataset (column with `NaN` value) but if we look closely in the target column (`average_rating`), there are some rows that have zero value. Intuitivelty, we can think that these books are very bad so reviewers don't hesitate to give 0 score while rating the book"
   ]
  },
  {
   "cell_type": "code",
   "execution_count": 8,
   "id": "fa67de00",
   "metadata": {},
   "outputs": [
    {
     "data": {
      "image/png": "[encoded data removed]",
      "text/plain": [
       "<Figure size 500x500 with 1 Axes>"
      ]
     },
     "metadata": {},
     "output_type": "display_data"
    }
   ],
   "source": [
    "sns.displot(df['average_rating']);"
   ]
  },
  {
   "cell_type": "code",
   "execution_count": 9,
   "id": "2f812f12",
   "metadata": {},
   "outputs": [
    {
     "data": {
      "text/html": [
       "<div>\n",
       "<style scoped>\n",
       "    .dataframe tbody tr th:only-of-type {\n",
       "        vertical-align: middle;\n",
       "    }\n",
       "\n",
       "    .dataframe tbody tr th {\n",
       "        vertical-align: top;\n",
       "    }\n",
       "\n",
       "    .dataframe thead th {\n",
       "        text-align: right;\n",
       "    }\n",
       "</style>\n",
       "<table border=\"1\" class=\"dataframe\">\n",
       "  <thead>\n",
       "    <tr style=\"text-align: right;\">\n",
       "      <th></th>\n",
       "      <th>bookID</th>\n",
       "      <th>title</th>\n",
       "      <th>authors</th>\n",
       "      <th>average_rating</th>\n",
       "      <th>isbn</th>\n",
       "      <th>isbn13</th>\n",
       "      <th>language_code</th>\n",
       "      <th>num_pages</th>\n",
       "      <th>ratings_count</th>\n",
       "      <th>text_reviews_count</th>\n",
       "      <th>publication_date</th>\n",
       "      <th>publisher</th>\n",
       "    </tr>\n",
       "  </thead>\n",
       "  <tbody>\n",
       "    <tr>\n",
       "      <th>265</th>\n",
       "      <td>799</td>\n",
       "      <td>Out to Eat London 2002 (Lonely Planet Out to Eat)</td>\n",
       "      <td>Lonely Planet/Mark Honan</td>\n",
       "      <td>0.0</td>\n",
       "      <td>1740592050</td>\n",
       "      <td>9.781740e+12</td>\n",
       "      <td>eng</td>\n",
       "      <td>295</td>\n",
       "      <td>0</td>\n",
       "      <td>0</td>\n",
       "      <td>09/01/2001</td>\n",
       "      <td>Lonely Planet</td>\n",
       "    </tr>\n",
       "    <tr>\n",
       "      <th>375</th>\n",
       "      <td>1302</td>\n",
       "      <td>Juiced Official Strategy Guide</td>\n",
       "      <td>Doug Walsh</td>\n",
       "      <td>0.0</td>\n",
       "      <td>0744005612</td>\n",
       "      <td>9.780740e+12</td>\n",
       "      <td>eng</td>\n",
       "      <td>112</td>\n",
       "      <td>0</td>\n",
       "      <td>0</td>\n",
       "      <td>06/01/2005</td>\n",
       "      <td>BradyGames</td>\n",
       "    </tr>\n",
       "    <tr>\n",
       "      <th>987</th>\n",
       "      <td>3351</td>\n",
       "      <td>Open City 6: The Only Woman He Ever Left</td>\n",
       "      <td>Open City Magazine/James Purdy/Daniel Pinchbec...</td>\n",
       "      <td>0.0</td>\n",
       "      <td>189044717X</td>\n",
       "      <td>9.781890e+12</td>\n",
       "      <td>eng</td>\n",
       "      <td>200</td>\n",
       "      <td>0</td>\n",
       "      <td>0</td>\n",
       "      <td>10/13/2000</td>\n",
       "      <td>Grove Press  Open City Books</td>\n",
       "    </tr>\n",
       "    <tr>\n",
       "      <th>2532</th>\n",
       "      <td>9337</td>\n",
       "      <td>How To Meditate: An Anthology Of Talks On Medi...</td>\n",
       "      <td>Frederick P. Lenz</td>\n",
       "      <td>0.0</td>\n",
       "      <td>1932206108</td>\n",
       "      <td>9.781930e+12</td>\n",
       "      <td>eng</td>\n",
       "      <td>228</td>\n",
       "      <td>0</td>\n",
       "      <td>0</td>\n",
       "      <td>01/01/2004</td>\n",
       "      <td>Frederick P. Lenz Foundation for American Budd...</td>\n",
       "    </tr>\n",
       "    <tr>\n",
       "      <th>2533</th>\n",
       "      <td>9338</td>\n",
       "      <td>Insights: Talks On The Nature Of Existence</td>\n",
       "      <td>Frederick P. Lenz</td>\n",
       "      <td>0.0</td>\n",
       "      <td>1932206086</td>\n",
       "      <td>9.781930e+12</td>\n",
       "      <td>eng</td>\n",
       "      <td>304</td>\n",
       "      <td>0</td>\n",
       "      <td>0</td>\n",
       "      <td>01/01/2003</td>\n",
       "      <td>Frederick P. Lenz Foundation for American Budd...</td>\n",
       "    </tr>\n",
       "    <tr>\n",
       "      <th>2758</th>\n",
       "      <td>10200</td>\n",
       "      <td>Venac sonetnih venaca; Puževa srma</td>\n",
       "      <td>Dobrica Erić</td>\n",
       "      <td>0.0</td>\n",
       "      <td>8644101277</td>\n",
       "      <td>9.788640e+12</td>\n",
       "      <td>srp</td>\n",
       "      <td>222</td>\n",
       "      <td>0</td>\n",
       "      <td>0</td>\n",
       "      <td>01/01/1996</td>\n",
       "      <td>Izdavačka agencija \"Draganić\"</td>\n",
       "    </tr>\n",
       "    <tr>\n",
       "      <th>3493</th>\n",
       "      <td>12712</td>\n",
       "      <td>Brodie's notes on Aldous Huxley's brave new world</td>\n",
       "      <td>Graham Handley</td>\n",
       "      <td>0.0</td>\n",
       "      <td>0333581296</td>\n",
       "      <td>9.780330e+12</td>\n",
       "      <td>eng</td>\n",
       "      <td>71</td>\n",
       "      <td>0</td>\n",
       "      <td>0</td>\n",
       "      <td>8/20/1992</td>\n",
       "      <td>Macmillan</td>\n",
       "    </tr>\n",
       "    <tr>\n",
       "      <th>4242</th>\n",
       "      <td>15186</td>\n",
       "      <td>American Film Guide</td>\n",
       "      <td>Frank N. Magill</td>\n",
       "      <td>0.0</td>\n",
       "      <td>0893562505</td>\n",
       "      <td>9.780890e+12</td>\n",
       "      <td>eng</td>\n",
       "      <td>5</td>\n",
       "      <td>0</td>\n",
       "      <td>0</td>\n",
       "      <td>01/01/1983</td>\n",
       "      <td>Salem Press Inc</td>\n",
       "    </tr>\n",
       "    <tr>\n",
       "      <th>4678</th>\n",
       "      <td>16806</td>\n",
       "      <td>The Man and the Author: John Milton: Twentieth...</td>\n",
       "      <td>J. Martin Evans</td>\n",
       "      <td>0.0</td>\n",
       "      <td>0415940478</td>\n",
       "      <td>9.780420e+12</td>\n",
       "      <td>eng</td>\n",
       "      <td>386</td>\n",
       "      <td>0</td>\n",
       "      <td>0</td>\n",
       "      <td>11/08/2002</td>\n",
       "      <td>Routledge</td>\n",
       "    </tr>\n",
       "    <tr>\n",
       "      <th>5325</th>\n",
       "      <td>19257</td>\n",
       "      <td>Canopy: A Work for Voice and Light in Harvard ...</td>\n",
       "      <td>David   Ward/Parveen Adams/Seamus Heaney/Ivan ...</td>\n",
       "      <td>0.0</td>\n",
       "      <td>0916724948</td>\n",
       "      <td>9.780920e+12</td>\n",
       "      <td>eng</td>\n",
       "      <td>63</td>\n",
       "      <td>0</td>\n",
       "      <td>0</td>\n",
       "      <td>12/31/1997</td>\n",
       "      <td>Arts Publications</td>\n",
       "    </tr>\n",
       "    <tr>\n",
       "      <th>6383</th>\n",
       "      <td>24010</td>\n",
       "      <td>Laguna  I Love You: The Best of \"Our Town\"</td>\n",
       "      <td>John Weld/Phil Interlandi</td>\n",
       "      <td>0.0</td>\n",
       "      <td>1564741575</td>\n",
       "      <td>9.781560e+12</td>\n",
       "      <td>eng</td>\n",
       "      <td>285</td>\n",
       "      <td>0</td>\n",
       "      <td>0</td>\n",
       "      <td>03/01/1996</td>\n",
       "      <td>Fithian Press</td>\n",
       "    </tr>\n",
       "    <tr>\n",
       "      <th>6561</th>\n",
       "      <td>24749</td>\n",
       "      <td>American Writers  Supplement VIII</td>\n",
       "      <td>Jay Parini/August Wilson</td>\n",
       "      <td>0.0</td>\n",
       "      <td>0684806371</td>\n",
       "      <td>9.780680e+12</td>\n",
       "      <td>eng</td>\n",
       "      <td>400</td>\n",
       "      <td>0</td>\n",
       "      <td>0</td>\n",
       "      <td>05/01/2001</td>\n",
       "      <td>Gale Cengage</td>\n",
       "    </tr>\n",
       "    <tr>\n",
       "      <th>6862</th>\n",
       "      <td>25841</td>\n",
       "      <td>The Road To War  1933 39</td>\n",
       "      <td>Andrew      Hunt</td>\n",
       "      <td>0.0</td>\n",
       "      <td>0340774770</td>\n",
       "      <td>9.780340e+12</td>\n",
       "      <td>eng</td>\n",
       "      <td>128</td>\n",
       "      <td>0</td>\n",
       "      <td>0</td>\n",
       "      <td>04/01/2000</td>\n",
       "      <td>Hodder &amp; Stoughton Educational Division</td>\n",
       "    </tr>\n",
       "    <tr>\n",
       "      <th>6880</th>\n",
       "      <td>25903</td>\n",
       "      <td>I'll Be Home Before Midnight and I Won't Get P...</td>\n",
       "      <td>Anthony E. Wolf</td>\n",
       "      <td>0.0</td>\n",
       "      <td>0394755669</td>\n",
       "      <td>9.780390e+12</td>\n",
       "      <td>eng</td>\n",
       "      <td>288</td>\n",
       "      <td>0</td>\n",
       "      <td>0</td>\n",
       "      <td>05/12/1988</td>\n",
       "      <td>Knopf Doubleday Publishing Group</td>\n",
       "    </tr>\n",
       "    <tr>\n",
       "      <th>7147</th>\n",
       "      <td>27416</td>\n",
       "      <td>Mythographi Graeci 1: Apollodori Bibliotheca  ...</td>\n",
       "      <td>Apollodorus/Richard Wagner</td>\n",
       "      <td>0.0</td>\n",
       "      <td>3598715439</td>\n",
       "      <td>9.783600e+12</td>\n",
       "      <td>grc</td>\n",
       "      <td>335</td>\n",
       "      <td>0</td>\n",
       "      <td>0</td>\n",
       "      <td>7/15/1998</td>\n",
       "      <td>K.G. Saur Verlag</td>\n",
       "    </tr>\n",
       "    <tr>\n",
       "      <th>7402</th>\n",
       "      <td>28467</td>\n",
       "      <td>Sclerotherapy and vein treatment</td>\n",
       "      <td>Robert A. Weiss/Margaret A. Weiss/Karen L. Bea...</td>\n",
       "      <td>0.0</td>\n",
       "      <td>0071485422</td>\n",
       "      <td>9.780070e+12</td>\n",
       "      <td>eng</td>\n",
       "      <td>248</td>\n",
       "      <td>0</td>\n",
       "      <td>0</td>\n",
       "      <td>12/30/2011</td>\n",
       "      <td>McGraw-Hill Professional Publishing</td>\n",
       "    </tr>\n",
       "    <tr>\n",
       "      <th>7576</th>\n",
       "      <td>29091</td>\n",
       "      <td>The Berlin Phenomenology</td>\n",
       "      <td>Georg Wilhelm Friedrich Hegel/Michael John Petry</td>\n",
       "      <td>0.0</td>\n",
       "      <td>9027712050</td>\n",
       "      <td>9.789030e+12</td>\n",
       "      <td>eng</td>\n",
       "      <td>210</td>\n",
       "      <td>0</td>\n",
       "      <td>0</td>\n",
       "      <td>5/31/1981</td>\n",
       "      <td>Springer</td>\n",
       "    </tr>\n",
       "    <tr>\n",
       "      <th>7637</th>\n",
       "      <td>29404</td>\n",
       "      <td>Your Child and Jesus: A Family Activity Book</td>\n",
       "      <td>Rick Osborne/Kevin Miller</td>\n",
       "      <td>0.0</td>\n",
       "      <td>080242855X</td>\n",
       "      <td>9.780800e+12</td>\n",
       "      <td>eng</td>\n",
       "      <td>112</td>\n",
       "      <td>0</td>\n",
       "      <td>0</td>\n",
       "      <td>9/13/1999</td>\n",
       "      <td>Moody Publishers</td>\n",
       "    </tr>\n",
       "    <tr>\n",
       "      <th>7800</th>\n",
       "      <td>30080</td>\n",
       "      <td>Beckett Football Card Price Guide</td>\n",
       "      <td>Dan Hitt/James Beckett III</td>\n",
       "      <td>0.0</td>\n",
       "      <td>1930692471</td>\n",
       "      <td>9.781930e+12</td>\n",
       "      <td>eng</td>\n",
       "      <td>830</td>\n",
       "      <td>0</td>\n",
       "      <td>0</td>\n",
       "      <td>09/01/2006</td>\n",
       "      <td>Beckett Media</td>\n",
       "    </tr>\n",
       "    <tr>\n",
       "      <th>8979</th>\n",
       "      <td>34889</td>\n",
       "      <td>Brown's Star Atlas: Showing All The Bright Sta...</td>\n",
       "      <td>Brown Son &amp; Ferguson</td>\n",
       "      <td>0.0</td>\n",
       "      <td>0851742718</td>\n",
       "      <td>9.780850e+12</td>\n",
       "      <td>eng</td>\n",
       "      <td>49</td>\n",
       "      <td>0</td>\n",
       "      <td>0</td>\n",
       "      <td>05/01/1977</td>\n",
       "      <td>Brown Son &amp; Ferguson Ltd.</td>\n",
       "    </tr>\n",
       "    <tr>\n",
       "      <th>9335</th>\n",
       "      <td>36946</td>\n",
       "      <td>Random House Crossword Mega Omnibus  Volume 1</td>\n",
       "      <td>United Feature Syndication</td>\n",
       "      <td>0.0</td>\n",
       "      <td>081292763X</td>\n",
       "      <td>9.780810e+12</td>\n",
       "      <td>eng</td>\n",
       "      <td>336</td>\n",
       "      <td>0</td>\n",
       "      <td>0</td>\n",
       "      <td>7/22/1997</td>\n",
       "      <td>Random House Puzzles &amp; Games</td>\n",
       "    </tr>\n",
       "    <tr>\n",
       "      <th>9441</th>\n",
       "      <td>37467</td>\n",
       "      <td>Classroom Interactions as Cross-Cultural Encou...</td>\n",
       "      <td>Jasmine C.M. Luk/Angel M.Y. Lin</td>\n",
       "      <td>0.0</td>\n",
       "      <td>0805850848</td>\n",
       "      <td>9.780810e+12</td>\n",
       "      <td>eng</td>\n",
       "      <td>241</td>\n",
       "      <td>0</td>\n",
       "      <td>0</td>\n",
       "      <td>08/05/2006</td>\n",
       "      <td>Routledge</td>\n",
       "    </tr>\n",
       "    <tr>\n",
       "      <th>10142</th>\n",
       "      <td>41044</td>\n",
       "      <td>Day and Night</td>\n",
       "      <td>Better Homes and Gardens</td>\n",
       "      <td>0.0</td>\n",
       "      <td>0696018829</td>\n",
       "      <td>9.780700e+12</td>\n",
       "      <td>eng</td>\n",
       "      <td>32</td>\n",
       "      <td>0</td>\n",
       "      <td>1</td>\n",
       "      <td>03/01/1989</td>\n",
       "      <td>Meredith Corporation</td>\n",
       "    </tr>\n",
       "    <tr>\n",
       "      <th>10501</th>\n",
       "      <td>42758</td>\n",
       "      <td>The Fantastic Vampire: Studies in the Children...</td>\n",
       "      <td>James Craig Holte</td>\n",
       "      <td>0.0</td>\n",
       "      <td>0313309337</td>\n",
       "      <td>9.780310e+12</td>\n",
       "      <td>eng</td>\n",
       "      <td>176</td>\n",
       "      <td>0</td>\n",
       "      <td>0</td>\n",
       "      <td>3/30/2002</td>\n",
       "      <td>Greenwood Press</td>\n",
       "    </tr>\n",
       "    <tr>\n",
       "      <th>10921</th>\n",
       "      <td>44705</td>\n",
       "      <td>The Leadership Challenge: Skills for Taking Ch...</td>\n",
       "      <td>Warren G. Bennis</td>\n",
       "      <td>0.0</td>\n",
       "      <td>088684049X</td>\n",
       "      <td>9.780890e+12</td>\n",
       "      <td>eng</td>\n",
       "      <td>60</td>\n",
       "      <td>0</td>\n",
       "      <td>0</td>\n",
       "      <td>12/01/1985</td>\n",
       "      <td>AMR/Advanced Management Reports</td>\n",
       "    </tr>\n",
       "    <tr>\n",
       "      <th>11031</th>\n",
       "      <td>45259</td>\n",
       "      <td>Anthony Thwaite: In Conversation With Peter Da...</td>\n",
       "      <td>Peter  Dale/Ian          Hamilton/Anthony Thwaite</td>\n",
       "      <td>0.0</td>\n",
       "      <td>0953284123</td>\n",
       "      <td>9.780950e+12</td>\n",
       "      <td>eng</td>\n",
       "      <td>96</td>\n",
       "      <td>0</td>\n",
       "      <td>0</td>\n",
       "      <td>12/09/1999</td>\n",
       "      <td>Between the Lines Productions</td>\n",
       "    </tr>\n",
       "  </tbody>\n",
       "</table>\n",
       "</div>"
      ],
      "text/plain": [
       "       bookID                                              title  \\\n",
       "265       799  Out to Eat London 2002 (Lonely Planet Out to Eat)   \n",
       "375      1302                     Juiced Official Strategy Guide   \n",
       "987      3351           Open City 6: The Only Woman He Ever Left   \n",
       "2532     9337  How To Meditate: An Anthology Of Talks On Medi...   \n",
       "2533     9338         Insights: Talks On The Nature Of Existence   \n",
       "2758    10200                Venac sonetnih venaca; Puževa srma   \n",
       "3493    12712  Brodie's notes on Aldous Huxley's brave new world   \n",
       "4242    15186                                American Film Guide   \n",
       "4678    16806  The Man and the Author: John Milton: Twentieth...   \n",
       "5325    19257  Canopy: A Work for Voice and Light in Harvard ...   \n",
       "6383    24010         Laguna  I Love You: The Best of \"Our Town\"   \n",
       "6561    24749                  American Writers  Supplement VIII   \n",
       "6862    25841                           The Road To War  1933 39   \n",
       "6880    25903  I'll Be Home Before Midnight and I Won't Get P...   \n",
       "7147    27416  Mythographi Graeci 1: Apollodori Bibliotheca  ...   \n",
       "7402    28467                   Sclerotherapy and vein treatment   \n",
       "7576    29091                           The Berlin Phenomenology   \n",
       "7637    29404       Your Child and Jesus: A Family Activity Book   \n",
       "7800    30080                  Beckett Football Card Price Guide   \n",
       "8979    34889  Brown's Star Atlas: Showing All The Bright Sta...   \n",
       "9335    36946      Random House Crossword Mega Omnibus  Volume 1   \n",
       "9441    37467  Classroom Interactions as Cross-Cultural Encou...   \n",
       "10142   41044                                      Day and Night   \n",
       "10501   42758  The Fantastic Vampire: Studies in the Children...   \n",
       "10921   44705  The Leadership Challenge: Skills for Taking Ch...   \n",
       "11031   45259  Anthony Thwaite: In Conversation With Peter Da...   \n",
       "\n",
       "                                                 authors  average_rating  \\\n",
       "265                             Lonely Planet/Mark Honan             0.0   \n",
       "375                                           Doug Walsh             0.0   \n",
       "987    Open City Magazine/James Purdy/Daniel Pinchbec...             0.0   \n",
       "2532                                   Frederick P. Lenz             0.0   \n",
       "2533                                   Frederick P. Lenz             0.0   \n",
       "2758                                        Dobrica Erić             0.0   \n",
       "3493                                      Graham Handley             0.0   \n",
       "4242                                     Frank N. Magill             0.0   \n",
       "4678                                     J. Martin Evans             0.0   \n",
       "5325   David   Ward/Parveen Adams/Seamus Heaney/Ivan ...             0.0   \n",
       "6383                           John Weld/Phil Interlandi             0.0   \n",
       "6561                            Jay Parini/August Wilson             0.0   \n",
       "6862                                    Andrew      Hunt             0.0   \n",
       "6880                                     Anthony E. Wolf             0.0   \n",
       "7147                          Apollodorus/Richard Wagner             0.0   \n",
       "7402   Robert A. Weiss/Margaret A. Weiss/Karen L. Bea...             0.0   \n",
       "7576    Georg Wilhelm Friedrich Hegel/Michael John Petry             0.0   \n",
       "7637                           Rick Osborne/Kevin Miller             0.0   \n",
       "7800                          Dan Hitt/James Beckett III             0.0   \n",
       "8979                                Brown Son & Ferguson             0.0   \n",
       "9335                          United Feature Syndication             0.0   \n",
       "9441                     Jasmine C.M. Luk/Angel M.Y. Lin             0.0   \n",
       "10142                           Better Homes and Gardens             0.0   \n",
       "10501                                  James Craig Holte             0.0   \n",
       "10921                                   Warren G. Bennis             0.0   \n",
       "11031  Peter  Dale/Ian          Hamilton/Anthony Thwaite             0.0   \n",
       "\n",
       "             isbn        isbn13 language_code  num_pages  ratings_count  \\\n",
       "265    1740592050  9.781740e+12           eng        295              0   \n",
       "375    0744005612  9.780740e+12           eng        112              0   \n",
       "987    189044717X  9.781890e+12           eng        200              0   \n",
       "2532   1932206108  9.781930e+12           eng        228              0   \n",
       "2533   1932206086  9.781930e+12           eng        304              0   \n",
       "2758   8644101277  9.788640e+12           srp        222              0   \n",
       "3493   0333581296  9.780330e+12           eng         71              0   \n",
       "4242   0893562505  9.780890e+12           eng          5              0   \n",
       "4678   0415940478  9.780420e+12           eng        386              0   \n",
       "5325   0916724948  9.780920e+12           eng         63              0   \n",
       "6383   1564741575  9.781560e+12           eng        285              0   \n",
       "6561   0684806371  9.780680e+12           eng        400              0   \n",
       "6862   0340774770  9.780340e+12           eng        128              0   \n",
       "6880   0394755669  9.780390e+12           eng        288              0   \n",
       "7147   3598715439  9.783600e+12           grc        335              0   \n",
       "7402   0071485422  9.780070e+12           eng        248              0   \n",
       "7576   9027712050  9.789030e+12           eng        210              0   \n",
       "7637   080242855X  9.780800e+12           eng        112              0   \n",
       "7800   1930692471  9.781930e+12           eng        830              0   \n",
       "8979   0851742718  9.780850e+12           eng         49              0   \n",
       "9335   081292763X  9.780810e+12           eng        336              0   \n",
       "9441   0805850848  9.780810e+12           eng        241              0   \n",
       "10142  0696018829  9.780700e+12           eng         32              0   \n",
       "10501  0313309337  9.780310e+12           eng        176              0   \n",
       "10921  088684049X  9.780890e+12           eng         60              0   \n",
       "11031  0953284123  9.780950e+12           eng         96              0   \n",
       "\n",
       "       text_reviews_count publication_date  \\\n",
       "265                     0       09/01/2001   \n",
       "375                     0       06/01/2005   \n",
       "987                     0       10/13/2000   \n",
       "2532                    0       01/01/2004   \n",
       "2533                    0       01/01/2003   \n",
       "2758                    0       01/01/1996   \n",
       "3493                    0        8/20/1992   \n",
       "4242                    0       01/01/1983   \n",
       "4678                    0       11/08/2002   \n",
       "5325                    0       12/31/1997   \n",
       "6383                    0       03/01/1996   \n",
       "6561                    0       05/01/2001   \n",
       "6862                    0       04/01/2000   \n",
       "6880                    0       05/12/1988   \n",
       "7147                    0        7/15/1998   \n",
       "7402                    0       12/30/2011   \n",
       "7576                    0        5/31/1981   \n",
       "7637                    0        9/13/1999   \n",
       "7800                    0       09/01/2006   \n",
       "8979                    0       05/01/1977   \n",
       "9335                    0        7/22/1997   \n",
       "9441                    0       08/05/2006   \n",
       "10142                   1       03/01/1989   \n",
       "10501                   0        3/30/2002   \n",
       "10921                   0       12/01/1985   \n",
       "11031                   0       12/09/1999   \n",
       "\n",
       "                                               publisher  \n",
       "265                                        Lonely Planet  \n",
       "375                                           BradyGames  \n",
       "987                         Grove Press  Open City Books  \n",
       "2532   Frederick P. Lenz Foundation for American Budd...  \n",
       "2533   Frederick P. Lenz Foundation for American Budd...  \n",
       "2758                      Izdavačka agencija \"Draganić\"  \n",
       "3493                                           Macmillan  \n",
       "4242                                     Salem Press Inc  \n",
       "4678                                           Routledge  \n",
       "5325                                   Arts Publications  \n",
       "6383                                       Fithian Press  \n",
       "6561                                        Gale Cengage  \n",
       "6862             Hodder & Stoughton Educational Division  \n",
       "6880                    Knopf Doubleday Publishing Group  \n",
       "7147                                    K.G. Saur Verlag  \n",
       "7402                 McGraw-Hill Professional Publishing  \n",
       "7576                                            Springer  \n",
       "7637                                    Moody Publishers  \n",
       "7800                                       Beckett Media  \n",
       "8979                           Brown Son & Ferguson Ltd.  \n",
       "9335                        Random House Puzzles & Games  \n",
       "9441                                           Routledge  \n",
       "10142                               Meredith Corporation  \n",
       "10501                                    Greenwood Press  \n",
       "10921                    AMR/Advanced Management Reports  \n",
       "11031                      Between the Lines Productions  "
      ]
     },
     "execution_count": 9,
     "metadata": {},
     "output_type": "execute_result"
    }
   ],
   "source": [
    "df[df['average_rating'] == 0]"
   ]
  },
  {
   "cell_type": "markdown",
   "id": "05f55158",
   "metadata": {},
   "source": [
    "But, when we examine the content of these data, it seems like those book are not receiving any review from the reviewers. \n",
    "\n",
    "**Remark: We *probably* can exclude these data later in the modelling stage**"
   ]
  },
  {
   "cell_type": "markdown",
   "id": "023f5227",
   "metadata": {},
   "source": [
    "Next, we can look to the correlation between the numerical features. BookID and isbn are just the identifier of the books so we can neglect those columns."
   ]
  },
  {
   "cell_type": "code",
   "execution_count": 10,
   "id": "f0046a20",
   "metadata": {},
   "outputs": [
    {
     "data": {
      "text/html": [
       "<div>\n",
       "<style scoped>\n",
       "    .dataframe tbody tr th:only-of-type {\n",
       "        vertical-align: middle;\n",
       "    }\n",
       "\n",
       "    .dataframe tbody tr th {\n",
       "        vertical-align: top;\n",
       "    }\n",
       "\n",
       "    .dataframe thead th {\n",
       "        text-align: right;\n",
       "    }\n",
       "</style>\n",
       "<table border=\"1\" class=\"dataframe\">\n",
       "  <thead>\n",
       "    <tr style=\"text-align: right;\">\n",
       "      <th></th>\n",
       "      <th>average_rating</th>\n",
       "      <th>num_pages</th>\n",
       "      <th>ratings_count</th>\n",
       "      <th>text_reviews_count</th>\n",
       "    </tr>\n",
       "  </thead>\n",
       "  <tbody>\n",
       "    <tr>\n",
       "      <th>average_rating</th>\n",
       "      <td>1.000000</td>\n",
       "      <td>0.150809</td>\n",
       "      <td>0.038205</td>\n",
       "      <td>0.033734</td>\n",
       "    </tr>\n",
       "    <tr>\n",
       "      <th>num_pages</th>\n",
       "      <td>0.150809</td>\n",
       "      <td>1.000000</td>\n",
       "      <td>0.034353</td>\n",
       "      <td>0.036998</td>\n",
       "    </tr>\n",
       "    <tr>\n",
       "      <th>ratings_count</th>\n",
       "      <td>0.038205</td>\n",
       "      <td>0.034353</td>\n",
       "      <td>1.000000</td>\n",
       "      <td>0.865979</td>\n",
       "    </tr>\n",
       "    <tr>\n",
       "      <th>text_reviews_count</th>\n",
       "      <td>0.033734</td>\n",
       "      <td>0.036998</td>\n",
       "      <td>0.865979</td>\n",
       "      <td>1.000000</td>\n",
       "    </tr>\n",
       "  </tbody>\n",
       "</table>\n",
       "</div>"
      ],
      "text/plain": [
       "                    average_rating  num_pages  ratings_count  \\\n",
       "average_rating            1.000000   0.150809       0.038205   \n",
       "num_pages                 0.150809   1.000000       0.034353   \n",
       "ratings_count             0.038205   0.034353       1.000000   \n",
       "text_reviews_count        0.033734   0.036998       0.865979   \n",
       "\n",
       "                    text_reviews_count  \n",
       "average_rating                0.033734  \n",
       "num_pages                     0.036998  \n",
       "ratings_count                 0.865979  \n",
       "text_reviews_count            1.000000  "
      ]
     },
     "execution_count": 10,
     "metadata": {},
     "output_type": "execute_result"
    }
   ],
   "source": [
    "df[['average_rating', 'num_pages', 'ratings_count', 'text_reviews_count']].corr()"
   ]
  },
  {
   "cell_type": "markdown",
   "id": "8fd973b3",
   "metadata": {},
   "source": [
    "There are weak correlations between the target column `average_rating` to the numerical features such as `num_pages`, `ratings_count`, and `text_review_count`. Some of the remarks are:\n",
    "\n",
    "* The highest correlation exist between `average_rating` and `num_pages`\n",
    "* The lowest correlation exsist between `average_rating` and `text_review_counts`\n",
    "* There is strong correlation between `ratings_count` and `text_review_count` columns. This is a **strong evidence of collinearity** so we can remove one of these column in the modelling stage."
   ]
  },
  {
   "cell_type": "markdown",
   "id": "bb368f79",
   "metadata": {},
   "source": [
    "### Handling Discrepancies"
   ]
  },
  {
   "cell_type": "markdown",
   "id": "3898ffe6",
   "metadata": {},
   "source": [
    "Next things we want to fix in this stage are some discrepancies I found in the dataset:\n",
    "\n",
    "* Authors column have multiple names separated by `/`,\n",
    "* But the second names are not necessarily the author. This can be the reader or someone who given the foreword on the book. Eg: The Known World, Mere Christianity\n",
    "* Same books can appear in different rows, for example caused by different publishers or publishing date.\n",
    "\n",
    "So, this is the way I decided to handle this discrepancies:\n",
    "* Separate the `authors` column into multiple columns e.g. `author1`, `author2`, `author3`, ...\n",
    "* Concat `title` with `authors1` column\n",
    "* Aggregating the `num_pages`, `ratings_count`, and `text_review_count` based on the concated column. This will let some rows that recorded identical books be squeezed into unique representation, identified by `bookname_author1` column."
   ]
  },
  {
   "cell_type": "code",
   "execution_count": 11,
   "id": "96ba6cdb",
   "metadata": {},
   "outputs": [],
   "source": [
    "# create dataframe that separate the name of each authors\n",
    "df_authors = df['authors'].str.split('/', expand=True)\n",
    "\n",
    "# rename the columns with author1, author2, ...\n",
    "df_authors.columns = [\"author\"+ str(i) for i in range(1, df_authors.shape[1] + 1)]\n",
    "\n",
    "# delete whitespace (if any)\n",
    "for i in df_authors.columns:\n",
    "    df_authors[i] = df_authors[i].str.strip()\n",
    "\n",
    "# create a copy of df\n",
    "df_copy = df.copy()\n",
    "\n",
    "# concat df_copy with df_authors\n",
    "df_author_sep = pd.concat([df_copy, df_authors], axis=1).drop('authors', axis=1)\n",
    "\n",
    "# remove the rows with 0 average_rating\n",
    "df_author_sep = df_author_sep[df_author_sep['average_rating'] != 0]\n",
    "\n",
    "# delete whitespace in title column (if any)\n",
    "df_author_sep[\"title\"] = df_author_sep[\"title\"].str.strip()\n",
    "\n",
    "# concat title with author1\n",
    "df_author_sep['bookname_author1'] = df_author_sep['title'].str.strip() + \"_\" + df_author_sep[\"author1\"].str.strip()\n",
    "\n",
    "# aggregate the `num_pages`, `ratings_count`, and `text_review_count` columns based on the `bookname_author1` column\n",
    "df_title_auth_num = df_author_sep[['bookname_author1', \n",
    "                                   'num_pages', 'ratings_count', \n",
    "                                   'text_reviews_count', 'average_rating']] \\\n",
    "                        .groupby(['bookname_author1']).mean().reset_index()"
   ]
  },
  {
   "cell_type": "code",
   "execution_count": 12,
   "id": "52f8d8d3",
   "metadata": {},
   "outputs": [
    {
     "data": {
      "text/plain": [
       "(10399, 5)"
      ]
     },
     "execution_count": 12,
     "metadata": {},
     "output_type": "execute_result"
    }
   ],
   "source": [
    "df_title_auth_num.shape"
   ]
  },
  {
   "cell_type": "code",
   "execution_count": 13,
   "id": "d9544afa",
   "metadata": {},
   "outputs": [
    {
     "data": {
      "text/html": [
       "<div>\n",
       "<style scoped>\n",
       "    .dataframe tbody tr th:only-of-type {\n",
       "        vertical-align: middle;\n",
       "    }\n",
       "\n",
       "    .dataframe tbody tr th {\n",
       "        vertical-align: top;\n",
       "    }\n",
       "\n",
       "    .dataframe thead th {\n",
       "        text-align: right;\n",
       "    }\n",
       "</style>\n",
       "<table border=\"1\" class=\"dataframe\">\n",
       "  <thead>\n",
       "    <tr style=\"text-align: right;\">\n",
       "      <th></th>\n",
       "      <th>bookname_author1</th>\n",
       "      <th>num_pages</th>\n",
       "      <th>ratings_count</th>\n",
       "      <th>text_reviews_count</th>\n",
       "      <th>average_rating</th>\n",
       "    </tr>\n",
       "  </thead>\n",
       "  <tbody>\n",
       "    <tr>\n",
       "      <th>0</th>\n",
       "      <td>$30 Film School: How to Write  Direct  Produce...</td>\n",
       "      <td>528.000</td>\n",
       "      <td>30.0</td>\n",
       "      <td>4.00</td>\n",
       "      <td>3.49000</td>\n",
       "    </tr>\n",
       "    <tr>\n",
       "      <th>1</th>\n",
       "      <td>'Salem's Lot_Stephen King</td>\n",
       "      <td>409.125</td>\n",
       "      <td>10731.5</td>\n",
       "      <td>103.25</td>\n",
       "      <td>4.04875</td>\n",
       "    </tr>\n",
       "    <tr>\n",
       "      <th>2</th>\n",
       "      <td>09-Nov_Noam Chomsky</td>\n",
       "      <td>140.000</td>\n",
       "      <td>3070.0</td>\n",
       "      <td>172.00</td>\n",
       "      <td>3.73000</td>\n",
       "    </tr>\n",
       "    <tr>\n",
       "      <th>3</th>\n",
       "      <td>1 000 Places to See Before You Die_Patricia Sc...</td>\n",
       "      <td>992.000</td>\n",
       "      <td>36303.0</td>\n",
       "      <td>439.00</td>\n",
       "      <td>3.85000</td>\n",
       "    </tr>\n",
       "    <tr>\n",
       "      <th>4</th>\n",
       "      <td>10 lb Penalty_Dick Francis</td>\n",
       "      <td>320.000</td>\n",
       "      <td>3490.0</td>\n",
       "      <td>177.00</td>\n",
       "      <td>3.90000</td>\n",
       "    </tr>\n",
       "  </tbody>\n",
       "</table>\n",
       "</div>"
      ],
      "text/plain": [
       "                                    bookname_author1  num_pages  \\\n",
       "0  $30 Film School: How to Write  Direct  Produce...    528.000   \n",
       "1                          'Salem's Lot_Stephen King    409.125   \n",
       "2                                09-Nov_Noam Chomsky    140.000   \n",
       "3  1 000 Places to See Before You Die_Patricia Sc...    992.000   \n",
       "4                         10 lb Penalty_Dick Francis    320.000   \n",
       "\n",
       "   ratings_count  text_reviews_count  average_rating  \n",
       "0           30.0                4.00         3.49000  \n",
       "1        10731.5              103.25         4.04875  \n",
       "2         3070.0              172.00         3.73000  \n",
       "3        36303.0              439.00         3.85000  \n",
       "4         3490.0              177.00         3.90000  "
      ]
     },
     "execution_count": 13,
     "metadata": {},
     "output_type": "execute_result"
    }
   ],
   "source": [
    "df_title_auth_num.head()"
   ]
  },
  {
   "cell_type": "code",
   "execution_count": 14,
   "id": "82c1e697",
   "metadata": {},
   "outputs": [
    {
     "data": {
      "text/plain": [
       "(11127, 12)"
      ]
     },
     "execution_count": 14,
     "metadata": {},
     "output_type": "execute_result"
    }
   ],
   "source": [
    "df.shape"
   ]
  },
  {
   "cell_type": "markdown",
   "id": "f576f0d4",
   "metadata": {},
   "source": [
    "This method squeeze the data from 11127 to 10399 rows"
   ]
  },
  {
   "cell_type": "code",
   "execution_count": 15,
   "id": "dc0ca2ab",
   "metadata": {},
   "outputs": [
    {
     "data": {
      "text/html": [
       "<div>\n",
       "<style scoped>\n",
       "    .dataframe tbody tr th:only-of-type {\n",
       "        vertical-align: middle;\n",
       "    }\n",
       "\n",
       "    .dataframe tbody tr th {\n",
       "        vertical-align: top;\n",
       "    }\n",
       "\n",
       "    .dataframe thead th {\n",
       "        text-align: right;\n",
       "    }\n",
       "</style>\n",
       "<table border=\"1\" class=\"dataframe\">\n",
       "  <thead>\n",
       "    <tr style=\"text-align: right;\">\n",
       "      <th></th>\n",
       "      <th>average_rating</th>\n",
       "      <th>num_pages</th>\n",
       "      <th>ratings_count</th>\n",
       "      <th>text_reviews_count</th>\n",
       "    </tr>\n",
       "  </thead>\n",
       "  <tbody>\n",
       "    <tr>\n",
       "      <th>average_rating</th>\n",
       "      <td>1.000000</td>\n",
       "      <td>0.166187</td>\n",
       "      <td>0.040314</td>\n",
       "      <td>0.030540</td>\n",
       "    </tr>\n",
       "    <tr>\n",
       "      <th>num_pages</th>\n",
       "      <td>0.166187</td>\n",
       "      <td>1.000000</td>\n",
       "      <td>0.031217</td>\n",
       "      <td>0.033051</td>\n",
       "    </tr>\n",
       "    <tr>\n",
       "      <th>ratings_count</th>\n",
       "      <td>0.040314</td>\n",
       "      <td>0.031217</td>\n",
       "      <td>1.000000</td>\n",
       "      <td>0.871809</td>\n",
       "    </tr>\n",
       "    <tr>\n",
       "      <th>text_reviews_count</th>\n",
       "      <td>0.030540</td>\n",
       "      <td>0.033051</td>\n",
       "      <td>0.871809</td>\n",
       "      <td>1.000000</td>\n",
       "    </tr>\n",
       "  </tbody>\n",
       "</table>\n",
       "</div>"
      ],
      "text/plain": [
       "                    average_rating  num_pages  ratings_count  \\\n",
       "average_rating            1.000000   0.166187       0.040314   \n",
       "num_pages                 0.166187   1.000000       0.031217   \n",
       "ratings_count             0.040314   0.031217       1.000000   \n",
       "text_reviews_count        0.030540   0.033051       0.871809   \n",
       "\n",
       "                    text_reviews_count  \n",
       "average_rating                0.030540  \n",
       "num_pages                     0.033051  \n",
       "ratings_count                 0.871809  \n",
       "text_reviews_count            1.000000  "
      ]
     },
     "execution_count": 15,
     "metadata": {},
     "output_type": "execute_result"
    }
   ],
   "source": [
    "df_title_auth_num[['average_rating', 'num_pages', 'ratings_count', 'text_reviews_count']].corr()"
   ]
  },
  {
   "cell_type": "code",
   "execution_count": 16,
   "id": "5a44f55b",
   "metadata": {},
   "outputs": [
    {
     "data": {
      "text/html": [
       "<div>\n",
       "<style scoped>\n",
       "    .dataframe tbody tr th:only-of-type {\n",
       "        vertical-align: middle;\n",
       "    }\n",
       "\n",
       "    .dataframe tbody tr th {\n",
       "        vertical-align: top;\n",
       "    }\n",
       "\n",
       "    .dataframe thead th {\n",
       "        text-align: right;\n",
       "    }\n",
       "</style>\n",
       "<table border=\"1\" class=\"dataframe\">\n",
       "  <thead>\n",
       "    <tr style=\"text-align: right;\">\n",
       "      <th></th>\n",
       "      <th>average_rating</th>\n",
       "      <th>num_pages</th>\n",
       "      <th>ratings_count</th>\n",
       "      <th>text_reviews_count</th>\n",
       "    </tr>\n",
       "  </thead>\n",
       "  <tbody>\n",
       "    <tr>\n",
       "      <th>average_rating</th>\n",
       "      <td>1.000000</td>\n",
       "      <td>0.150809</td>\n",
       "      <td>0.038205</td>\n",
       "      <td>0.033734</td>\n",
       "    </tr>\n",
       "    <tr>\n",
       "      <th>num_pages</th>\n",
       "      <td>0.150809</td>\n",
       "      <td>1.000000</td>\n",
       "      <td>0.034353</td>\n",
       "      <td>0.036998</td>\n",
       "    </tr>\n",
       "    <tr>\n",
       "      <th>ratings_count</th>\n",
       "      <td>0.038205</td>\n",
       "      <td>0.034353</td>\n",
       "      <td>1.000000</td>\n",
       "      <td>0.865979</td>\n",
       "    </tr>\n",
       "    <tr>\n",
       "      <th>text_reviews_count</th>\n",
       "      <td>0.033734</td>\n",
       "      <td>0.036998</td>\n",
       "      <td>0.865979</td>\n",
       "      <td>1.000000</td>\n",
       "    </tr>\n",
       "  </tbody>\n",
       "</table>\n",
       "</div>"
      ],
      "text/plain": [
       "                    average_rating  num_pages  ratings_count  \\\n",
       "average_rating            1.000000   0.150809       0.038205   \n",
       "num_pages                 0.150809   1.000000       0.034353   \n",
       "ratings_count             0.038205   0.034353       1.000000   \n",
       "text_reviews_count        0.033734   0.036998       0.865979   \n",
       "\n",
       "                    text_reviews_count  \n",
       "average_rating                0.033734  \n",
       "num_pages                     0.036998  \n",
       "ratings_count                 0.865979  \n",
       "text_reviews_count            1.000000  "
      ]
     },
     "execution_count": 16,
     "metadata": {},
     "output_type": "execute_result"
    }
   ],
   "source": [
    "df[['average_rating', 'num_pages', 'ratings_count', 'text_reviews_count']].corr()"
   ]
  },
  {
   "cell_type": "markdown",
   "id": "4df0d685",
   "metadata": {},
   "source": [
    "If we measure the target-feature correlation in this new dataset, we can notice slight improvement in the correlation of the target to `num_pages` and `ratings_count`. However, the correlation to the `text_review_count` is slightly decreasing."
   ]
  },
  {
   "cell_type": "markdown",
   "id": "bdd87b71",
   "metadata": {},
   "source": [
    "### Distribution Analysis"
   ]
  },
  {
   "cell_type": "code",
   "execution_count": 17,
   "id": "7c8efbdc",
   "metadata": {},
   "outputs": [
    {
     "data": {
      "image/png": "[encoded data removed]",
      "text/plain": [
       "<Figure size 640x480 with 1 Axes>"
      ]
     },
     "metadata": {},
     "output_type": "display_data"
    }
   ],
   "source": [
    "sns.boxplot(data=df_title_auth_num, x='average_rating');"
   ]
  },
  {
   "cell_type": "code",
   "execution_count": 18,
   "id": "fa1d6d1c",
   "metadata": {},
   "outputs": [
    {
     "data": {
      "image/png": "[encoded data removed]",
      "text/plain": [
       "<Figure size 640x480 with 1 Axes>"
      ]
     },
     "metadata": {},
     "output_type": "display_data"
    }
   ],
   "source": [
    "sns.boxplot(data=df_title_auth_num, x='ratings_count');"
   ]
  },
  {
   "cell_type": "code",
   "execution_count": 19,
   "id": "8fa0e892",
   "metadata": {},
   "outputs": [
    {
     "data": {
      "image/png": "[encoded data removed]",
      "text/plain": [
       "<Figure size 640x480 with 1 Axes>"
      ]
     },
     "metadata": {},
     "output_type": "display_data"
    }
   ],
   "source": [
    "sns.boxplot(data=df_title_auth_num, x='num_pages');"
   ]
  },
  {
   "cell_type": "code",
   "execution_count": 20,
   "id": "03b549fa",
   "metadata": {},
   "outputs": [
    {
     "data": {
      "image/png": "[encoded data removed]",
      "text/plain": [
       "<Figure size 640x480 with 1 Axes>"
      ]
     },
     "metadata": {},
     "output_type": "display_data"
    }
   ],
   "source": [
    "sns.boxplot(data=df_title_auth_num, x='text_reviews_count');"
   ]
  },
  {
   "cell_type": "markdown",
   "id": "17c9524d",
   "metadata": {},
   "source": [
    "From the distribution analysis, we found that the distribution of numerical features are strongly skewed. One method to fix the distribution is by doing log transformation. But performing log transformation directly to the numerical data can be resulted in `Inf` value, since `log(0)` is not identified. So, we need to add 1 for each value of the data to handle infinity.\n",
    "\n",
    "**_Important: To see the real value of the predicted values, we need to inverse the operation in order to return back the real value_**"
   ]
  },
  {
   "cell_type": "code",
   "execution_count": 21,
   "id": "4f2f4088",
   "metadata": {},
   "outputs": [],
   "source": [
    "df_title_auth_num['ratings_count_log'] = np.log(df_title_auth_num['ratings_count']+1)\n",
    "df_title_auth_num['num_pages_log'] = np.log(df_title_auth_num['num_pages']+1)\n",
    "df_title_auth_num['text_reviews_count_log'] = np.log(df_title_auth_num['text_reviews_count']+1)\n",
    "df_title_auth_num['average_rating_log'] = np.log(df_title_auth_num['average_rating']+1)"
   ]
  },
  {
   "cell_type": "code",
   "execution_count": 22,
   "id": "41944697",
   "metadata": {},
   "outputs": [
    {
     "data": {
      "image/png": "[encoded data removed]",
      "text/plain": [
       "<Figure size 640x480 with 1 Axes>"
      ]
     },
     "metadata": {},
     "output_type": "display_data"
    }
   ],
   "source": [
    "sns.boxplot(data=df_title_auth_num, x='ratings_count_log');"
   ]
  },
  {
   "cell_type": "code",
   "execution_count": 23,
   "id": "3aa6cf7b",
   "metadata": {},
   "outputs": [
    {
     "data": {
      "text/plain": [
       "<seaborn.axisgrid.FacetGrid at 0x23d35601e20>"
      ]
     },
     "execution_count": 23,
     "metadata": {},
     "output_type": "execute_result"
    },
    {
     "data": {
      "image/png": "[encoded data removed]",
      "text/plain": [
       "<Figure size 500x500 with 1 Axes>"
      ]
     },
     "metadata": {},
     "output_type": "display_data"
    }
   ],
   "source": [
    "sns.displot(df_title_auth_num['ratings_count_log'])"
   ]
  },
  {
   "cell_type": "code",
   "execution_count": 24,
   "id": "a0c27b8f",
   "metadata": {},
   "outputs": [
    {
     "data": {
      "image/png": "[encoded data removed]",
      "text/plain": [
       "<Figure size 640x480 with 1 Axes>"
      ]
     },
     "metadata": {},
     "output_type": "display_data"
    }
   ],
   "source": [
    "sns.boxplot(data=df_title_auth_num, x='num_pages_log');"
   ]
  },
  {
   "cell_type": "code",
   "execution_count": 25,
   "id": "60fb83ef",
   "metadata": {},
   "outputs": [
    {
     "data": {
      "text/plain": [
       "<seaborn.axisgrid.FacetGrid at 0x23d355e0370>"
      ]
     },
     "execution_count": 25,
     "metadata": {},
     "output_type": "execute_result"
    },
    {
     "data": {
      "image/png": "[encoded data removed]",
      "text/plain": [
       "<Figure size 500x500 with 1 Axes>"
      ]
     },
     "metadata": {},
     "output_type": "display_data"
    }
   ],
   "source": [
    "sns.displot(df_title_auth_num['num_pages_log'])"
   ]
  },
  {
   "cell_type": "code",
   "execution_count": 26,
   "id": "bf1f6b65",
   "metadata": {},
   "outputs": [
    {
     "data": {
      "image/png": "[encoded data removed]",
      "text/plain": [
       "<Figure size 640x480 with 1 Axes>"
      ]
     },
     "metadata": {},
     "output_type": "display_data"
    }
   ],
   "source": [
    "sns.boxplot(data=df_title_auth_num, x='text_reviews_count_log');"
   ]
  },
  {
   "cell_type": "code",
   "execution_count": 27,
   "id": "5ccb7719",
   "metadata": {},
   "outputs": [
    {
     "data": {
      "text/plain": [
       "<seaborn.axisgrid.FacetGrid at 0x23d3594f9d0>"
      ]
     },
     "execution_count": 27,
     "metadata": {},
     "output_type": "execute_result"
    },
    {
     "data": {
      "image/png": "[encoded data removed]",
      "text/plain": [
       "<Figure size 500x500 with 1 Axes>"
      ]
     },
     "metadata": {},
     "output_type": "display_data"
    }
   ],
   "source": [
    "sns.displot(df_title_auth_num['text_reviews_count_log'])"
   ]
  },
  {
   "cell_type": "code",
   "execution_count": 28,
   "id": "95082525",
   "metadata": {},
   "outputs": [
    {
     "data": {
      "image/png": "[encoded data removed]",
      "text/plain": [
       "<Figure size 640x480 with 1 Axes>"
      ]
     },
     "metadata": {},
     "output_type": "display_data"
    }
   ],
   "source": [
    "sns.boxplot(data=df_title_auth_num, x='average_rating_log');"
   ]
  },
  {
   "cell_type": "code",
   "execution_count": 29,
   "id": "cb03c998",
   "metadata": {},
   "outputs": [
    {
     "data": {
      "text/plain": [
       "<seaborn.axisgrid.FacetGrid at 0x23d37b884c0>"
      ]
     },
     "execution_count": 29,
     "metadata": {},
     "output_type": "execute_result"
    },
    {
     "data": {
      "image/png": "[encoded data removed]",
      "text/plain": [
       "<Figure size 500x500 with 1 Axes>"
      ]
     },
     "metadata": {},
     "output_type": "display_data"
    }
   ],
   "source": [
    "sns.displot(df_title_auth_num['average_rating_log'])"
   ]
  },
  {
   "cell_type": "markdown",
   "id": "4f02a444",
   "metadata": {},
   "source": [
    "From univariate point of view, it is visible that the log transformation method resulted in better distribution"
   ]
  },
  {
   "cell_type": "code",
   "execution_count": 30,
   "id": "361729ef",
   "metadata": {},
   "outputs": [
    {
     "data": {
      "text/html": [
       "<div>\n",
       "<style scoped>\n",
       "    .dataframe tbody tr th:only-of-type {\n",
       "        vertical-align: middle;\n",
       "    }\n",
       "\n",
       "    .dataframe tbody tr th {\n",
       "        vertical-align: top;\n",
       "    }\n",
       "\n",
       "    .dataframe thead th {\n",
       "        text-align: right;\n",
       "    }\n",
       "</style>\n",
       "<table border=\"1\" class=\"dataframe\">\n",
       "  <thead>\n",
       "    <tr style=\"text-align: right;\">\n",
       "      <th></th>\n",
       "      <th>ratings_count_log</th>\n",
       "      <th>num_pages_log</th>\n",
       "      <th>text_reviews_count_log</th>\n",
       "      <th>average_rating_log</th>\n",
       "    </tr>\n",
       "  </thead>\n",
       "  <tbody>\n",
       "    <tr>\n",
       "      <th>ratings_count_log</th>\n",
       "      <td>1.000000</td>\n",
       "      <td>0.211300</td>\n",
       "      <td>0.957123</td>\n",
       "      <td>0.111859</td>\n",
       "    </tr>\n",
       "    <tr>\n",
       "      <th>num_pages_log</th>\n",
       "      <td>0.211300</td>\n",
       "      <td>1.000000</td>\n",
       "      <td>0.186704</td>\n",
       "      <td>0.063734</td>\n",
       "    </tr>\n",
       "    <tr>\n",
       "      <th>text_reviews_count_log</th>\n",
       "      <td>0.957123</td>\n",
       "      <td>0.186704</td>\n",
       "      <td>1.000000</td>\n",
       "      <td>0.053333</td>\n",
       "    </tr>\n",
       "    <tr>\n",
       "      <th>average_rating_log</th>\n",
       "      <td>0.111859</td>\n",
       "      <td>0.063734</td>\n",
       "      <td>0.053333</td>\n",
       "      <td>1.000000</td>\n",
       "    </tr>\n",
       "  </tbody>\n",
       "</table>\n",
       "</div>"
      ],
      "text/plain": [
       "                        ratings_count_log  num_pages_log  \\\n",
       "ratings_count_log                1.000000       0.211300   \n",
       "num_pages_log                    0.211300       1.000000   \n",
       "text_reviews_count_log           0.957123       0.186704   \n",
       "average_rating_log               0.111859       0.063734   \n",
       "\n",
       "                        text_reviews_count_log  average_rating_log  \n",
       "ratings_count_log                     0.957123            0.111859  \n",
       "num_pages_log                         0.186704            0.063734  \n",
       "text_reviews_count_log                1.000000            0.053333  \n",
       "average_rating_log                    0.053333            1.000000  "
      ]
     },
     "execution_count": 30,
     "metadata": {},
     "output_type": "execute_result"
    }
   ],
   "source": [
    "df_title_auth_num[['ratings_count_log', 'num_pages_log', 'text_reviews_count_log', 'average_rating_log']].corr()"
   ]
  },
  {
   "cell_type": "code",
   "execution_count": 31,
   "id": "0ec1cb1c",
   "metadata": {},
   "outputs": [
    {
     "data": {
      "text/html": [
       "<div>\n",
       "<style scoped>\n",
       "    .dataframe tbody tr th:only-of-type {\n",
       "        vertical-align: middle;\n",
       "    }\n",
       "\n",
       "    .dataframe tbody tr th {\n",
       "        vertical-align: top;\n",
       "    }\n",
       "\n",
       "    .dataframe thead th {\n",
       "        text-align: right;\n",
       "    }\n",
       "</style>\n",
       "<table border=\"1\" class=\"dataframe\">\n",
       "  <thead>\n",
       "    <tr style=\"text-align: right;\">\n",
       "      <th></th>\n",
       "      <th>ratings_count</th>\n",
       "      <th>num_pages</th>\n",
       "      <th>text_reviews_count</th>\n",
       "      <th>average_rating</th>\n",
       "    </tr>\n",
       "  </thead>\n",
       "  <tbody>\n",
       "    <tr>\n",
       "      <th>ratings_count</th>\n",
       "      <td>1.000000</td>\n",
       "      <td>0.031217</td>\n",
       "      <td>0.871809</td>\n",
       "      <td>0.040314</td>\n",
       "    </tr>\n",
       "    <tr>\n",
       "      <th>num_pages</th>\n",
       "      <td>0.031217</td>\n",
       "      <td>1.000000</td>\n",
       "      <td>0.033051</td>\n",
       "      <td>0.166187</td>\n",
       "    </tr>\n",
       "    <tr>\n",
       "      <th>text_reviews_count</th>\n",
       "      <td>0.871809</td>\n",
       "      <td>0.033051</td>\n",
       "      <td>1.000000</td>\n",
       "      <td>0.030540</td>\n",
       "    </tr>\n",
       "    <tr>\n",
       "      <th>average_rating</th>\n",
       "      <td>0.040314</td>\n",
       "      <td>0.166187</td>\n",
       "      <td>0.030540</td>\n",
       "      <td>1.000000</td>\n",
       "    </tr>\n",
       "  </tbody>\n",
       "</table>\n",
       "</div>"
      ],
      "text/plain": [
       "                    ratings_count  num_pages  text_reviews_count  \\\n",
       "ratings_count            1.000000   0.031217            0.871809   \n",
       "num_pages                0.031217   1.000000            0.033051   \n",
       "text_reviews_count       0.871809   0.033051            1.000000   \n",
       "average_rating           0.040314   0.166187            0.030540   \n",
       "\n",
       "                    average_rating  \n",
       "ratings_count             0.040314  \n",
       "num_pages                 0.166187  \n",
       "text_reviews_count        0.030540  \n",
       "average_rating            1.000000  "
      ]
     },
     "execution_count": 31,
     "metadata": {},
     "output_type": "execute_result"
    }
   ],
   "source": [
    "df_title_auth_num[['ratings_count', 'num_pages', 'text_reviews_count', 'average_rating']].corr()"
   ]
  },
  {
   "cell_type": "markdown",
   "id": "d65e7889",
   "metadata": {},
   "source": [
    "From bivariate point of view, again, there are trade-off between correlations of the target and feature."
   ]
  },
  {
   "cell_type": "markdown",
   "id": "66024fc5",
   "metadata": {},
   "source": [
    "## Modelling"
   ]
  },
  {
   "cell_type": "markdown",
   "id": "a410e8b4",
   "metadata": {},
   "source": [
    "### Before Log Transformation\n",
    "#### Data Splitting"
   ]
  },
  {
   "cell_type": "code",
   "execution_count": 32,
   "id": "db385042",
   "metadata": {},
   "outputs": [],
   "source": [
    "X = df_title_auth_num[['ratings_count', 'num_pages', 'text_reviews_count']]\n",
    "y = df_title_auth_num['average_rating']\n",
    "\n",
    "X_train, X_test, y_train, y_test = train_test_split(X, y, test_size = 0.2, random_state=1)"
   ]
  },
  {
   "cell_type": "code",
   "execution_count": 33,
   "id": "97defb33",
   "metadata": {},
   "outputs": [
    {
     "data": {
      "text/html": [
       "<div>\n",
       "<style scoped>\n",
       "    .dataframe tbody tr th:only-of-type {\n",
       "        vertical-align: middle;\n",
       "    }\n",
       "\n",
       "    .dataframe tbody tr th {\n",
       "        vertical-align: top;\n",
       "    }\n",
       "\n",
       "    .dataframe thead th {\n",
       "        text-align: right;\n",
       "    }\n",
       "</style>\n",
       "<table border=\"1\" class=\"dataframe\">\n",
       "  <thead>\n",
       "    <tr style=\"text-align: right;\">\n",
       "      <th></th>\n",
       "      <th>ratings_count</th>\n",
       "      <th>num_pages</th>\n",
       "      <th>text_reviews_count</th>\n",
       "    </tr>\n",
       "  </thead>\n",
       "  <tbody>\n",
       "    <tr>\n",
       "      <th>7497</th>\n",
       "      <td>199.0</td>\n",
       "      <td>276.0</td>\n",
       "      <td>9.0</td>\n",
       "    </tr>\n",
       "    <tr>\n",
       "      <th>6042</th>\n",
       "      <td>238.0</td>\n",
       "      <td>192.0</td>\n",
       "      <td>35.0</td>\n",
       "    </tr>\n",
       "    <tr>\n",
       "      <th>4625</th>\n",
       "      <td>59.0</td>\n",
       "      <td>191.0</td>\n",
       "      <td>4.0</td>\n",
       "    </tr>\n",
       "    <tr>\n",
       "      <th>5125</th>\n",
       "      <td>1181.0</td>\n",
       "      <td>461.0</td>\n",
       "      <td>120.6</td>\n",
       "    </tr>\n",
       "    <tr>\n",
       "      <th>2813</th>\n",
       "      <td>5980.0</td>\n",
       "      <td>336.0</td>\n",
       "      <td>171.0</td>\n",
       "    </tr>\n",
       "    <tr>\n",
       "      <th>...</th>\n",
       "      <td>...</td>\n",
       "      <td>...</td>\n",
       "      <td>...</td>\n",
       "    </tr>\n",
       "    <tr>\n",
       "      <th>2895</th>\n",
       "      <td>5594.0</td>\n",
       "      <td>355.0</td>\n",
       "      <td>213.0</td>\n",
       "    </tr>\n",
       "    <tr>\n",
       "      <th>7813</th>\n",
       "      <td>675.0</td>\n",
       "      <td>175.0</td>\n",
       "      <td>61.0</td>\n",
       "    </tr>\n",
       "    <tr>\n",
       "      <th>905</th>\n",
       "      <td>137.0</td>\n",
       "      <td>156.0</td>\n",
       "      <td>18.0</td>\n",
       "    </tr>\n",
       "    <tr>\n",
       "      <th>5192</th>\n",
       "      <td>6006.0</td>\n",
       "      <td>357.0</td>\n",
       "      <td>111.0</td>\n",
       "    </tr>\n",
       "    <tr>\n",
       "      <th>235</th>\n",
       "      <td>57.0</td>\n",
       "      <td>256.0</td>\n",
       "      <td>5.0</td>\n",
       "    </tr>\n",
       "  </tbody>\n",
       "</table>\n",
       "<p>8319 rows × 3 columns</p>\n",
       "</div>"
      ],
      "text/plain": [
       "      ratings_count  num_pages  text_reviews_count\n",
       "7497          199.0      276.0                 9.0\n",
       "6042          238.0      192.0                35.0\n",
       "4625           59.0      191.0                 4.0\n",
       "5125         1181.0      461.0               120.6\n",
       "2813         5980.0      336.0               171.0\n",
       "...             ...        ...                 ...\n",
       "2895         5594.0      355.0               213.0\n",
       "7813          675.0      175.0                61.0\n",
       "905           137.0      156.0                18.0\n",
       "5192         6006.0      357.0               111.0\n",
       "235            57.0      256.0                 5.0\n",
       "\n",
       "[8319 rows x 3 columns]"
      ]
     },
     "execution_count": 33,
     "metadata": {},
     "output_type": "execute_result"
    }
   ],
   "source": [
    "X_train"
   ]
  },
  {
   "cell_type": "markdown",
   "id": "1a28865b",
   "metadata": {},
   "source": [
    "#### Feature Scalling"
   ]
  },
  {
   "cell_type": "code",
   "execution_count": 34,
   "id": "b70dff8a",
   "metadata": {},
   "outputs": [],
   "source": [
    "def scale(features):\n",
    "    feature_scaling = Pipeline([('scaler', StandardScaler())])\n",
    "\n",
    "    preprocessor = ColumnTransformer([\n",
    "        ('feature_scaller', feature_scaling, features.columns)\n",
    "    ])\n",
    "\n",
    "    preprocessor.fit(features)\n",
    "    \n",
    "    return preprocessor"
   ]
  },
  {
   "cell_type": "code",
   "execution_count": 35,
   "id": "bba10065",
   "metadata": {},
   "outputs": [],
   "source": [
    "scaler = scale(X_train)"
   ]
  },
  {
   "cell_type": "code",
   "execution_count": 36,
   "id": "06442fd5",
   "metadata": {},
   "outputs": [
    {
     "data": {
      "text/html": [
       "<style>#sk-container-id-1 {color: black;}#sk-container-id-1 pre{padding: 0;}#sk-container-id-1 div.sk-toggleable {background-color: white;}#sk-container-id-1 label.sk-toggleable__label {cursor: pointer;display: block;width: 100%;margin-bottom: 0;padding: 0.3em;box-sizing: border-box;text-align: center;}#sk-container-id-1 label.sk-toggleable__label-arrow:before {content: \"▸\";float: left;margin-right: 0.25em;color: #696969;}#sk-container-id-1 label.sk-toggleable__label-arrow:hover:before {color: black;}#sk-container-id-1 div.sk-estimator:hover label.sk-toggleable__label-arrow:before {color: black;}#sk-container-id-1 div.sk-toggleable__content {max-height: 0;max-width: 0;overflow: hidden;text-align: left;background-color: #f0f8ff;}#sk-container-id-1 div.sk-toggleable__content pre {margin: 0.2em;color: black;border-radius: 0.25em;background-color: #f0f8ff;}#sk-container-id-1 input.sk-toggleable__control:checked~div.sk-toggleable__content {max-height: 200px;max-width: 100%;overflow: auto;}#sk-container-id-1 input.sk-toggleable__control:checked~label.sk-toggleable__label-arrow:before {content: \"▾\";}#sk-container-id-1 div.sk-estimator input.sk-toggleable__control:checked~label.sk-toggleable__label {background-color: #d4ebff;}#sk-container-id-1 div.sk-label input.sk-toggleable__control:checked~label.sk-toggleable__label {background-color: #d4ebff;}#sk-container-id-1 input.sk-hidden--visually {border: 0;clip: rect(1px 1px 1px 1px);clip: rect(1px, 1px, 1px, 1px);height: 1px;margin: -1px;overflow: hidden;padding: 0;position: absolute;width: 1px;}#sk-container-id-1 div.sk-estimator {font-family: monospace;background-color: #f0f8ff;border: 1px dotted black;border-radius: 0.25em;box-sizing: border-box;margin-bottom: 0.5em;}#sk-container-id-1 div.sk-estimator:hover {background-color: #d4ebff;}#sk-container-id-1 div.sk-parallel-item::after {content: \"\";width: 100%;border-bottom: 1px solid gray;flex-grow: 1;}#sk-container-id-1 div.sk-label:hover label.sk-toggleable__label {background-color: #d4ebff;}#sk-container-id-1 div.sk-serial::before {content: \"\";position: absolute;border-left: 1px solid gray;box-sizing: border-box;top: 0;bottom: 0;left: 50%;z-index: 0;}#sk-container-id-1 div.sk-serial {display: flex;flex-direction: column;align-items: center;background-color: white;padding-right: 0.2em;padding-left: 0.2em;position: relative;}#sk-container-id-1 div.sk-item {position: relative;z-index: 1;}#sk-container-id-1 div.sk-parallel {display: flex;align-items: stretch;justify-content: center;background-color: white;position: relative;}#sk-container-id-1 div.sk-item::before, #sk-container-id-1 div.sk-parallel-item::before {content: \"\";position: absolute;border-left: 1px solid gray;box-sizing: border-box;top: 0;bottom: 0;left: 50%;z-index: -1;}#sk-container-id-1 div.sk-parallel-item {display: flex;flex-direction: column;z-index: 1;position: relative;background-color: white;}#sk-container-id-1 div.sk-parallel-item:first-child::after {align-self: flex-end;width: 50%;}#sk-container-id-1 div.sk-parallel-item:last-child::after {align-self: flex-start;width: 50%;}#sk-container-id-1 div.sk-parallel-item:only-child::after {width: 0;}#sk-container-id-1 div.sk-dashed-wrapped {border: 1px dashed gray;margin: 0 0.4em 0.5em 0.4em;box-sizing: border-box;padding-bottom: 0.4em;background-color: white;}#sk-container-id-1 div.sk-label label {font-family: monospace;font-weight: bold;display: inline-block;line-height: 1.2em;}#sk-container-id-1 div.sk-label-container {text-align: center;}#sk-container-id-1 div.sk-container {/* jupyter's `normalize.less` sets `[hidden] { display: none; }` but bootstrap.min.css set `[hidden] { display: none !important; }` so we also need the `!important` here to be able to override the default hidden behavior on the sphinx rendered scikit-learn.org. See: https://github.com/scikit-learn/scikit-learn/issues/21755 */display: inline-block !important;position: relative;}#sk-container-id-1 div.sk-text-repr-fallback {display: none;}</style><div id=\"sk-container-id-1\" class=\"sk-top-container\"><div class=\"sk-text-repr-fallback\"><pre>ColumnTransformer(transformers=[(&#x27;feature_scaller&#x27;,\n",
       "                                 Pipeline(steps=[(&#x27;scaler&#x27;, StandardScaler())]),\n",
       "                                 Index([&#x27;ratings_count&#x27;, &#x27;num_pages&#x27;, &#x27;text_reviews_count&#x27;], dtype=&#x27;object&#x27;))])</pre><b>In a Jupyter environment, please rerun this cell to show the HTML representation or trust the notebook. <br />On GitHub, the HTML representation is unable to render, please try loading this page with nbviewer.org.</b></div><div class=\"sk-container\" hidden><div class=\"sk-item sk-dashed-wrapped\"><div class=\"sk-label-container\"><div class=\"sk-label sk-toggleable\"><input class=\"sk-toggleable__control sk-hidden--visually\" id=\"sk-estimator-id-1\" type=\"checkbox\" ><label for=\"sk-estimator-id-1\" class=\"sk-toggleable__label sk-toggleable__label-arrow\">ColumnTransformer</label><div class=\"sk-toggleable__content\"><pre>ColumnTransformer(transformers=[(&#x27;feature_scaller&#x27;,\n",
       "                                 Pipeline(steps=[(&#x27;scaler&#x27;, StandardScaler())]),\n",
       "                                 Index([&#x27;ratings_count&#x27;, &#x27;num_pages&#x27;, &#x27;text_reviews_count&#x27;], dtype=&#x27;object&#x27;))])</pre></div></div></div><div class=\"sk-parallel\"><div class=\"sk-parallel-item\"><div class=\"sk-item\"><div class=\"sk-label-container\"><div class=\"sk-label sk-toggleable\"><input class=\"sk-toggleable__control sk-hidden--visually\" id=\"sk-estimator-id-2\" type=\"checkbox\" ><label for=\"sk-estimator-id-2\" class=\"sk-toggleable__label sk-toggleable__label-arrow\">feature_scaller</label><div class=\"sk-toggleable__content\"><pre>Index([&#x27;ratings_count&#x27;, &#x27;num_pages&#x27;, &#x27;text_reviews_count&#x27;], dtype=&#x27;object&#x27;)</pre></div></div></div><div class=\"sk-serial\"><div class=\"sk-item\"><div class=\"sk-serial\"><div class=\"sk-item\"><div class=\"sk-estimator sk-toggleable\"><input class=\"sk-toggleable__control sk-hidden--visually\" id=\"sk-estimator-id-3\" type=\"checkbox\" ><label for=\"sk-estimator-id-3\" class=\"sk-toggleable__label sk-toggleable__label-arrow\">StandardScaler</label><div class=\"sk-toggleable__content\"><pre>StandardScaler()</pre></div></div></div></div></div></div></div></div></div></div></div></div>"
      ],
      "text/plain": [
       "ColumnTransformer(transformers=[('feature_scaller',\n",
       "                                 Pipeline(steps=[('scaler', StandardScaler())]),\n",
       "                                 Index(['ratings_count', 'num_pages', 'text_reviews_count'], dtype='object'))])"
      ]
     },
     "execution_count": 36,
     "metadata": {},
     "output_type": "execute_result"
    }
   ],
   "source": [
    "scaler"
   ]
  },
  {
   "cell_type": "code",
   "execution_count": 37,
   "id": "8a20557d",
   "metadata": {},
   "outputs": [],
   "source": [
    "X_train_scaled = scaler.transform(X_train)\n",
    "X_test_scaled = scaler.transform(X_test)"
   ]
  },
  {
   "cell_type": "code",
   "execution_count": 38,
   "id": "a9ff9978",
   "metadata": {},
   "outputs": [
    {
     "data": {
      "text/plain": [
       "array([[-0.15993759, -0.25220478, -0.20302699],\n",
       "       [-0.15953428, -0.61389289, -0.19223178],\n",
       "       [-0.16138537, -0.61819871, -0.20510299],\n",
       "       ...,\n",
       "       [-0.16057875, -0.76890209, -0.19929019],\n",
       "       [-0.09988564,  0.0965659 , -0.16067656],\n",
       "       [-0.16140606, -0.338321  , -0.20468779]])"
      ]
     },
     "execution_count": 38,
     "metadata": {},
     "output_type": "execute_result"
    }
   ],
   "source": [
    "X_train_scaled"
   ]
  },
  {
   "cell_type": "code",
   "execution_count": 39,
   "id": "c8140548",
   "metadata": {},
   "outputs": [
    {
     "data": {
      "text/plain": [
       "array([[-0.16102343, -0.9325229 , -0.20178139],\n",
       "       [-0.1619438 , -0.84640668, -0.20676379],\n",
       "       [-0.16174732,  1.37969755, -0.20593339],\n",
       "       ...,\n",
       "       [-0.15024779, -1.09614371, -0.11375893],\n",
       "       [ 0.11574087,  0.30755064,  0.01952036],\n",
       "       [-0.15569766, -0.22636991, -0.16939577]])"
      ]
     },
     "execution_count": 39,
     "metadata": {},
     "output_type": "execute_result"
    }
   ],
   "source": [
    "X_test_scaled"
   ]
  },
  {
   "cell_type": "code",
   "execution_count": 40,
   "id": "ed10cd4c",
   "metadata": {},
   "outputs": [],
   "source": [
    "lr = LinearRegression()\n",
    "svr_linear = SVR(kernel = 'linear')\n",
    "svr_rbf = SVR(kernel = 'rbf')\n",
    "rf = RandomForestRegressor()"
   ]
  },
  {
   "cell_type": "code",
   "execution_count": 41,
   "id": "e3a9160f",
   "metadata": {},
   "outputs": [
    {
     "data": {
      "text/html": [
       "<style>#sk-container-id-2 {color: black;}#sk-container-id-2 pre{padding: 0;}#sk-container-id-2 div.sk-toggleable {background-color: white;}#sk-container-id-2 label.sk-toggleable__label {cursor: pointer;display: block;width: 100%;margin-bottom: 0;padding: 0.3em;box-sizing: border-box;text-align: center;}#sk-container-id-2 label.sk-toggleable__label-arrow:before {content: \"▸\";float: left;margin-right: 0.25em;color: #696969;}#sk-container-id-2 label.sk-toggleable__label-arrow:hover:before {color: black;}#sk-container-id-2 div.sk-estimator:hover label.sk-toggleable__label-arrow:before {color: black;}#sk-container-id-2 div.sk-toggleable__content {max-height: 0;max-width: 0;overflow: hidden;text-align: left;background-color: #f0f8ff;}#sk-container-id-2 div.sk-toggleable__content pre {margin: 0.2em;color: black;border-radius: 0.25em;background-color: #f0f8ff;}#sk-container-id-2 input.sk-toggleable__control:checked~div.sk-toggleable__content {max-height: 200px;max-width: 100%;overflow: auto;}#sk-container-id-2 input.sk-toggleable__control:checked~label.sk-toggleable__label-arrow:before {content: \"▾\";}#sk-container-id-2 div.sk-estimator input.sk-toggleable__control:checked~label.sk-toggleable__label {background-color: #d4ebff;}#sk-container-id-2 div.sk-label input.sk-toggleable__control:checked~label.sk-toggleable__label {background-color: #d4ebff;}#sk-container-id-2 input.sk-hidden--visually {border: 0;clip: rect(1px 1px 1px 1px);clip: rect(1px, 1px, 1px, 1px);height: 1px;margin: -1px;overflow: hidden;padding: 0;position: absolute;width: 1px;}#sk-container-id-2 div.sk-estimator {font-family: monospace;background-color: #f0f8ff;border: 1px dotted black;border-radius: 0.25em;box-sizing: border-box;margin-bottom: 0.5em;}#sk-container-id-2 div.sk-estimator:hover {background-color: #d4ebff;}#sk-container-id-2 div.sk-parallel-item::after {content: \"\";width: 100%;border-bottom: 1px solid gray;flex-grow: 1;}#sk-container-id-2 div.sk-label:hover label.sk-toggleable__label {background-color: #d4ebff;}#sk-container-id-2 div.sk-serial::before {content: \"\";position: absolute;border-left: 1px solid gray;box-sizing: border-box;top: 0;bottom: 0;left: 50%;z-index: 0;}#sk-container-id-2 div.sk-serial {display: flex;flex-direction: column;align-items: center;background-color: white;padding-right: 0.2em;padding-left: 0.2em;position: relative;}#sk-container-id-2 div.sk-item {position: relative;z-index: 1;}#sk-container-id-2 div.sk-parallel {display: flex;align-items: stretch;justify-content: center;background-color: white;position: relative;}#sk-container-id-2 div.sk-item::before, #sk-container-id-2 div.sk-parallel-item::before {content: \"\";position: absolute;border-left: 1px solid gray;box-sizing: border-box;top: 0;bottom: 0;left: 50%;z-index: -1;}#sk-container-id-2 div.sk-parallel-item {display: flex;flex-direction: column;z-index: 1;position: relative;background-color: white;}#sk-container-id-2 div.sk-parallel-item:first-child::after {align-self: flex-end;width: 50%;}#sk-container-id-2 div.sk-parallel-item:last-child::after {align-self: flex-start;width: 50%;}#sk-container-id-2 div.sk-parallel-item:only-child::after {width: 0;}#sk-container-id-2 div.sk-dashed-wrapped {border: 1px dashed gray;margin: 0 0.4em 0.5em 0.4em;box-sizing: border-box;padding-bottom: 0.4em;background-color: white;}#sk-container-id-2 div.sk-label label {font-family: monospace;font-weight: bold;display: inline-block;line-height: 1.2em;}#sk-container-id-2 div.sk-label-container {text-align: center;}#sk-container-id-2 div.sk-container {/* jupyter's `normalize.less` sets `[hidden] { display: none; }` but bootstrap.min.css set `[hidden] { display: none !important; }` so we also need the `!important` here to be able to override the default hidden behavior on the sphinx rendered scikit-learn.org. See: https://github.com/scikit-learn/scikit-learn/issues/21755 */display: inline-block !important;position: relative;}#sk-container-id-2 div.sk-text-repr-fallback {display: none;}</style><div id=\"sk-container-id-2\" class=\"sk-top-container\"><div class=\"sk-text-repr-fallback\"><pre>RandomForestRegressor()</pre><b>In a Jupyter environment, please rerun this cell to show the HTML representation or trust the notebook. <br />On GitHub, the HTML representation is unable to render, please try loading this page with nbviewer.org.</b></div><div class=\"sk-container\" hidden><div class=\"sk-item\"><div class=\"sk-estimator sk-toggleable\"><input class=\"sk-toggleable__control sk-hidden--visually\" id=\"sk-estimator-id-4\" type=\"checkbox\" checked><label for=\"sk-estimator-id-4\" class=\"sk-toggleable__label sk-toggleable__label-arrow\">RandomForestRegressor</label><div class=\"sk-toggleable__content\"><pre>RandomForestRegressor()</pre></div></div></div></div></div>"
      ],
      "text/plain": [
       "RandomForestRegressor()"
      ]
     },
     "execution_count": 41,
     "metadata": {},
     "output_type": "execute_result"
    }
   ],
   "source": [
    "lr.fit(X=X_train_scaled, y=y_train)\n",
    "svr_linear.fit(X=X_train_scaled, y=y_train)\n",
    "svr_rbf.fit(X=X_train_scaled, y=y_train)\n",
    "rf.fit(X=X_train_scaled, y=y_train)"
   ]
  },
  {
   "cell_type": "code",
   "execution_count": 42,
   "id": "a1a4a04b",
   "metadata": {},
   "outputs": [],
   "source": [
    "y_test_pred_lr = lr.predict(X_test_scaled)\n",
    "y_test_pred_svr_linear = svr_linear.predict(X_test_scaled)\n",
    "y_test_pred_svr_rbf = svr_rbf.predict(X_test_scaled)\n",
    "y_test_pred_rf = rf.predict(X_test_scaled)"
   ]
  },
  {
   "cell_type": "code",
   "execution_count": 43,
   "id": "3e2d9e9a",
   "metadata": {},
   "outputs": [],
   "source": [
    "r2_lr = r2_score(y_test, y_test_pred_lr)\n",
    "r2_svr_linear = r2_score(y_test, y_test_pred_svr_linear)\n",
    "r2_svr_rbf = r2_score(y_test, y_test_pred_svr_rbf)\n",
    "r2_rf = r2_score(y_test, y_test_pred_rf)"
   ]
  },
  {
   "cell_type": "code",
   "execution_count": 44,
   "id": "9e7ec2fe",
   "metadata": {},
   "outputs": [
    {
     "name": "stdout",
     "output_type": "stream",
     "text": [
      "R-squared Linear Regression before log transform: 0.02\n",
      "R-squared SVR-Linear before log transform: 0.02\n",
      "R-squared SVR-RBF before log transform: 0.07\n",
      "R-squared Random Forest before log transform: -0.03\n"
     ]
    }
   ],
   "source": [
    "print(f'R-squared Linear Regression before log transform: {r2_lr.round(2)}')\n",
    "print(f'R-squared SVR-Linear before log transform: {r2_svr_linear.round(2)}')\n",
    "print(f'R-squared SVR-RBF before log transform: {r2_svr_rbf.round(2)}')\n",
    "print(f'R-squared Random Forest before log transform: {r2_rf.round(2)}')"
   ]
  },
  {
   "cell_type": "markdown",
   "id": "b31e09a1",
   "metadata": {},
   "source": [
    "### After Log Transformation\n",
    "#### Data Splitting"
   ]
  },
  {
   "cell_type": "code",
   "execution_count": 45,
   "id": "06e15a8a",
   "metadata": {},
   "outputs": [],
   "source": [
    "X_log = df_title_auth_num[['ratings_count_log', 'num_pages_log', 'text_reviews_count_log']]\n",
    "y_log = df_title_auth_num['average_rating']\n",
    "\n",
    "X_train_log, X_test_log, y_train_log, y_test_log = train_test_split(X_log, y_log, test_size = 0.2, random_state=1)"
   ]
  },
  {
   "cell_type": "markdown",
   "id": "ac29ef0b",
   "metadata": {},
   "source": [
    "#### Feature Scalling"
   ]
  },
  {
   "cell_type": "code",
   "execution_count": 46,
   "id": "24c74042",
   "metadata": {},
   "outputs": [],
   "source": [
    "scaler_log = scale(X_train_log)\n",
    "X_train_scaled_log = scaler_log.transform(X_train_log)\n",
    "X_test_scaled_log = scaler_log.transform(X_test_log)"
   ]
  },
  {
   "cell_type": "code",
   "execution_count": 47,
   "id": "ccf3c76f",
   "metadata": {},
   "outputs": [],
   "source": [
    "lr_log = LinearRegression()\n",
    "svr_linear_log = SVR(kernel = 'linear')\n",
    "svr_rbf_log = SVR(kernel = 'rbf')\n",
    "rf_log = RandomForestRegressor()"
   ]
  },
  {
   "cell_type": "code",
   "execution_count": 48,
   "id": "b7c0b173",
   "metadata": {},
   "outputs": [
    {
     "data": {
      "text/html": [
       "<style>#sk-container-id-3 {color: black;}#sk-container-id-3 pre{padding: 0;}#sk-container-id-3 div.sk-toggleable {background-color: white;}#sk-container-id-3 label.sk-toggleable__label {cursor: pointer;display: block;width: 100%;margin-bottom: 0;padding: 0.3em;box-sizing: border-box;text-align: center;}#sk-container-id-3 label.sk-toggleable__label-arrow:before {content: \"▸\";float: left;margin-right: 0.25em;color: #696969;}#sk-container-id-3 label.sk-toggleable__label-arrow:hover:before {color: black;}#sk-container-id-3 div.sk-estimator:hover label.sk-toggleable__label-arrow:before {color: black;}#sk-container-id-3 div.sk-toggleable__content {max-height: 0;max-width: 0;overflow: hidden;text-align: left;background-color: #f0f8ff;}#sk-container-id-3 div.sk-toggleable__content pre {margin: 0.2em;color: black;border-radius: 0.25em;background-color: #f0f8ff;}#sk-container-id-3 input.sk-toggleable__control:checked~div.sk-toggleable__content {max-height: 200px;max-width: 100%;overflow: auto;}#sk-container-id-3 input.sk-toggleable__control:checked~label.sk-toggleable__label-arrow:before {content: \"▾\";}#sk-container-id-3 div.sk-estimator input.sk-toggleable__control:checked~label.sk-toggleable__label {background-color: #d4ebff;}#sk-container-id-3 div.sk-label input.sk-toggleable__control:checked~label.sk-toggleable__label {background-color: #d4ebff;}#sk-container-id-3 input.sk-hidden--visually {border: 0;clip: rect(1px 1px 1px 1px);clip: rect(1px, 1px, 1px, 1px);height: 1px;margin: -1px;overflow: hidden;padding: 0;position: absolute;width: 1px;}#sk-container-id-3 div.sk-estimator {font-family: monospace;background-color: #f0f8ff;border: 1px dotted black;border-radius: 0.25em;box-sizing: border-box;margin-bottom: 0.5em;}#sk-container-id-3 div.sk-estimator:hover {background-color: #d4ebff;}#sk-container-id-3 div.sk-parallel-item::after {content: \"\";width: 100%;border-bottom: 1px solid gray;flex-grow: 1;}#sk-container-id-3 div.sk-label:hover label.sk-toggleable__label {background-color: #d4ebff;}#sk-container-id-3 div.sk-serial::before {content: \"\";position: absolute;border-left: 1px solid gray;box-sizing: border-box;top: 0;bottom: 0;left: 50%;z-index: 0;}#sk-container-id-3 div.sk-serial {display: flex;flex-direction: column;align-items: center;background-color: white;padding-right: 0.2em;padding-left: 0.2em;position: relative;}#sk-container-id-3 div.sk-item {position: relative;z-index: 1;}#sk-container-id-3 div.sk-parallel {display: flex;align-items: stretch;justify-content: center;background-color: white;position: relative;}#sk-container-id-3 div.sk-item::before, #sk-container-id-3 div.sk-parallel-item::before {content: \"\";position: absolute;border-left: 1px solid gray;box-sizing: border-box;top: 0;bottom: 0;left: 50%;z-index: -1;}#sk-container-id-3 div.sk-parallel-item {display: flex;flex-direction: column;z-index: 1;position: relative;background-color: white;}#sk-container-id-3 div.sk-parallel-item:first-child::after {align-self: flex-end;width: 50%;}#sk-container-id-3 div.sk-parallel-item:last-child::after {align-self: flex-start;width: 50%;}#sk-container-id-3 div.sk-parallel-item:only-child::after {width: 0;}#sk-container-id-3 div.sk-dashed-wrapped {border: 1px dashed gray;margin: 0 0.4em 0.5em 0.4em;box-sizing: border-box;padding-bottom: 0.4em;background-color: white;}#sk-container-id-3 div.sk-label label {font-family: monospace;font-weight: bold;display: inline-block;line-height: 1.2em;}#sk-container-id-3 div.sk-label-container {text-align: center;}#sk-container-id-3 div.sk-container {/* jupyter's `normalize.less` sets `[hidden] { display: none; }` but bootstrap.min.css set `[hidden] { display: none !important; }` so we also need the `!important` here to be able to override the default hidden behavior on the sphinx rendered scikit-learn.org. See: https://github.com/scikit-learn/scikit-learn/issues/21755 */display: inline-block !important;position: relative;}#sk-container-id-3 div.sk-text-repr-fallback {display: none;}</style><div id=\"sk-container-id-3\" class=\"sk-top-container\"><div class=\"sk-text-repr-fallback\"><pre>RandomForestRegressor()</pre><b>In a Jupyter environment, please rerun this cell to show the HTML representation or trust the notebook. <br />On GitHub, the HTML representation is unable to render, please try loading this page with nbviewer.org.</b></div><div class=\"sk-container\" hidden><div class=\"sk-item\"><div class=\"sk-estimator sk-toggleable\"><input class=\"sk-toggleable__control sk-hidden--visually\" id=\"sk-estimator-id-5\" type=\"checkbox\" checked><label for=\"sk-estimator-id-5\" class=\"sk-toggleable__label sk-toggleable__label-arrow\">RandomForestRegressor</label><div class=\"sk-toggleable__content\"><pre>RandomForestRegressor()</pre></div></div></div></div></div>"
      ],
      "text/plain": [
       "RandomForestRegressor()"
      ]
     },
     "execution_count": 48,
     "metadata": {},
     "output_type": "execute_result"
    }
   ],
   "source": [
    "lr_log.fit(X=X_train_scaled_log, y=y_train_log)\n",
    "svr_linear_log.fit(X=X_train_scaled_log, y=y_train_log)\n",
    "svr_rbf_log.fit(X=X_train_scaled_log, y=y_train_log)\n",
    "rf_log.fit(X=X_train_scaled_log, y=y_train_log)"
   ]
  },
  {
   "cell_type": "code",
   "execution_count": 49,
   "id": "3991e6b1",
   "metadata": {},
   "outputs": [],
   "source": [
    "y_test_pred_lr_log = lr_log.predict(X_test_scaled_log)\n",
    "y_test_pred_svr_linear_log = svr_linear_log.predict(X_test_scaled_log)\n",
    "y_test_pred_svr_rbf_log = svr_rbf_log.predict(X_test_scaled_log)\n",
    "y_test_pred_rf_log = rf_log.predict(X_test_scaled_log)"
   ]
  },
  {
   "cell_type": "code",
   "execution_count": 50,
   "id": "cbc5c0f0",
   "metadata": {},
   "outputs": [],
   "source": [
    "r2_lr_log = r2_score(y_test_log, y_test_pred_lr_log)\n",
    "r2_svr_linear_log = r2_score(y_test_log, y_test_pred_svr_linear_log)\n",
    "r2_svr_rbf_log = r2_score(y_test_log, y_test_pred_svr_rbf_log)\n",
    "r2_rf_log = r2_score(y_test_log, y_test_pred_rf_log)"
   ]
  },
  {
   "cell_type": "code",
   "execution_count": 51,
   "id": "fb32e59e",
   "metadata": {},
   "outputs": [
    {
     "name": "stdout",
     "output_type": "stream",
     "text": [
      "R-squared Linear Regression after log transform: 0.03\n",
      "R-squared SVR-Linear after log transform: 0.03\n",
      "R-squared SVR-RBF after log transform: 0.1\n",
      "R-squared Random after before log transform: -0.02\n"
     ]
    }
   ],
   "source": [
    "print(f'R-squared Linear Regression after log transform: {r2_lr_log.round(2)}')\n",
    "print(f'R-squared SVR-Linear after log transform: {r2_svr_linear_log.round(2)}')\n",
    "print(f'R-squared SVR-RBF after log transform: {r2_svr_rbf_log.round(2)}')\n",
    "print(f'R-squared Random after before log transform: {r2_rf_log.round(2)}')"
   ]
  },
  {
   "cell_type": "markdown",
   "id": "ef2b0270",
   "metadata": {},
   "source": [
    "By comparing the before and after log transformation to the data, we can see that the Support Vector Regression algorithm with RBF kernel gives the best R-squared value between the real test data and predicted test result."
   ]
  },
  {
   "cell_type": "markdown",
   "id": "3c89b40f",
   "metadata": {},
   "source": [
    "### Collinear Variable Removal"
   ]
  },
  {
   "cell_type": "markdown",
   "id": "ceb56914",
   "metadata": {},
   "source": [
    "In the last stage, we will remove one of the collinear features (`ratings_count` and `text_review_count`) from the training data. Personally, I choose to remove `text_review_count` since this variable has lower correlation to the target data."
   ]
  },
  {
   "cell_type": "markdown",
   "id": "b518f004",
   "metadata": {},
   "source": [
    "#### Data Splitting"
   ]
  },
  {
   "cell_type": "code",
   "execution_count": 52,
   "id": "df02715c",
   "metadata": {},
   "outputs": [],
   "source": [
    "X_rem = df_title_auth_num[['ratings_count_log', 'num_pages_log']]\n",
    "y_rem = df_title_auth_num['average_rating']\n",
    "\n",
    "X_train_rem, X_test_rem, y_train_rem, y_test_rem = train_test_split(X_rem, y_rem, test_size = 0.2, random_state=1)"
   ]
  },
  {
   "cell_type": "markdown",
   "id": "d3f2d3e8",
   "metadata": {},
   "source": [
    "#### Feature Scalling"
   ]
  },
  {
   "cell_type": "code",
   "execution_count": 53,
   "id": "dc7f4a10",
   "metadata": {},
   "outputs": [],
   "source": [
    "scaler_rem = scale(X_train_rem)\n",
    "X_train_scaled_rem = scaler_rem.transform(X_train_rem)\n",
    "X_test_scaled_rem = scaler_rem.transform(X_test_rem)"
   ]
  },
  {
   "cell_type": "code",
   "execution_count": 54,
   "id": "4eb0a1e0",
   "metadata": {},
   "outputs": [],
   "source": [
    "lr_rem = LinearRegression()\n",
    "svr_linear_rem = SVR(kernel = 'linear')\n",
    "svr_rbf_rem = SVR(kernel = 'rbf')\n",
    "rf_rem = RandomForestRegressor()"
   ]
  },
  {
   "cell_type": "code",
   "execution_count": 55,
   "id": "d2f458ba",
   "metadata": {},
   "outputs": [
    {
     "data": {
      "text/html": [
       "<style>#sk-container-id-4 {color: black;}#sk-container-id-4 pre{padding: 0;}#sk-container-id-4 div.sk-toggleable {background-color: white;}#sk-container-id-4 label.sk-toggleable__label {cursor: pointer;display: block;width: 100%;margin-bottom: 0;padding: 0.3em;box-sizing: border-box;text-align: center;}#sk-container-id-4 label.sk-toggleable__label-arrow:before {content: \"▸\";float: left;margin-right: 0.25em;color: #696969;}#sk-container-id-4 label.sk-toggleable__label-arrow:hover:before {color: black;}#sk-container-id-4 div.sk-estimator:hover label.sk-toggleable__label-arrow:before {color: black;}#sk-container-id-4 div.sk-toggleable__content {max-height: 0;max-width: 0;overflow: hidden;text-align: left;background-color: #f0f8ff;}#sk-container-id-4 div.sk-toggleable__content pre {margin: 0.2em;color: black;border-radius: 0.25em;background-color: #f0f8ff;}#sk-container-id-4 input.sk-toggleable__control:checked~div.sk-toggleable__content {max-height: 200px;max-width: 100%;overflow: auto;}#sk-container-id-4 input.sk-toggleable__control:checked~label.sk-toggleable__label-arrow:before {content: \"▾\";}#sk-container-id-4 div.sk-estimator input.sk-toggleable__control:checked~label.sk-toggleable__label {background-color: #d4ebff;}#sk-container-id-4 div.sk-label input.sk-toggleable__control:checked~label.sk-toggleable__label {background-color: #d4ebff;}#sk-container-id-4 input.sk-hidden--visually {border: 0;clip: rect(1px 1px 1px 1px);clip: rect(1px, 1px, 1px, 1px);height: 1px;margin: -1px;overflow: hidden;padding: 0;position: absolute;width: 1px;}#sk-container-id-4 div.sk-estimator {font-family: monospace;background-color: #f0f8ff;border: 1px dotted black;border-radius: 0.25em;box-sizing: border-box;margin-bottom: 0.5em;}#sk-container-id-4 div.sk-estimator:hover {background-color: #d4ebff;}#sk-container-id-4 div.sk-parallel-item::after {content: \"\";width: 100%;border-bottom: 1px solid gray;flex-grow: 1;}#sk-container-id-4 div.sk-label:hover label.sk-toggleable__label {background-color: #d4ebff;}#sk-container-id-4 div.sk-serial::before {content: \"\";position: absolute;border-left: 1px solid gray;box-sizing: border-box;top: 0;bottom: 0;left: 50%;z-index: 0;}#sk-container-id-4 div.sk-serial {display: flex;flex-direction: column;align-items: center;background-color: white;padding-right: 0.2em;padding-left: 0.2em;position: relative;}#sk-container-id-4 div.sk-item {position: relative;z-index: 1;}#sk-container-id-4 div.sk-parallel {display: flex;align-items: stretch;justify-content: center;background-color: white;position: relative;}#sk-container-id-4 div.sk-item::before, #sk-container-id-4 div.sk-parallel-item::before {content: \"\";position: absolute;border-left: 1px solid gray;box-sizing: border-box;top: 0;bottom: 0;left: 50%;z-index: -1;}#sk-container-id-4 div.sk-parallel-item {display: flex;flex-direction: column;z-index: 1;position: relative;background-color: white;}#sk-container-id-4 div.sk-parallel-item:first-child::after {align-self: flex-end;width: 50%;}#sk-container-id-4 div.sk-parallel-item:last-child::after {align-self: flex-start;width: 50%;}#sk-container-id-4 div.sk-parallel-item:only-child::after {width: 0;}#sk-container-id-4 div.sk-dashed-wrapped {border: 1px dashed gray;margin: 0 0.4em 0.5em 0.4em;box-sizing: border-box;padding-bottom: 0.4em;background-color: white;}#sk-container-id-4 div.sk-label label {font-family: monospace;font-weight: bold;display: inline-block;line-height: 1.2em;}#sk-container-id-4 div.sk-label-container {text-align: center;}#sk-container-id-4 div.sk-container {/* jupyter's `normalize.less` sets `[hidden] { display: none; }` but bootstrap.min.css set `[hidden] { display: none !important; }` so we also need the `!important` here to be able to override the default hidden behavior on the sphinx rendered scikit-learn.org. See: https://github.com/scikit-learn/scikit-learn/issues/21755 */display: inline-block !important;position: relative;}#sk-container-id-4 div.sk-text-repr-fallback {display: none;}</style><div id=\"sk-container-id-4\" class=\"sk-top-container\"><div class=\"sk-text-repr-fallback\"><pre>RandomForestRegressor()</pre><b>In a Jupyter environment, please rerun this cell to show the HTML representation or trust the notebook. <br />On GitHub, the HTML representation is unable to render, please try loading this page with nbviewer.org.</b></div><div class=\"sk-container\" hidden><div class=\"sk-item\"><div class=\"sk-estimator sk-toggleable\"><input class=\"sk-toggleable__control sk-hidden--visually\" id=\"sk-estimator-id-6\" type=\"checkbox\" checked><label for=\"sk-estimator-id-6\" class=\"sk-toggleable__label sk-toggleable__label-arrow\">RandomForestRegressor</label><div class=\"sk-toggleable__content\"><pre>RandomForestRegressor()</pre></div></div></div></div></div>"
      ],
      "text/plain": [
       "RandomForestRegressor()"
      ]
     },
     "execution_count": 55,
     "metadata": {},
     "output_type": "execute_result"
    }
   ],
   "source": [
    "lr_rem.fit(X=X_train_scaled_rem, y=y_train_rem)\n",
    "svr_linear_rem.fit(X=X_train_scaled_rem, y=y_train_rem)\n",
    "svr_rbf_rem.fit(X=X_train_scaled_rem, y=y_train_rem)\n",
    "rf_rem.fit(X=X_train_scaled_rem, y=y_train_rem)"
   ]
  },
  {
   "cell_type": "code",
   "execution_count": 56,
   "id": "8620e912",
   "metadata": {},
   "outputs": [],
   "source": [
    "y_test_pred_lr_rem = lr_rem.predict(X_test_scaled_rem)\n",
    "y_test_pred_svr_linear_rem = svr_linear_rem.predict(X_test_scaled_rem)\n",
    "y_test_pred_svr_rbf_rem = svr_rbf_rem.predict(X_test_scaled_rem)\n",
    "y_test_pred_rf_rem = rf_rem.predict(X_test_scaled_rem)"
   ]
  },
  {
   "cell_type": "code",
   "execution_count": 57,
   "id": "42838637",
   "metadata": {},
   "outputs": [],
   "source": [
    "r2_lr_rem = r2_score(y_test_rem, y_test_pred_lr_rem)\n",
    "r2_svr_linear_rem = r2_score(y_test_rem, y_test_pred_svr_linear_rem)\n",
    "r2_svr_rbf_rem = r2_score(y_test_rem, y_test_pred_svr_rbf_rem)\n",
    "r2_rf_rem = r2_score(y_test_rem, y_test_pred_rf_rem)"
   ]
  },
  {
   "cell_type": "code",
   "execution_count": 58,
   "id": "4f1d7547",
   "metadata": {},
   "outputs": [
    {
     "name": "stdout",
     "output_type": "stream",
     "text": [
      "R-squared Linear Regression after log transform and collinear variable removal: 0.0\n",
      "R-squared SVR-Linear after log transform and collinear variable removal: 0.01\n",
      "R-squared SVR-RBF after log transform and collinear variable removal: 0.06\n",
      "R-squared Random after before log transform and collinear variable removal: -0.14\n"
     ]
    }
   ],
   "source": [
    "print(f'R-squared Linear Regression after log transform and collinear variable removal: {r2_lr_rem.round(2)}')\n",
    "print(f'R-squared SVR-Linear after log transform and collinear variable removal: {r2_svr_linear_rem.round(2)}')\n",
    "print(f'R-squared SVR-RBF after log transform and collinear variable removal: {r2_svr_rbf_rem.round(2)}')\n",
    "print(f'R-squared Random after before log transform and collinear variable removal: {r2_rf_rem.round(2)}')"
   ]
  },
  {
   "cell_type": "markdown",
   "id": "e64c6aec",
   "metadata": {},
   "source": [
    "Counterintuitively, the collinear variable removal makes the model performance lower. So, up until this point, the SVR with RBF kernel still the best predictor to the target variable"
   ]
  },
  {
   "cell_type": "code",
   "execution_count": null,
   "id": "4fc31dba-9ecc-4f83-b2e7-b971ea2f59a5",
   "metadata": {},
   "outputs": [],
   "source": []
  }
 ],
 "metadata": {
  "kernelspec": {
   "display_name": "Python 3 (ipykernel)",
   "language": "python",
   "name": "python3"
  },
  "language_info": {
   "codemirror_mode": {
    "name": "ipython",
    "version": 3
   },
   "file_extension": ".py",
   "mimetype": "text/x-python",
   "name": "python",
   "nbconvert_exporter": "python",
   "pygments_lexer": "ipython3",
   "version": "3.9.0"
  }
 },
 "nbformat": 4,
 "nbformat_minor": 5
}
